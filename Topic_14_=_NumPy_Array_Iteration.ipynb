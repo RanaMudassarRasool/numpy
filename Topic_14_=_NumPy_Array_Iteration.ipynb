{
  "nbformat": 4,
  "nbformat_minor": 0,
  "metadata": {
    "colab": {
      "private_outputs": true,
      "provenance": [],
      "include_colab_link": true
    },
    "kernelspec": {
      "name": "python3",
      "display_name": "Python 3"
    },
    "language_info": {
      "name": "python"
    }
  },
  "cells": [
    {
      "cell_type": "markdown",
      "metadata": {
        "id": "view-in-github",
        "colab_type": "text"
      },
      "source": [
        "<a href=\"https://colab.research.google.com/github/ranamaddy/numpy/blob/main/Topic_14_%3D_NumPy_Array_Iteration.ipynb\" target=\"_parent\"><img src=\"https://colab.research.google.com/assets/colab-badge.svg\" alt=\"Open In Colab\"/></a>"
      ]
    },
    {
      "cell_type": "markdown",
      "source": [
        "# **Topic 14= NumPy Array Iteration**\n",
        "\n",
        "NumPy is a Python library used for numerical and scientific computing. It provides a powerful array object for efficiently storing and manipulating large arrays of data. When working with NumPy arrays, we often need to go through each element of the array and perform some computation or operation on it. This is called array iteration.\n",
        "\n",
        "We can iterate over a NumPy array using loops such as for and while loops, or using built-in functions like nditer() and flat(). nditer() allows us to iterate over an array in a specific order, while flat() returns a one-dimensional iterator that iterates over all the elements of the array.\n",
        "\n",
        "Efficient iteration over NumPy arrays is essential for fast and reliable code, especially when working with large datasets. Therefore, it's important to choose the right method of iteration that suits our needs and optimizes our code."
      ],
      "metadata": {
        "id": "UoQ-xZCWhFJn"
      }
    },
    {
      "cell_type": "markdown",
      "source": [
        "**Example 01: Iterating over a 1-dimensional array:**"
      ],
      "metadata": {
        "id": "gb3MZa48PHwU"
      }
    },
    {
      "cell_type": "code",
      "execution_count": null,
      "metadata": {
        "id": "O6s_wkg_hEa-"
      },
      "outputs": [],
      "source": [
        "import numpy as np\n",
        "arr = np.array([1, 2, 3])\n",
        "for x in arr:\n",
        "  print(x)"
      ]
    },
    {
      "cell_type": "markdown",
      "source": [
        "**Example 02: Iterating over a 2-dimensional array:**"
      ],
      "metadata": {
        "id": "SJz3vIiCQBpw"
      }
    },
    {
      "cell_type": "code",
      "source": [
        "import numpy as np\n",
        "arr = np.array([[1, 2], [3, 4], [5, 6]])\n",
        "for x in arr:\n",
        "  print(x)"
      ],
      "metadata": {
        "id": "Gii6CQs_QKwJ"
      },
      "execution_count": null,
      "outputs": []
    },
    {
      "cell_type": "markdown",
      "source": [
        "**Example 03: Iterating over each element of a 2-dimensional array:**"
      ],
      "metadata": {
        "id": "ty6gTFlMQbu_"
      }
    },
    {
      "cell_type": "code",
      "source": [
        "import numpy as np\n",
        "arr = np.array([[1, 2], [3, 4], [5, 6]])\n",
        "for x in np.nditer(arr):\n",
        "  print(x)"
      ],
      "metadata": {
        "id": "QG7q8g9yQl7p"
      },
      "execution_count": null,
      "outputs": []
    },
    {
      "cell_type": "markdown",
      "source": [
        "**Explanation**\n",
        "\n",
        "It creates a two-dimensional NumPy array called \"arr\" with three rows and two columns. Each row contains two elements.\n",
        "\n",
        "The for loop then iterates over each element in the array using the \"np.nditer()\" function. This function is used to iterate over multi-dimensional arrays in a specific order, which in this case is the default order (row-major).\n",
        "\n",
        "The print statement inside the loop prints out each element of the array, one at a time, to the console.\n",
        "\n",
        "So the output of this code would be:\n",
        "\n",
        "1\n",
        "2\n",
        "3\n",
        "4\n",
        "5\n",
        "6\n",
        "\n",
        "Note that the elements are printed out in the order they are accessed by the iterator, which is row-major order in this case.\n",
        "  \n",
        "  **nditer means**\n",
        "\n",
        "where(\"nditer\" is a term commonly used in programming, specifically in Python's NumPy library. It refers to a function that is used to iterate over arrays in a multidimensional manner. The \"nd\" in \"nditer\" stands for \"n-dimensional\", meaning that the function can handle arrays with any number of dimensions. The \"iter\" part of the name indicates that the function is used for iteration purposes, i.e., to traverse through the array elements one by one. The nditer function allows for various iteration behaviors such as specific order, skipping or changing elements, etc.)"
      ],
      "metadata": {
        "id": "NIv_KBgm5k5Z"
      }
    },
    {
      "cell_type": "markdown",
      "source": [
        "**Example 04: Iterating over a 3-dimensional array:**"
      ],
      "metadata": {
        "id": "255H4UjtSm6D"
      }
    },
    {
      "cell_type": "code",
      "source": [
        "import numpy as np\n",
        "arr = np.array([[[1, 2], [3, 4]], [[5, 6], [7, 8]]])\n",
        "for x in arr:\n",
        "  print(x)"
      ],
      "metadata": {
        "id": "Xy0y2lqMUVvZ"
      },
      "execution_count": null,
      "outputs": []
    },
    {
      "cell_type": "markdown",
      "source": [
        "**Example 05: Iterating over each element of a 3-dimensional array:**"
      ],
      "metadata": {
        "id": "pMxJJmVSUpL0"
      }
    },
    {
      "cell_type": "code",
      "source": [
        "import numpy as np\n",
        "arr = np.array([[[1, 2], [3, 4]], [[5, 6], [7, 8]]])\n",
        "for x in np.nditer(arr):\n",
        "  print(x)"
      ],
      "metadata": {
        "id": "T8sPvaFOUu1w"
      },
      "execution_count": null,
      "outputs": []
    },
    {
      "cell_type": "markdown",
      "source": [
        "**Example 06: Iterating over a 2-dimensional array in reverse:**"
      ],
      "metadata": {
        "id": "2-Whwl7ScIEg"
      }
    },
    {
      "cell_type": "code",
      "source": [
        "import numpy as np\n",
        "arr = np.array([[1, 2], [3, 4], [5, 6]])\n",
        "for x in np.flipud(arr):\n",
        "  print(x)"
      ],
      "metadata": {
        "id": "CCrZ5okDcPNU"
      },
      "execution_count": null,
      "outputs": []
    },
    {
      "cell_type": "markdown",
      "source": [
        "**Explanation**\n",
        "\n",
        "It creates a two-dimensional NumPy array called \"arr\" with three rows and two columns. Each row contains two elements.\n",
        "\n",
        "The for loop uses the \"np.flipud()\" function to reverse the order of the rows in the array. This means that the bottom row becomes the top row, and so on.\n",
        "\n",
        "The print statement inside the loop prints out each row of the array, one at a time, to the console.\n",
        "\n",
        "So the output of this code would be:\n",
        "\n",
        "[5 6]\n",
        "[3 4]\n",
        "[1 2]\n",
        "\n",
        "Note that the rows are printed out in the reverse order they appear in the original array due to the use of \"np.flipud()\".\n",
        "\n",
        "**flipud means**\n",
        "\n",
        "wherer(\"flipud\" is a term commonly used in programming, specifically in Python's NumPy library. It refers to a function that is used to flip or invert an array along its vertical axis, also known as the y-axis. The \"ud\" in \"flipud\" stands for \"up-down\", indicating that the function flips the array vertically. The flipud function can be used to reverse the order of rows in a 2-dimensional array or to flip the order of elements in a 1-dimensional array along the vertical axis.)"
      ],
      "metadata": {
        "id": "6VPTCw316mkv"
      }
    },
    {
      "cell_type": "markdown",
      "source": [
        "**Example 07: Iterating over a 2-dimensional array in a specific order:**"
      ],
      "metadata": {
        "id": "TrWC175zckst"
      }
    },
    {
      "cell_type": "code",
      "source": [
        "import numpy as np\n",
        "arr = np.array([[1, 2], [3, 4], [5, 6]])\n",
        "print(\"original array:\",arr)\n",
        "print()\n",
        "for x in np.nditer(arr, order='F'):\n",
        "  print(x)"
      ],
      "metadata": {
        "id": "-sGq6AL7cp5a"
      },
      "execution_count": null,
      "outputs": []
    },
    {
      "cell_type": "markdown",
      "source": [
        "**Explanation**\n",
        "\n",
        "It creates a two-dimensional NumPy array called \"arr\" with three rows and two columns. Each row contains two elements.\n",
        "\n",
        "The for loop uses the \"np.nditer()\" function to iterate over the array in column-major order. The 'F' parameter specifies that the order of iteration should be column-major, which means that the loop will iterate over each column first, and then move to the next column.\n",
        "\n",
        "The print statement inside the loop prints out each element of the array, one at a time, to the console.\n",
        "\n",
        "So the output of this code would be:\n",
        "\n",
        "1\n",
        "3\n",
        "5\n",
        "2\n",
        "4\n",
        "6\n",
        "\n",
        "Note that the elements are printed out in the order they are accessed by the iterator, which is column-major order in this case."
      ],
      "metadata": {
        "id": "c5K0smv27-y1"
      }
    },
    {
      "cell_type": "markdown",
      "source": [
        "**Example 08:**"
      ],
      "metadata": {
        "id": "_CJ_upvsdY8s"
      }
    },
    {
      "cell_type": "code",
      "source": [
        "import numpy as np\n",
        "arr = np.array([[1, 2], [3, 4], [5, 6]])\n",
        "for x in np.nditer(arr, order='C'):\n",
        "  print(x)"
      ],
      "metadata": {
        "id": "OmxJZeu4djOG"
      },
      "execution_count": null,
      "outputs": []
    },
    {
      "cell_type": "markdown",
      "source": [
        "**Explanation**\n",
        "\n",
        "It creates a two-dimensional NumPy array called \"arr\" with three rows and two columns. Each row contains two elements.\n",
        "\n",
        "The for loop uses the \"np.nditer()\" function to iterate over the array in row-major order. The 'C' parameter specifies that the order of iteration should be row-major, which means that the loop will iterate over each row first, and then move to the next row.\n",
        "\n",
        "The print statement inside the loop prints out each element of the array, one at a time, to the console.\n",
        "\n",
        "So the output of this code would be:\n",
        "\n",
        "1\n",
        "2\n",
        "3\n",
        "4\n",
        "5\n",
        "6\n",
        "\n",
        "Note that the elements are printed out in the order they are accessed by the iterator, which is row-major order in this case. This is the default order for the iterator."
      ],
      "metadata": {
        "id": "BsGW6BAR-THT"
      }
    },
    {
      "cell_type": "markdown",
      "source": [
        "**Example 09: Iterating over a 2-dimensional array and modifying each element:**"
      ],
      "metadata": {
        "id": "gb_E0bb8drm5"
      }
    },
    {
      "cell_type": "code",
      "source": [
        "import numpy as np\n",
        "arr = np.array([[1, 2], [3, 4], [5, 6]])\n",
        "for x in np.nditer(arr, op_flags=['readwrite']):\n",
        "  x[...] = 2 * x;\n",
        "  print(x,end = ' ')"
      ],
      "metadata": {
        "id": "uHAWJF_aeAPP"
      },
      "execution_count": null,
      "outputs": []
    },
    {
      "cell_type": "markdown",
      "source": [
        "**Explanation**\n",
        "\n",
        "This is a Python code that uses the NumPy library. It defines a two-dimensional NumPy array called \"arr\" that contains three rows and two columns.\n",
        "\n",
        "The code then uses a loop to iterate over all the elements in the array using the \"np.nditer\" function. The \"op_flags=['readwrite']\" argument specifies that the loop can both read and write to each element.\n",
        "\n",
        "Inside the loop, each element is multiplied by 2 using the expression \"2 * x\", and then the updated value is stored back into the original element using the notation \"x[...] = 2 * x\".\n",
        "\n",
        "Finally, the loop prints out each element in the updated array on a single line, separated by spaces, using the \"print\" function with the argument \"end = ' '\"."
      ],
      "metadata": {
        "id": "abp4y20xAA1B"
      }
    },
    {
      "cell_type": "markdown",
      "source": [
        "**Example 10:**"
      ],
      "metadata": {
        "id": "zdvM8oDVgM_3"
      }
    },
    {
      "cell_type": "code",
      "source": [
        "import numpy as np\n",
        "arr = np.array([[1, 2], [3, 4], [5, 6]])\n",
        "for x in np.nditer(arr, op_flags=['readwrite']):\n",
        "  x[...] = x * 2\n",
        "print(arr)"
      ],
      "metadata": {
        "id": "cFyPGBOPgUyj"
      },
      "execution_count": null,
      "outputs": []
    },
    {
      "cell_type": "markdown",
      "source": [
        "**Explanation**\n",
        "This is a Python code that uses the NumPy library. It defines a two-dimensional NumPy array called \"arr\" that contains three rows and two columns.\n",
        "\n",
        "The code then uses a loop to iterate over all the elements in the array using the \"np.nditer\" function. The \"op_flags=['readwrite']\" argument specifies that the loop can both read and write to each element.\n",
        "\n",
        "Inside the loop, each element is multiplied by 2 using the expression \"x * 2\", and then the updated value is stored back into the original element using the notation \"x[...] = x * 2\".\n",
        "\n",
        "Finally, after the loop is completed, the updated \"arr\" array is printed using the \"print\" function. This will show the updated values for each element in the array, where each element has been multiplied by 2."
      ],
      "metadata": {
        "id": "2QG_fKSAAUhF"
      }
    }
  ]
}