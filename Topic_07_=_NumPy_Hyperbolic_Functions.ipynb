{
  "nbformat": 4,
  "nbformat_minor": 0,
  "metadata": {
    "colab": {
      "private_outputs": true,
      "provenance": [],
      "collapsed_sections": [
        "2T72jMjUimPV"
      ],
      "include_colab_link": true
    },
    "kernelspec": {
      "name": "python3",
      "display_name": "Python 3"
    },
    "language_info": {
      "name": "python"
    }
  },
  "cells": [
    {
      "cell_type": "markdown",
      "metadata": {
        "id": "view-in-github",
        "colab_type": "text"
      },
      "source": [
        "<a href=\"https://colab.research.google.com/github/ranamaddy/numpy/blob/main/Topic_07_%3D_NumPy_Hyperbolic_Functions.ipynb\" target=\"_parent\"><img src=\"https://colab.research.google.com/assets/colab-badge.svg\" alt=\"Open In Colab\"/></a>"
      ]
    },
    {
      "cell_type": "markdown",
      "source": [
        "# **Topic 07  = NumPy Hyperbolic Functions**\n",
        "\n",
        "NumPy is a popular library in Python used for scientific computing, particularly in the fields of data analysis and machine learning. One of the many features of NumPy is its implementation of hyperbolic functions.\n",
        "\n",
        "Hyperbolic functions are a set of six functions that are analogous to the trigonometric functions. Just as the sine, cosine, and tangent functions are used to describe the relationships between angles and sides of triangles, the hyperbolic functions are used to describe the relationships between the sides of a hyperbola.\n",
        "\n",
        "The six hyperbolic functions that are available in NumPy are:\n",
        "\n",
        "1. numpy.sinh(x): Returns the hyperbolic sine of x.\n",
        "2. numpy.cosh(x): Returns the hyperbolic cosine of x.\n",
        "3. numpy.tanh(x): Returns the hyperbolic tangent of x.\n",
        "4. numpy.arcsinh(x): Returns the inverse hyperbolic sine of x.\n",
        "5. numpy.arccosh(x): Returns the inverse hyperbolic cosine of x.\n",
        "6. numpy.arctanh(x): Returns the inverse hyperbolic tangent of x.\n",
        "\n",
        "These functions can be useful in a variety of applications, such as in statistics, physics, and engineering. For example, the hyperbolic functions are used to describe the shape of a catenary curve, which is the curve formed by a hanging chain or cable. They can also be used to model various physical phenomena, such as the behavior of electrical circuits and the motion of particles in a magnetic field.\n",
        "\n",
        "In summary, NumPy provides a set of hyperbolic functions that can be used for a variety of applications in scientific computing. These functions are analogous to the trigonometric functions and can be used to describe relationships between the sides of a hyperbola.\n",
        "\n"
      ],
      "metadata": {
        "id": "2T72jMjUimPV"
      }
    },
    {
      "cell_type": "markdown",
      "source": [
        "**Example 1: Computing the Hyperbolic Sine**\n",
        "\n",
        "The hyperbolic sine function is denoted as \"sinh\" and is defined as:\n",
        "\n",
        "sinh(x) = (e^x - e^(-x))/2\n",
        "\n",
        "where e is the mathematical constant, also known as Euler's number, approximately equal to 2.71828.\n",
        "\n",
        "To compute the value of sinh(x) for a given value of x, we can simply substitute the value of x in the above formula and evaluate it using a calculator or a programming language.\n",
        "\n",
        "For example, let's compute the value of sinh(2.5):\n",
        "\n",
        "sinh(2.5) = (e^2.5 - e^(-2.5))/2\n",
        "\n",
        "Using a calculator or a programming language, we can evaluate e^2.5 and e^(-2.5) separately, and then substitute the values in the above formula to get the final answer:\n",
        "\n",
        "e^2.5 ≈ 12.1824939607\n",
        "\n",
        "e^(-2.5) ≈ 0.0820849986\n",
        "\n",
        "sinh(2.5) ≈ (12.1824939607 - 0.0820849986)/2 ≈ 6.0496474806\n",
        "\n",
        "Therefore, the value of sinh(2.5) is approximately equal to 6.0496474806."
      ],
      "metadata": {
        "id": "GDdM1Bd2kKZX"
      }
    },
    {
      "cell_type": "markdown",
      "source": [
        "**Example 01**"
      ],
      "metadata": {
        "id": "_kG9B_Pp9oss"
      }
    },
    {
      "cell_type": "code",
      "execution_count": null,
      "metadata": {
        "id": "7o-904COhfby"
      },
      "outputs": [],
      "source": [
        "import numpy as np\n",
        "x = 2.5\n",
        "hyp = np.sinh(x)\n",
        "print(hyp) "
      ]
    },
    {
      "cell_type": "markdown",
      "source": [
        "**Example 02**"
      ],
      "metadata": {
        "id": "kL45jxzW-f_c"
      }
    },
    {
      "cell_type": "code",
      "source": [
        "import numpy as np\n",
        "x = np.array([2.5, 3.0, 4.2, 1.8])\n",
        "hyp = np.sinh(x)\n",
        "print(hyp)"
      ],
      "metadata": {
        "id": "oF03Ce62-9MA"
      },
      "execution_count": null,
      "outputs": []
    },
    {
      "cell_type": "markdown",
      "source": [
        "**Example 03**"
      ],
      "metadata": {
        "id": "iwM6EM1S_Zl3"
      }
    },
    {
      "cell_type": "code",
      "source": [
        "import numpy as np\n",
        "a = np.array([[2.5, 3.0], [4.2, 1.8]])\n",
        "print(\"Original Array:\", a)\n",
        "print()\n",
        "hpy = np.sinh(x)\n",
        "print(\"Values of Sinh:\",hpy) "
      ],
      "metadata": {
        "id": "nVUNjSQz_hec"
      },
      "execution_count": null,
      "outputs": []
    },
    {
      "cell_type": "markdown",
      "source": [
        "**Explanation**\n",
        "\n",
        "This code uses the numpy library in Python to calculate the hyperbolic sine of a matrix of values.\n",
        "\n",
        "1. The first line defines a 2D array of numbers [[2.5, 3.0], [4.2, 1.8]] and assigns it to a variable named a.\n",
        "\n",
        "2. The second line prints the original array a to the console.\n",
        "\n",
        "3. The third line calculates the hyperbolic sine of each element in the array a (which is actually an array of numbers that was defined earlier, not the x variable), and returns a new array with the results. This new array is then assigned to a variable named hpy.\n",
        "\n",
        "The fourth line prints the values stored in hpy to the console.\n",
        "\n",
        "Note that the output of hpy is a 1D array, which contains the hyperbolic sine of each element in the flattened a array."
      ],
      "metadata": {
        "id": "YzPXFXWEA227"
      }
    },
    {
      "cell_type": "markdown",
      "source": [
        "**Example 04**"
      ],
      "metadata": {
        "id": "wTWUIuA9LeDM"
      }
    },
    {
      "cell_type": "code",
      "source": [
        "import numpy as np\n",
        "z = 1 + 2j\n",
        "hyp = np.sinh(z)\n",
        "print(hyp)"
      ],
      "metadata": {
        "id": "gp0HVVSBLi_T"
      },
      "execution_count": null,
      "outputs": []
    },
    {
      "cell_type": "markdown",
      "source": [
        "**Example 05**"
      ],
      "metadata": {
        "id": "krwPY4-bLyMU"
      }
    },
    {
      "cell_type": "code",
      "source": [
        "import numpy as np\n",
        "theta = np.pi/4\n",
        "hyp = np.sinh(theta)\n",
        "print(hyp) "
      ],
      "metadata": {
        "id": "6j_m0og2L2E0"
      },
      "execution_count": null,
      "outputs": []
    },
    {
      "cell_type": "markdown",
      "source": [
        "**Example 06**"
      ],
      "metadata": {
        "id": "x_NCxGtDMEh2"
      }
    },
    {
      "cell_type": "code",
      "source": [
        "import numpy as np\n",
        "deg = 45\n",
        "rad = np.deg2rad(deg)\n",
        "print(\"Radian Values:\",rad)\n",
        "print()\n",
        "hyp = np.sinh(theta)\n",
        "print(\"Values of Sinh:\",hyp)"
      ],
      "metadata": {
        "id": "xwstcRNhMJe3"
      },
      "execution_count": null,
      "outputs": []
    },
    {
      "cell_type": "markdown",
      "source": [
        "**Explanation**\n",
        "\n",
        "The code you provided first sets the value of an angle deg to 45, and then converts it from degrees to radians using **numpy.deg2rad()**, storing the result in the variable rad. The first print() statement outputs the value of rad, which is 0.7853981633974483, the equivalent angle in radians.\n",
        "\n",
        "The next few lines of code compute the hyperbolic sine of a variable theta, which is not defined in this example. It seems like this line of code should use the variable rad instead of theta, since we want to compute the hyperbolic sine of the angle in radians. The output of this code would be an error, since theta is not defined.\n",
        "\n",
        "To fix the code, we could replace the line **hyp = np.sinh(theta) **with **hyp = np.sinh(rad)**, so that we compute the hyperbolic sine of the angle rad in radians."
      ],
      "metadata": {
        "id": "vSXjW3ZLNrtl"
      }
    },
    {
      "cell_type": "markdown",
      "source": [
        "**Example 07**"
      ],
      "metadata": {
        "id": "mDaBGpNbMhul"
      }
    },
    {
      "cell_type": "code",
      "source": [
        "import numpy as np\n",
        "x = 1e-6\n",
        "hyp = np.sinh(x)\n",
        "print(hyp) "
      ],
      "metadata": {
        "id": "AUlj3rFCMlyE"
      },
      "execution_count": null,
      "outputs": []
    },
    {
      "cell_type": "markdown",
      "source": [
        "**Explanation**\n",
        "\n",
        "The code you provided computes the hyperbolic sine of a very small value x using the numpy.sinh() function and stores the result in the variable hyp. In this example, x is 1e-6, which is a small positive number in scientific notation (1 times 10 to the power of -6). The output of this code is a scalar value 1.0000000000005e-06, which represents the hyperbolic sine of x. The e-06 notation indicates that the result is in scientific notation with a power of -6, meaning that the actual value is 1.0000000000005 multiplied by 10 to the power of -6."
      ],
      "metadata": {
        "id": "FOBY_3L5OLx6"
      }
    },
    {
      "cell_type": "markdown",
      "source": [
        "**Example 2: Computing the Hyperbolic Cosine**\n",
        "\n",
        "The hyperbolic cosine, denoted by cosh(x), is a mathematical function that is closely related to the hyperbolic sine function sinh(x). Like the hyperbolic sine, the hyperbolic cosine is defined in terms of the exponential function:\n",
        "\n",
        "\n",
        "**cosh(x) = (e^x + e^(-x)) / 2**\n",
        "\n",
        "The hyperbolic cosine function takes a real or complex number x as its input, and returns a real or complex number as its output. It is an even function, meaning that cosh(-x) = cosh(x) for all x.\n",
        "\n",
        "The hyperbolic cosine has a number of important applications in mathematics and physics, including in the study of special relativity, quantum mechanics, and the theory of elasticity. Like the hyperbolic sine, it can be computed efficiently using the numpy library in Python.\n",
        "\n"
      ],
      "metadata": {
        "id": "CbDQWmsAkRPE"
      }
    },
    {
      "cell_type": "markdown",
      "source": [
        "**Example 01**"
      ],
      "metadata": {
        "id": "k9jqrbFZPLte"
      }
    },
    {
      "cell_type": "code",
      "source": [
        "import numpy as np\n",
        "x = 2\n",
        "hyp = np.cosh(x)\n",
        "print(hyp)"
      ],
      "metadata": {
        "id": "AdIu3r_nkV9B"
      },
      "execution_count": null,
      "outputs": []
    },
    {
      "cell_type": "markdown",
      "source": [
        "**Example 02**"
      ],
      "metadata": {
        "id": "KGyyghtiPXK9"
      }
    },
    {
      "cell_type": "code",
      "source": [
        "import numpy as np\n",
        "x = 0\n",
        "hyp = np.cosh(x)\n",
        "print(hyp)"
      ],
      "metadata": {
        "id": "hzacbZZyPawF"
      },
      "execution_count": null,
      "outputs": []
    },
    {
      "cell_type": "markdown",
      "source": [
        "**Example 03**"
      ],
      "metadata": {
        "id": "fYz-GNl3PjFb"
      }
    },
    {
      "cell_type": "code",
      "source": [
        "import numpy as np\n",
        "x = np.pi/4\n",
        "hyp = np.cosh(x)\n",
        "print(hyp)"
      ],
      "metadata": {
        "id": "eCnjklCiPnFQ"
      },
      "execution_count": null,
      "outputs": []
    },
    {
      "cell_type": "markdown",
      "source": [
        "**Explanation**\n",
        "\n",
        "This code computes the hyperbolic cosine of a value x in radians using the numpy library in Python.\n",
        "\n",
        "Here's the explanation of the code:\n",
        "\n",
        "1. We first import the numpy library as np.\n",
        "2. We set the value of x to np.pi/4, which is equivalent to 45 degrees in radians.\n",
        "3. We then compute the hyperbolic cosine of x using the np.cosh() function and store the result in the hyp variable.\n",
        "4. We print the value of hyp using the print() function.\n",
        "\n",
        "This means that the hyperbolic cosine of 45 degrees (or np.pi/4 radians) is approximately 1.3246."
      ],
      "metadata": {
        "id": "nE2gCiBgUTfB"
      }
    },
    {
      "cell_type": "markdown",
      "source": [
        "**Example 04**"
      ],
      "metadata": {
        "id": "qyGIcl45Pyh5"
      }
    },
    {
      "cell_type": "code",
      "source": [
        "import numpy as np\n",
        "z = 2+3j\n",
        "hyp = np.cosh(z)\n",
        "print(hyp)"
      ],
      "metadata": {
        "id": "QB9AiV0kP1mZ"
      },
      "execution_count": null,
      "outputs": []
    },
    {
      "cell_type": "markdown",
      "source": [
        "**Explanation**\n",
        "\n",
        "This code computes the hyperbolic cosine of a complex number z using the numpy library in Python.\n",
        "\n",
        "Here's the explanation of the code:\n",
        "\n",
        "1. We first import the numpy library as np.\n",
        "2. We create a complex number z with a real part of 2 and an imaginary part of 3.\n",
        "3. We then compute the hyperbolic cosine of z using the np.cosh() function and store the result in the hyp variable.\n",
        "4. We print the value of hyp using the print() function.\n",
        "\n",
        "This means that the hyperbolic cosine of 2 + 3j is approximately -3.7245 + 0.5118j."
      ],
      "metadata": {
        "id": "AjRIBcibT0F7"
      }
    },
    {
      "cell_type": "markdown",
      "source": [
        "**Example 05**"
      ],
      "metadata": {
        "id": "ZBxC9pVFQBP4"
      }
    },
    {
      "cell_type": "code",
      "source": [
        "import numpy as np\n",
        "x = [1, 2, 3, 4, 5]\n",
        "hyp = np.cosh(x)\n",
        "print(hyp)"
      ],
      "metadata": {
        "id": "tp9ogjwgQEfh"
      },
      "execution_count": null,
      "outputs": []
    },
    {
      "cell_type": "markdown",
      "source": [
        "**Explanatin**\n",
        "\n",
        "This code computes the hyperbolic cosine of a list x containing integer values using the numpy library in Python.\n",
        "\n",
        "Here's the explanation of the code:\n",
        "\n",
        "1. We first import the numpy library as np.\n",
        "2. We create a list x containing integer values: 1, 2, 3, 4, and 5.\n",
        "3. We then compute the hyperbolic cosine of x using the np.cosh() function and store the result in the hyp variable.\n",
        "4. We print the values of hyp using the print() function.\n",
        "\n",
        "This means that the hyperbolic cosine of 1 is approximately 1.5431, the hyperbolic cosine of 2 is approximately 3.7622, the hyperbolic cosine of 3 is approximately 10.0677, the hyperbolic cosine of 4 is approximately 27.3082, and the hyperbolic cosine of 5 is approximately 74.2099."
      ],
      "metadata": {
        "id": "yRQGqcxZTXck"
      }
    },
    {
      "cell_type": "markdown",
      "source": [
        "**Example 06**"
      ],
      "metadata": {
        "id": "L1hKlqRIQa4I"
      }
    },
    {
      "cell_type": "code",
      "source": [
        "import numpy as np\n",
        "deg = np.array([30, 45, 60, 90])\n",
        "rad = np.deg2rad(deg)\n",
        "print(\"Values of Radian:\",rad)\n",
        "print()\n",
        "hyp = np.cosh(rad)\n",
        "print(\"Values of Cosh:\",hyp)"
      ],
      "metadata": {
        "id": "w4XNe39EQf9C"
      },
      "execution_count": null,
      "outputs": []
    },
    {
      "cell_type": "markdown",
      "source": [
        "**Explanation**\n",
        "\n",
        "This code computes the hyperbolic cosine of a numpy array deg containing angles in degrees using the numpy library in Python.\n",
        "\n",
        "Here's the explanation of the code:\n",
        "\n",
        "1. We first import the numpy library as np.\n",
        "2. We create a numpy array deg containing angles in degrees: 30, 45, 60, and 90.\n",
        "3. We then convert these angles to radians using the np.deg2rad() function and store them in the rad variable.\n",
        "4. We print the values of rad using the print() function.\n",
        "5. We compute the hyperbolic cosine of rad using the np.cosh() function and store the result in the hyp variable.\n",
        "6. We print the values of hyp using the print() function.\n",
        "\n",
        "This means that the hyperbolic cosine of 30 degrees is approximately 1.0608, the hyperbolic cosine of 45 degrees is approximately 1.3246, the hyperbolic cosine of 60 degrees is approximately 1.6003, and the hyperbolic cosine of 90 degrees is exactly 2.5092."
      ],
      "metadata": {
        "id": "O5MfURpzSijB"
      }
    },
    {
      "cell_type": "markdown",
      "source": [
        "**Example 07**"
      ],
      "metadata": {
        "id": "ofod5K43RTJv"
      }
    },
    {
      "cell_type": "code",
      "source": [
        "import numpy as np\n",
        "x = 1e-6\n",
        "hyp = np.cosh(x)\n",
        "print(hyp)"
      ],
      "metadata": {
        "id": "s2s5-KdMRZ0h"
      },
      "execution_count": null,
      "outputs": []
    },
    {
      "cell_type": "markdown",
      "source": [
        "**Explanation**\n",
        "\n",
        "This code computes the hyperbolic cosine of a very small number (1e-6) using the numpy library in Python.\n",
        "\n",
        "Here's the explanation of the code:\n",
        "\n",
        "We first import the numpy library as np.\n",
        "The variable x is assigned the value 1e-6, which is a very small number in scientific notation (0.000001).\n",
        "We then compute the hyperbolic cosine of x using the np.cosh() function, which returns the result as a float.\n",
        "Finally, we print the value of hyp.\n",
        "\n",
        "The output of the code will be:\n",
        "\n",
        "\n",
        "1.0\n",
        "\n",
        "This is because the hyperbolic cosine of a very small number is very close to 1. In this case, the result is so close to 1 that it is printed as exactly 1 due to floating point precision limitations."
      ],
      "metadata": {
        "id": "QreKBrd1R57y"
      }
    },
    {
      "cell_type": "markdown",
      "source": [
        " **Example 3: Computing the Hyperbolic Tangent**\n",
        "\n",
        "The hyperbolic tangent function, commonly denoted as \"tanh,\" is a mathematical function that is widely used in various fields, including mathematics, engineering, physics, and computer science. It is defined as the ratio of the hyperbolic sine and cosine functions, where the **hyperbolic sine is defined as (e^x - e^-x) / 2** and the hyperbolic **cosine is defined as (e^x + e^-x) / 2.**\n",
        "\n",
        "Computing the hyperbolic tangent function can be done using a calculator or a computer program. In many programming languages, including Python, Java, and C++, the hyperbolic tangent function is included as a built-in function.\n",
        "\n",
        "To compute the hyperbolic tangent of a given value x, you can simply use the built-in function in your programming language of choice. For example, in Python, you can use the \"tanh\" function from the \"math\" module by importing it and passing in the value of x as an argument:\n",
        "\n",
        "\n",
        "\n",
        "result = math.tanh(x)\n",
        "\n",
        "Alternatively, you can also compute the hyperbolic tangent function using the definitions of the hyperbolic sine and cosine functions mentioned earlier.\n",
        "\n",
        "For example, to compute the hyperbolic tangent of x = 2, you can use the following formula:\n",
        "\n",
        "\n",
        "tanh(x) = (e^x - e^-x) / (e^x + e^-x)\n",
        "\n",
        "Substituting x = 2 into the formula, we get:\n",
        "\n",
        "\n",
        "tanh(2) = (e^2 - e^-2) / (e^2 + e^-2)\n",
        "\n",
        "Using a calculator or a programming language to compute the values of e^2 and e^-2, we get:\n",
        "\n",
        "\n",
        "e^2 ≈ 7.389\n",
        "\n",
        "e^-2 ≈ 0.135\n",
        "\n",
        "Substituting these values back into the formula, we get:\n",
        "\n",
        "\n",
        "tanh(2) ≈ (7.389 - 0.135) / (7.389 + 0.135) ≈ 0.964\n",
        "\n",
        "Therefore, the hyperbolic tangent of x = 2 is approximately equal to 0.964."
      ],
      "metadata": {
        "id": "rOvCgRbTkeNp"
      }
    },
    {
      "cell_type": "markdown",
      "source": [
        "**Example 01**"
      ],
      "metadata": {
        "id": "JI2EfOsXVrGm"
      }
    },
    {
      "cell_type": "code",
      "source": [
        "import numpy as np\n",
        "x = 2\n",
        "hyp  = np.tanh(x)\n",
        "print(hyp)"
      ],
      "metadata": {
        "id": "262JQY8zkj5g"
      },
      "execution_count": null,
      "outputs": []
    },
    {
      "cell_type": "markdown",
      "source": [
        "**Example 02**"
      ],
      "metadata": {
        "id": "WYKPr2kvVu4l"
      }
    },
    {
      "cell_type": "code",
      "source": [
        "import numpy as np\n",
        "arr = np.array([0, 1, 2, 3, 4])\n",
        "hyp = np.tanh(arr)\n",
        "print(hyp)"
      ],
      "metadata": {
        "id": "7h8EbRAEVzZn"
      },
      "execution_count": null,
      "outputs": []
    },
    {
      "cell_type": "markdown",
      "source": [
        "**Explanation**\n",
        "\n",
        "This code uses NumPy library to perform some mathematical operations on a 1-dimensional array.\n",
        "\n",
        "Firstly, a 1-dimensional NumPy array is created with the values 0, 1, 2, 3, and 4 using the np.array method and assigned to the variable arr.\n",
        "\n",
        "The tanh function from the NumPy math module is then applied to each element in the arr array using the np.tanh method, and the resulting array of hyperbolic tangent values is assigned to the variable hyp.\n",
        "\n",
        "Finally, the resulting array of hyperbolic tangent values is printed to the console using the print function."
      ],
      "metadata": {
        "id": "RFvVKmHhcDNG"
      }
    },
    {
      "cell_type": "markdown",
      "source": [
        "**Example 03**"
      ],
      "metadata": {
        "id": "0CcDKoPrXOp6"
      }
    },
    {
      "cell_type": "code",
      "source": [
        "arr = np.array([[1, 2], [3, 4]])\n",
        "print(\"Original Array:\",arr)\n",
        "print()\n",
        "hyp = np.tanh(arr)\n",
        "print(\"Values of Tanh:\",hyp)"
      ],
      "metadata": {
        "id": "2qkZcETnXTcw"
      },
      "execution_count": null,
      "outputs": []
    },
    {
      "cell_type": "markdown",
      "source": [
        "**Explanation**\n",
        "\n",
        "This code uses NumPy library to perform some mathematical operations on a 2-dimensional array.\n",
        "\n",
        "Firstly, a 2-dimensional NumPy array is created with the values 1, 2, 3, and 4 using the np.array method and assigned to the variable arr.\n",
        "\n",
        "The print function is then used to output the values in the arr array to the console, along with the label \"Original Array\".\n",
        "\n",
        "Next, the tanh function from the NumPy math module is applied to each element in the arr array using the np.tanh method, and the resulting array of hyperbolic tangent values is assigned to the variable hyp.\n",
        "\n",
        "Finally, the resulting array of hyperbolic tangent values is printed to the console using the print function, along with the label \"Values of Tanh\"."
      ],
      "metadata": {
        "id": "Ry0QPJJxbwGW"
      }
    },
    {
      "cell_type": "markdown",
      "source": [
        "**Example 04**"
      ],
      "metadata": {
        "id": "3vw8BmePXxNW"
      }
    },
    {
      "cell_type": "code",
      "source": [
        "import numpy as np\n",
        "arr1 = np.array([1, 2, 3])\n",
        "arr2 = np.array([4, 5, 6])\n",
        "hyp1 = np.tanh(arr1) \n",
        "print(\"hyp1 array1:\",hyp1)\n",
        "print()\n",
        "hyp2 =  np.tanh(arr2)\n",
        "print(\"hyp2 array2:\",hyp2)\n",
        "print()\n",
        "hyp3 = np.tanh(arr1) + np.tanh(arr2)\n",
        "print(\"hyp3 of tanh:\",hyp3)"
      ],
      "metadata": {
        "id": "EVNiDnGsX2Wo"
      },
      "execution_count": null,
      "outputs": []
    },
    {
      "cell_type": "markdown",
      "source": [
        "**Explanation**\n",
        "\n",
        "\n",
        " This code uses NumPy library to perform some mathematical operations on two arrays.\n",
        "\n",
        "Firstly, two NumPy arrays are created: arr1 with the values 1, 2, and 3, and arr2 with the values 4, 5, and 6.\n",
        "\n",
        "The tanh function from the NumPy math module is then applied to each element in arr1 using the np.tanh method, and the resulting array of hyperbolic tangent values is assigned to the variable hyp1. The print function is then used to output the values in the hyp1 array to the console, along with the label \"hyp1 array1\".\n",
        "\n",
        "Next, the tanh function is applied to each element in arr2 using the np.tanh method, and the resulting array of hyperbolic tangent values is assigned to the variable hyp2. The print function is then used to output the values in the hyp2 array to the console, along with the label \"hyp2 array2\".\n",
        "\n",
        "Finally, the tanh function is applied to each element in both arr1 and arr2 using the np.tanh method, and the resulting arrays of hyperbolic tangent values are added together using the + operator and assigned to the variable hyp3. The print function is then used to output the values in the hyp3 array to the console, along with the label \"hyp3 of tanh\"."
      ],
      "metadata": {
        "id": "BlY0XhuNbSOH"
      }
    },
    {
      "cell_type": "markdown",
      "source": [
        "**Example 05**"
      ],
      "metadata": {
        "id": "iRsYCH8JZthn"
      }
    },
    {
      "cell_type": "code",
      "source": [
        "import numpy as np\n",
        "arr = np.random.randn(5)\n",
        "print(\"Original Array:\",arr)\n",
        "print()\n",
        "hyp = np.tanh(arr)\n",
        "print(\"Value of tanh:\",hyp)"
      ],
      "metadata": {
        "id": "DddP9BdHZxBV"
      },
      "execution_count": null,
      "outputs": []
    },
    {
      "cell_type": "markdown",
      "source": [
        "**Explanation**\n",
        "\n",
        "This code uses NumPy library to perform some mathematical operations on a randomly generated array.\n",
        "\n",
        "Firstly, a NumPy array with 5 random values is generated using the randn function from the NumPy random module and assigned to the variable arr.\n",
        "\n",
        "Then, the print function is used to output the values in the array arr to the console, along with the label \"Original Array\".\n",
        "\n",
        "Next, the tanh function from the NumPy math module is applied to each element in the arr array using the np.tanh method, and the resulting array of hyperbolic tangent values is assigned to the variable hyp.\n",
        "\n",
        "Finally, the resulting array of hyperbolic tangent values is printed to the console using the print function, along with the label \"Value of tanh\"."
      ],
      "metadata": {
        "id": "E39ABg_fa39X"
      }
    },
    {
      "cell_type": "markdown",
      "source": [
        "**Example 4: Computing the Inverse Hyperbolic Sine**\n",
        "\n",
        "The inverse hyperbolic sine, also known as the arcsinh function, is a mathematical function that is the inverse of the hyperbolic sine function. It is denoted as arcsinh(x) or sinh⁻¹(x).\n",
        "\n",
        "Computing the inverse hyperbolic sine can be done using mathematical formulas or through the use of scientific calculators and programming languages that have built-in functions for computing it.\n",
        "\n",
        "One formula for computing arcsinh(x) is:\n",
        "\n",
        "arcsinh(x) = ln(x + sqrt(x^2 + 1))\n",
        "\n",
        "where ln is the natural logarithm function and sqrt is the square root function.\n",
        "\n",
        "Using this formula, the inverse hyperbolic sine of a given value of x can be computed by first computing x^2 + 1, then taking the square root of that result, adding x to it, and finally taking the natural logarithm of the sum.\n",
        "\n",
        "In programming languages such as Python and Java, the arcsinh function is often included as a built-in function in the math module or the java.lang.Math class, respectively. The syntax for computing the inverse hyperbolic sine using these functions is:\n",
        "\n",
        "Python: np.arcsinh(x)\n",
        "\n",
        "\n",
        "In scientific calculators, the arcsinh function is usually found in the trigonometric function menu or the hyperbolic function menu. The user inputs the value of x and the calculator outputs the inverse hyperbolic sine of x.\n",
        "\n"
      ],
      "metadata": {
        "id": "vRe1ZJjUkvDp"
      }
    },
    {
      "cell_type": "markdown",
      "source": [
        "**Example 01**"
      ],
      "metadata": {
        "id": "2mA-pDCl-c2O"
      }
    },
    {
      "cell_type": "code",
      "source": [
        "import numpy as np\n",
        "x = 2\n",
        "archyp = np.arcsinh(x)\n",
        "print(archyp )"
      ],
      "metadata": {
        "id": "zlZKSaFmk14l"
      },
      "execution_count": null,
      "outputs": []
    },
    {
      "cell_type": "markdown",
      "source": [
        "**Example 02**"
      ],
      "metadata": {
        "id": "jhVr88le-9mR"
      }
    },
    {
      "cell_type": "code",
      "source": [
        "x = np.array([1, 2, 3])\n",
        "archyp = np.arcsinh(x)\n",
        "print(archyp)"
      ],
      "metadata": {
        "id": "7mChNHVY_AgB"
      },
      "execution_count": null,
      "outputs": []
    },
    {
      "cell_type": "markdown",
      "source": [
        "**Example 03**"
      ],
      "metadata": {
        "id": "tAsEIEgS_OB-"
      }
    },
    {
      "cell_type": "code",
      "source": [
        "import numpy as np\n",
        "x = np.random.uniform(-1, 1)\n",
        "print(\"Original Array:\",x)\n",
        "print()\n",
        "archyp = np.arcsinh(x)\n",
        "print(\"Values of Inverse Sinh:\", archyp)"
      ],
      "metadata": {
        "id": "QL6R6pKu_RRE"
      },
      "execution_count": null,
      "outputs": []
    },
    {
      "cell_type": "markdown",
      "source": [
        "**Explanation**\n",
        "\n",
        "In this code, we are using the numpy library to compute the inverse hyperbolic sine of a random value within a given range. Here is a step-by-step breakdown of the code:\n",
        "\n",
        "1. We create a random number x using the numpy random.uniform() function with the range [-1, 1].\n",
        "\n",
        "2. We print the value of x with the message \"Original Array:\" using the print() function.\n",
        "\n",
        "3. We call the numpy arcsinh() function to compute the inverse hyperbolic sine of the random value x, and store the result in a variable called archyp.\n",
        "\n",
        "4. We print the value of archyp with the message \"Values of Inverse Sinh:\" using the print() function.\n",
        "\n",
        "Since the numpy random.uniform() function generates a random value within the specified range, the value of x will be different each time the code is run.\n",
        "\n",
        "So,The first line of output displays the message \"Original Array:\" followed by the random value of x. The second line of output is an empty line. The third line of output displays the message \"Values of Inverse Sinh:\" followed by the computed value of the inverse hyperbolic sine of x, which is stored in archyp."
      ],
      "metadata": {
        "id": "GYbgtyEPDuTE"
      }
    },
    {
      "cell_type": "markdown",
      "source": [
        "**Example 04**"
      ],
      "metadata": {
        "id": "Nf9ZvsHV_yJB"
      }
    },
    {
      "cell_type": "code",
      "source": [
        "import numpy as np\n",
        "x = 1+2j\n",
        "archyp = np.arcsinh(x)\n",
        "print(archyp)"
      ],
      "metadata": {
        "id": "KiBNO6AD_2a2"
      },
      "execution_count": null,
      "outputs": []
    },
    {
      "cell_type": "markdown",
      "source": [
        "**Explanation**\n",
        "\n",
        "In this code, we are using the numpy library to compute the inverse hyperbolic sine of a complex number. Here is a step-by-step breakdown of the code:\n",
        "\n",
        "We create a complex number x with a value of 1+2j.\n",
        "\n",
        "We call the numpy arcsinh() function to compute the inverse hyperbolic sine of the complex number x, and store the result in a variable called archyp.\n",
        "\n",
        "We print the value of archyp using the print() function.\n",
        "\n",
        "Since the inverse hyperbolic sine is defined for complex numbers, the numpy arcsinh() function can be used to compute it. The output of the code will be:\n",
        "\n",
        "So,The output is a complex number that represents the inverse hyperbolic sine of the input complex number x. The real part of the output is approximately 1.469, and the imaginary part is approximately 1.063."
      ],
      "metadata": {
        "id": "eAfUqbalDNSj"
      }
    },
    {
      "cell_type": "markdown",
      "source": [
        "**Example 05**"
      ],
      "metadata": {
        "id": "RZAAzxVnAIYF"
      }
    },
    {
      "cell_type": "code",
      "source": [
        "import numpy as np\n",
        "x = np.inf\n",
        "print(\"Original Array Infinity:\",x)\n",
        "print()\n",
        "archyp= np.arcsinh(x)\n",
        "print(\"Value of Inverse Sinh:\",archyp)"
      ],
      "metadata": {
        "id": "0hNVf9VhAN3N"
      },
      "execution_count": null,
      "outputs": []
    },
    {
      "cell_type": "markdown",
      "source": [
        "**Explanation**\n",
        "\n",
        "In this code, we are using the numpy library to compute the inverse hyperbolic sine of an infinite value. Here is a step-by-step breakdown of the code:\n",
        "\n",
        "1. We create a numpy array x with a value of infinity using the np.inf constant.\n",
        "\n",
        "2. We print the original array with the message \"Original Array Infinity:\" using the print() function.\n",
        "\n",
        "3. We call the numpy arcsinh() function to compute the inverse hyperbolic sine of the infinite value, and store the result in a variable called archyp.\n",
        "\n",
        "4. We print the value of archyp with the message \"Value of Inverse Sinh:\" using the print() function.\n",
        "\n",
        "Since the input value x is infinite, the computed value of the inverse hyperbolic sine is also infinite. This is because the inverse hyperbolic sine function approaches infinity as the input approaches infinity. Therefore, the output of the code will be:\n",
        "\n",
        "So, The first line of output displays the message \"Original Array Infinity:\" followed by the value of x, which is inf. The second line of output displays the message \"Value of Inverse Sinh:\" followed by the value of archyp, which is also inf."
      ],
      "metadata": {
        "id": "9AI9DVMbCc-Y"
      }
    },
    {
      "cell_type": "markdown",
      "source": [
        "**Example 06**"
      ],
      "metadata": {
        "id": "6zcVUyueBCIF"
      }
    },
    {
      "cell_type": "code",
      "source": [
        "import numpy as np\n",
        "x = np.nan\n",
        "print(\"Original Array Not a Number:\",x)\n",
        "print()\n",
        "archyp= np.arcsinh(x)\n",
        "print(\"Value of Inverse Sinh:\",archyp)"
      ],
      "metadata": {
        "id": "iWgCr6gOBHVQ"
      },
      "execution_count": null,
      "outputs": []
    },
    {
      "cell_type": "markdown",
      "source": [
        "**Explanation**\n",
        "\n",
        "In this code, we are using the numpy library to compute the inverse hyperbolic sine of a NaN value. Here is a step-by-step breakdown of the code:\n",
        "\n",
        "1. We create a numpy array x with a value of NaN using the np.nan constant.\n",
        "\n",
        "2. We print the original array with the message \"Original Array Not a Number:\" using the print() function.\n",
        "\n",
        "3. We call the numpy arcsinh() function to compute the inverse hyperbolic sine of the NaN value, and store the result in a variable called archyp.\n",
        "\n",
        "4. We print the value of archyp with the message \"Value of Inverse Sinh:\" using the print() function.\n",
        "\n",
        "Since the input value x is NaN, the computed value of the inverse hyperbolic sine is also NaN. This is because the inverse hyperbolic sine function is undefined for NaN values. \n",
        "\n",
        "So,The first line of output displays the message \"Original Array Not a Number:\" followed by the value of x, which is nan. The second line of output displays the message \"Value of Inverse Sinh:\" followed by the value of archyp, which is also nan."
      ],
      "metadata": {
        "id": "SCtBQUr6CI2X"
      }
    },
    {
      "cell_type": "markdown",
      "source": [
        "**Example 5: Computing the Inverse Hyperbolic Cosine**\n",
        "\n",
        "The inverse hyperbolic cosine function is denoted by acosh(x), and it is defined as the inverse function of the hyperbolic cosine function cosh(x). In other words, if y = cosh(x), then x = acosh(y).\n",
        "\n",
        "To compute the inverse hyperbolic cosine of a number y, you can use the following formula:\n",
        "\n",
        "acosh(y) = ln(y + sqrt(y^2 - 1))\n",
        "\n",
        "Here, ln denotes the natural logarithm function, and sqrt denotes the square root function. Note that this formula is only valid for values of y greater than or equal to 1.\n",
        "\n",
        "To compute the inverse hyperbolic cosine of a number y that is less than 1, you can use the following formula:\n",
        "\n",
        "acosh(y) = ln(y + sqrt(1 - y^2))\n",
        "\n",
        "Here, again ln denotes the natural logarithm function, and sqrt denotes the square root function.\n",
        "\n"
      ],
      "metadata": {
        "id": "1oQBEKvMk-TK"
      }
    },
    {
      "cell_type": "markdown",
      "source": [
        "**Example 01**"
      ],
      "metadata": {
        "id": "7ergCAxYE6Xz"
      }
    },
    {
      "cell_type": "code",
      "source": [
        "import numpy as np\n",
        "x = 2\n",
        "archyp = np.arccosh(x)\n",
        "print(archyp)"
      ],
      "metadata": {
        "id": "c0GqtKBElFsV"
      },
      "execution_count": null,
      "outputs": []
    },
    {
      "cell_type": "markdown",
      "source": [
        "**Example 02**"
      ],
      "metadata": {
        "id": "Oyr9wQJQFuaA"
      }
    },
    {
      "cell_type": "code",
      "source": [
        "import numpy as np\n",
        "x = np.array([1, 2, 3])\n",
        "y = np.arccosh(x)\n",
        "print(y)"
      ],
      "metadata": {
        "id": "gkNAm_bvF3c9"
      },
      "execution_count": null,
      "outputs": []
    },
    {
      "cell_type": "markdown",
      "source": [
        "**Example 6: Computing the Inverse Hyperbolic Tangent**\n",
        "\n",
        "The inverse hyperbolic tangent, also known as arctanh or tanh^-1, is a mathematical function that gives the angle whose hyperbolic tangent is a given number. It is denoted by the symbol \"arctanh(x)\" or \"tanh^-1(x)\".\n",
        "\n",
        "Computing the inverse hyperbolic tangent is a common task in many fields, including mathematics, engineering, and physics. It can be calculated using various methods, including algebraic manipulations, Taylor series expansions, and iterative methods.\n",
        "\n",
        "One popular approach is to use the formula:\n",
        "\n",
        "arctanh(x) = 0.5 * ln((1+x)/(1-x))\n",
        "\n",
        "where ln is the natural logarithm. This formula provides an accurate result for most values of x.\n",
        "\n",
        "Another method is to use the Taylor series expansion:\n",
        "\n",
        "arctanh(x) = x + (1/3)*x^3 + (1/5)*x^5 + ...\n",
        "\n",
        "where x is a small number. This method is useful for calculating the inverse hyperbolic tangent of small values of x.\n",
        "\n",
        "In summary, computing the inverse hyperbolic tangent is an important task in many fields of study, and there are various methods available to calculate it accurately."
      ],
      "metadata": {
        "id": "1CieaM_RlgGt"
      }
    },
    {
      "cell_type": "markdown",
      "source": [
        "**Example 01**"
      ],
      "metadata": {
        "id": "YY7jn9auGc2x"
      }
    },
    {
      "cell_type": "code",
      "source": [
        "import numpy as np\n",
        "x = 0.5\n",
        "archyp = np.arctanh(x)\n",
        "print(archyp)"
      ],
      "metadata": {
        "id": "H58V7JMflhY_"
      },
      "execution_count": null,
      "outputs": []
    },
    {
      "cell_type": "markdown",
      "source": [
        "**Example 02**"
      ],
      "metadata": {
        "id": "gzZM8BOiGnMM"
      }
    },
    {
      "cell_type": "code",
      "source": [
        "import numpy as np\n",
        "x = np.array([0.2, 0.4, 0.6, 0.8])\n",
        "result = np.arctanh(x)\n",
        "print(result)"
      ],
      "metadata": {
        "id": "FoIygMmHGtkO"
      },
      "execution_count": null,
      "outputs": []
    },
    {
      "cell_type": "markdown",
      "source": [
        "**Explanation**\n",
        "\n",
        "This code computes the inverse hyperbolic tangent of an array of values [0.2, 0.4, 0.6, 0.8] using the np.arctanh() function in NumPy.\n",
        "\n",
        "Here's how it works:\n",
        "\n",
        "1. The code first creates a NumPy array with the values [0.2, 0.4, 0.6, 0.8] and assigns it to the variable x.\n",
        "2. The np.arctanh() function is then called with x as its argument.  This function computes the inverse hyperbolic tangent of each value in the input array and returns the results in an array of the same shape.\n",
        "3. The resulting array of inverse hyperbolic tangent values is then stored in the variable result.\n",
        "4. Finally, the code prints the value of result to the console.\n",
        "\n",
        "In this case, the resulting array contains the inverse hyperbolic tangent values of each element in the input array [0.2, 0.4, 0.6, 0.8]. These values are [0.20273255, 0.42364893, 0.69314718, 0.97295507] in radians. \n",
        "\n",
        "This means that the inverse hyperbolic tangent of 0.2 is approximately 0.2027, the inverse hyperbolic tangent of 0.4 is approximately 0.4236, and so on."
      ],
      "metadata": {
        "id": "4VPpBRw1IztD"
      }
    },
    {
      "cell_type": "markdown",
      "source": [
        "**Example 03**"
      ],
      "metadata": {
        "id": "Z4P9btWfHUIx"
      }
    },
    {
      "cell_type": "code",
      "source": [
        "import numpy as np\n",
        "x = -1\n",
        "result = np.arctanh(x)\n",
        "print(result)"
      ],
      "metadata": {
        "id": "atd04u6KHZFL"
      },
      "execution_count": null,
      "outputs": []
    },
    {
      "cell_type": "markdown",
      "source": [
        "**Explanation**\n",
        "\n",
        "This code computes the inverse hyperbolic tangent of -1 using the np.arctanh() function in NumPy.\n",
        "\n",
        "Here's how it works:\n",
        "\n",
        "1. The code first assigns the value -1 to the variable x.\n",
        "2. The np.arctanh() function is then called with x as its argument. This function computes the inverse hyperbolic tangent of the input value and returns the result in radians.\n",
        "3. The resulting value is then stored in the variable result.\n",
        "4. Finally, the code prints the value of result to the console.\n",
        "\n",
        "Since the hyperbolic tangent function has a range of (-1, 1), the inverse hyperbolic tangent function is undefined for input values outside of this range. In this case, the input value -1 is at the lower bound of this range, so the result of np.arctanh(-1) is -inf, which stands for negative infinity. This means that the inverse hyperbolic tangent of -1 is undefined in the real number system."
      ],
      "metadata": {
        "id": "QG1GqP_RHyUK"
      }
    }
  ]
}