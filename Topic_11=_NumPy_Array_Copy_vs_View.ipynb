{
  "nbformat": 4,
  "nbformat_minor": 0,
  "metadata": {
    "colab": {
      "private_outputs": true,
      "provenance": [],
      "include_colab_link": true
    },
    "kernelspec": {
      "name": "python3",
      "display_name": "Python 3"
    },
    "language_info": {
      "name": "python"
    }
  },
  "cells": [
    {
      "cell_type": "markdown",
      "metadata": {
        "id": "view-in-github",
        "colab_type": "text"
      },
      "source": [
        "<a href=\"https://colab.research.google.com/github/ranamaddy/numpy/blob/main/Topic_11%3D_NumPy_Array_Copy_vs_View.ipynb\" target=\"_parent\"><img src=\"https://colab.research.google.com/assets/colab-badge.svg\" alt=\"Open In Colab\"/></a>"
      ]
    },
    {
      "cell_type": "markdown",
      "source": [
        "# **Topic 11 = NumPy Array Copy vs View**\n",
        "\n",
        "NumPy is a popular library in Python for numerical computing. It provides an efficient way to work with arrays and matrices. When working with NumPy arrays, it is important to understand the concepts of copying and viewing arrays.\n",
        "\n",
        "The main difference between a copy and a view of an array is that the copy is a new array, and the view is just a view of the original array.\n",
        "\n",
        "The copy owns the data and any changes made to the copy will not affect original array, and any changes made to the original array will not affect the copy.\n",
        "\n",
        "The view does not own the data and any changes made to the view will affect the original array, and any changes made to the original array will affect the view."
      ],
      "metadata": {
        "id": "XY5LcNob3OJ2"
      }
    },
    {
      "cell_type": "markdown",
      "source": [
        "**Numpy. Copy() Function:**\n",
        "\n",
        "The copy() function in NumPy creates a deep copy of an array or a matrix. This means that a new object is created with its own memory, and any changes made to the new object will not affect the original array or matrix."
      ],
      "metadata": {
        "id": "wbXJoL-r4JFG"
      }
    },
    {
      "cell_type": "markdown",
      "source": [
        "**Example 01:Creating a copy of a one-dimensional array:**"
      ],
      "metadata": {
        "id": "_mixOPiE42gr"
      }
    },
    {
      "cell_type": "code",
      "execution_count": null,
      "metadata": {
        "id": "CQrZF-Px3EzP"
      },
      "outputs": [],
      "source": [
        "import numpy as np\n",
        "a = np.array([1, 2, 3])\n",
        "b = a.copy()\n",
        "print(\"original array:\",a)\n",
        "print()\n",
        "print(\"copy array:\",b)"
      ]
    },
    {
      "cell_type": "markdown",
      "source": [
        "**Example 02: Creating a copy of a two-dimensional array:**"
      ],
      "metadata": {
        "id": "3wsG64EG57X9"
      }
    },
    {
      "cell_type": "code",
      "source": [
        "import numpy as np\n",
        "\n",
        "a = np.array([[1, 2], [3, 4]])\n",
        "b = a.copy()\n",
        "print(\"original array:\",a)\n",
        "print()\n",
        "print(\"copy array:\",b)"
      ],
      "metadata": {
        "id": "2mIOJoWE6Ajf"
      },
      "execution_count": null,
      "outputs": []
    },
    {
      "cell_type": "markdown",
      "source": [
        "**Example 03: Creating a copy of a structured array:**"
      ],
      "metadata": {
        "id": "Pbh3THTQ6Z5i"
      }
    },
    {
      "cell_type": "code",
      "source": [
        "import numpy as np\n",
        "\n",
        "a = np.array([(1, \"a\"), (2, \"b\")], dtype=[(\"x\", int), (\"y\", \"U1\")])\n",
        "b = a.copy()\n",
        "print(\"original array:\",a)\n",
        "print()\n",
        "print(\"copy array:\",b)"
      ],
      "metadata": {
        "id": "gA1rx6H_6e_T"
      },
      "execution_count": null,
      "outputs": []
    },
    {
      "cell_type": "markdown",
      "source": [
        "**Example 04: Creating a copy of a slice of an array:**\n"
      ],
      "metadata": {
        "id": "vrq-4PPO7FSR"
      }
    },
    {
      "cell_type": "code",
      "source": [
        "import numpy as np\n",
        "\n",
        "a = np.array([[1, 2], [3, 4]])\n",
        "b = a[:,1].copy()\n",
        "print(\"original array:\",a)\n",
        "print()\n",
        "print(\"copy array:\",b)"
      ],
      "metadata": {
        "id": "6-1QnZ3g7L8N"
      },
      "execution_count": null,
      "outputs": []
    },
    {
      "cell_type": "markdown",
      "source": [
        "**Example 05: Creating a copy of an array with a different data type:**"
      ],
      "metadata": {
        "id": "omzmmlGl7w2o"
      }
    },
    {
      "cell_type": "code",
      "source": [
        "import numpy as np\n",
        "a = np.array([1, 2, 3])\n",
        "b = a.astype(float).copy()\n",
        "print(\"original array:\",a)\n",
        "print()\n",
        "print(\"copy float array:\",b)\n",
        "print()\n",
        "c = a.astype(complex).copy()\n",
        "print(\"copy complex array:\",c)"
      ],
      "metadata": {
        "id": "ndeIx8e7718D"
      },
      "execution_count": null,
      "outputs": []
    },
    {
      "cell_type": "markdown",
      "source": [
        "**Example 06: Make a copy, change the original array, and display both arrays:**"
      ],
      "metadata": {
        "id": "9qcXPzvg9U9C"
      }
    },
    {
      "cell_type": "code",
      "source": [
        "import numpy as np\n",
        "a = np.array([1, 2, 3, 4, 5])\n",
        "b = a.copy()\n",
        "a[0] = 42\n",
        "print(\"original array:\",a)\n",
        "print()\n",
        "print(\"copy array:\",b)"
      ],
      "metadata": {
        "id": "VnBWC4MK9aMr"
      },
      "execution_count": null,
      "outputs": []
    },
    {
      "cell_type": "markdown",
      "source": [
        "**Example 07: Make a copy, change the copy array, and display both arrays:**"
      ],
      "metadata": {
        "id": "Hg095-Yv-Oe2"
      }
    },
    {
      "cell_type": "code",
      "source": [
        "import numpy as np\n",
        "a = np.array([1, 2, 3, 4, 5])\n",
        "b = a.copy()\n",
        "b[0] = 42\n",
        "print(\"original array:\",a)\n",
        "print()\n",
        "print(\"copy array:\",b)"
      ],
      "metadata": {
        "id": "tuQ2T38o-XK-"
      },
      "execution_count": null,
      "outputs": []
    },
    {
      "cell_type": "markdown",
      "source": [
        "**Numpy. View() Function:**\n",
        "\n",
        "1. The view() function in NumPy allows you to create a new array object that shares the same data as the original array, but with a different shape or data type. The new array object created by view() is a shallow copy, which means that the data is not copied, only the metadata is changed. Therefore, changes made to the new array object will also affect the original array.\n",
        "\n",
        "2. The view() function can be useful for reshaping or casting arrays. For example, you can use view() to create a new array with the same data but a different shape, without having to copy the data. This can save memory and time.\n",
        "\n",
        "3. It's important to note that the new array created by view() is not a completely independent copy of the original array. Any changes made to the new array will also affect the original array, and vice versa. So, if you need a completely independent copy of an array, you should use the copy() function instead.\n"
      ],
      "metadata": {
        "id": "iDJkmCBi-nPa"
      }
    },
    {
      "cell_type": "markdown",
      "source": [
        "**Example 01:Creating a view of a one-dimensional array:**"
      ],
      "metadata": {
        "id": "T9tacON9AG_Z"
      }
    },
    {
      "cell_type": "code",
      "source": [
        "import numpy as np\n",
        "a = np.array([1, 2, 3])\n",
        "b = a.view()\n",
        "print(\"original array:\",a)\n",
        "print()\n",
        "print(\"view array:\",b)"
      ],
      "metadata": {
        "id": "zgM0cobIAPtF"
      },
      "execution_count": null,
      "outputs": []
    },
    {
      "cell_type": "markdown",
      "source": [
        "**Example 02: Creating a view of a slice of an array:**"
      ],
      "metadata": {
        "id": "N4hHJFxVAg0z"
      }
    },
    {
      "cell_type": "code",
      "source": [
        "import numpy as np\n",
        "a = np.array([[1, 2], [3, 4]])\n",
        "b = a[:,1].view()\n",
        "print(\"original array:\",a)\n",
        "print()\n",
        "print(\"view array:\",b)"
      ],
      "metadata": {
        "id": "PSm0WAUWAkQZ"
      },
      "execution_count": null,
      "outputs": []
    },
    {
      "cell_type": "markdown",
      "source": [
        "**Explanation**\n",
        "\n",
        "This is a Python code that uses the NumPy library to create a 2-dimensional array named \"a\". The array contains the values [[1, 2], [3, 4]].\n",
        "\n",
        "Then, the second column of the \"a\" array is selected using the syntax \"a[:,1]\", which means \"all rows (:) and the second column (1)\". The \".view()\" method is then called on the selected column to create a new array named \"b\".\n",
        "\n",
        "The \"print()\" function is used to display the original \"a\" array and the newly created \"b\" array. The output will show the original array as [[1, 2], [3, 4]] and the view array as [2, 4]."
      ],
      "metadata": {
        "id": "MJ0JOhkpqCnp"
      }
    },
    {
      "cell_type": "markdown",
      "source": [
        "**Example 03: Make a view, change the view, and display both arrays:**"
      ],
      "metadata": {
        "id": "gVxErFqdCO8I"
      }
    },
    {
      "cell_type": "code",
      "source": [
        "import numpy as np\n",
        "a = np.array([1, 2, 3, 4, 5])\n",
        "b = a.view()\n",
        "b[0] = 31\n",
        "print(\"original array:\",a)\n",
        "print()\n",
        "print(\"view array:\",b)"
      ],
      "metadata": {
        "id": "EMPATL9vCUMq"
      },
      "execution_count": null,
      "outputs": []
    },
    {
      "cell_type": "markdown",
      "source": [
        "**Explanation**\n",
        "\n",
        "This is a Python code that uses the NumPy library to create a 1-dimensional array named \"a\". The array contains the values [1, 2, 3, 4, 5].\n",
        "\n",
        "Then, a view of the \"a\" array is created using the syntax \"arr.view()\". The newly created view is assigned to the variable \"b\".\n",
        "\n",
        "The value at the first index of the \"b\" array (which is also the first index of the original \"a\" array) is then changed to 31 using the syntax \"b[0] = 31\".\n",
        "\n",
        "The \"print()\" function is used to display the original \"a\" array and the newly created \"b\" array. The output will show that the value at the first index of the original \"a\" array has also changed to 31. Therefore, the \"view\" of an array in NumPy creates a shallow copy of the original array, and changes made to the view are reflected in the original array as well."
      ],
      "metadata": {
        "id": "2pLMBxKaqWFu"
      }
    },
    {
      "cell_type": "markdown",
      "source": [
        "**Example 04: Make a view, change the original array, and display both arrays:**"
      ],
      "metadata": {
        "id": "yMxCEJ1oCnXI"
      }
    },
    {
      "cell_type": "code",
      "source": [
        "import numpy as np\n",
        "a = np.array([1, 2, 3, 4, 5])\n",
        "b = a.view()\n",
        "a[0] = 31\n",
        "print(\"original array:\",a)\n",
        "print()\n",
        "print(\"view array:\",b)"
      ],
      "metadata": {
        "id": "flJddmOiCvU-"
      },
      "execution_count": null,
      "outputs": []
    },
    {
      "cell_type": "markdown",
      "source": [
        "**Explanation**\n",
        "\n",
        "This is a Python code that uses the NumPy library to create a 1-dimensional array named \"a\". The array contains the values [1, 2, 3, 4, 5].\n",
        "\n",
        "Then, a view of the \"a\" array is created using the syntax \"arr.view()\". The newly created view is assigned to the variable \"b\".\n",
        "\n",
        "The value at the first index of the \"a\" array (which is also the first index of the view \"b\" array) is then changed to 31 using the syntax \"a[0] = 31\".\n",
        "\n",
        "The \"print()\" function is used to display the original \"a\" array and the newly created \"b\" array. The output will show that the value at the first index of both arrays has changed to 31. This is because the view \"b\" is a shallow copy of the original array \"a\", and any changes made to the original array will be reflected in the view as well."
      ],
      "metadata": {
        "id": "2jrwD3OjqtXk"
      }
    },
    {
      "cell_type": "code",
      "source": [
        "import numpy as np\n",
        "arr = np.array([1, 2, 3, 4, 5])\n",
        "x = arr.copy()\n",
        "y = arr.view()\n",
        "print(x.base)\n",
        "print()\n",
        "print(y.base)"
      ],
      "metadata": {
        "id": "pIn-wOAvD29V"
      },
      "execution_count": null,
      "outputs": []
    },
    {
      "cell_type": "markdown",
      "source": [
        "**Explanation**\n",
        "\n",
        "The \"copy\" method is then used to create a deep copy of \"arr\" and assign it to variable \"x\". A deep copy means that a completely new array is created with the same values as \"arr\", so any changes to \"x\" will not affect \"arr\".\n",
        "\n",
        "The \"view\" method is also used to create a shallow copy of \"arr\" and assign it to variable \"y\". A shallow copy means that a new array is created with the same data pointer as \"arr\", so any changes to \"y\" will affect \"arr\".\n",
        "\n",
        "Finally, the \"base\" attribute is accessed for both \"x\" and \"y\". If the array is a view, the \"base\" attribute returns the original array, otherwise it returns None.\n",
        "\n",
        "The output of the code will show that \"x.base\" is None, indicating that \"x\" is a standalone array with no base array. \"y.base\" is \"arr\", indicating that \"y\" is a view of the \"arr\" array."
      ],
      "metadata": {
        "id": "9N-wAWCxry2b"
      }
    }
  ]
}