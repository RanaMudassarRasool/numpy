{
  "nbformat": 4,
  "nbformat_minor": 0,
  "metadata": {
    "colab": {
      "private_outputs": true,
      "provenance": [],
      "include_colab_link": true
    },
    "kernelspec": {
      "name": "python3",
      "display_name": "Python 3"
    },
    "language_info": {
      "name": "python"
    }
  },
  "cells": [
    {
      "cell_type": "markdown",
      "metadata": {
        "id": "view-in-github",
        "colab_type": "text"
      },
      "source": [
        "<a href=\"https://colab.research.google.com/github/ranamaddy/numpy/blob/main/Topic_10%3D_NumPy_Sorting_Arrays.ipynb\" target=\"_parent\"><img src=\"https://colab.research.google.com/assets/colab-badge.svg\" alt=\"Open In Colab\"/></a>"
      ]
    },
    {
      "cell_type": "markdown",
      "source": [
        "# **Topic 10 = NumPy Sorting Arrays**\n",
        "\n",
        "NumPy is a Python library used for scientific computing, particularly for working with arrays. It provides various functions for sorting arrays, which can be useful in many applications.\n",
        "\n",
        "Sorting an array is the process of arranging its elements in a specific order. NumPy provides two main functions for sorting arrays: np.sort() and np.argsort().\n",
        "\n",
        "The **np.sort()** function returns a sorted copy of the array. By default, it sorts the array in ascending order, but you can also sort it in descending order by passing the parameter kind='quicksort', order=None, axis=-1. The kind parameter allows you to choose between different sorting algorithms, such as quicksort, mergesort, or heapsort.\n",
        "\n",
        "The np.argsort() function returns the indices that would sort the array. For example, if you have an array [4, 2, 5, 1, 3], **np.argsort()** would return [3, 1, 4, 0, 2], indicating that the element at index 3 is the smallest, followed by the element at index 1, and so on.\n",
        "\n",
        "NumPy also provides the functions **np.lexsort()** and **np.partition()** for more advanced sorting and partitioning operations.\n",
        "\n",
        "Overall, NumPy's array sorting functions are powerful tools for manipulating and analyzing data, and are widely used in various scientific and engineering fields."
      ],
      "metadata": {
        "id": "wfh9s2804LCc"
      }
    },
    {
      "cell_type": "markdown",
      "source": [
        "**Type(01): numpy.sort() function**\n",
        "\n",
        "The numpy.sort() function is a NumPy method used to sort elements in a NumPy array in ascending order by default, but can also sort them in descending order if specified. It returns a sorted copy of the input array.\n",
        "\n",
        "**The basic syntax for using the numpy.sort() function is:**\n",
        "\n",
        "\n",
        "numpy.sort(a, axis=-1, kind=None, order=None)\n",
        "\n",
        "\n",
        "where a is the input array, axis specifies the axis along which to sort the array, kind specifies the sorting algorithm to be used, and order specifies the order in which to sort the elements in the case of structured arrays.\n",
        "\n",
        "By default, the kind parameter is set to 'quicksort', but you can specify other sorting algorithms, such as 'heapsort' or 'mergesort'. The order parameter is used when sorting structured arrays based on specific field names.\n",
        "\n",
        "The numpy.sort() function returns a sorted copy of the input array, without modifying the original array. If you want to sort the array in place, you can use the sort() method of the NumPy array object.\n",
        "\n",
        "Overall, the numpy.sort() function is a useful tool for sorting NumPy arrays and is commonly used in scientific computing and data analysis."
      ],
      "metadata": {
        "id": "SIeNPJFl5AWf"
      }
    },
    {
      "cell_type": "markdown",
      "source": [
        "**Example 01: Sorting a 1D array in ascending order:**"
      ],
      "metadata": {
        "id": "vhedmutB5wP9"
      }
    },
    {
      "cell_type": "code",
      "execution_count": null,
      "metadata": {
        "id": "d9o8lrGC4CfC"
      },
      "outputs": [],
      "source": [
        "import numpy as np\n",
        "arr = np.array([3, 1, 4, 2, 5])\n",
        "sorted = np.sort(arr)\n",
        "print(sorted)"
      ]
    },
    {
      "cell_type": "markdown",
      "source": [
        "**Example 02: Sorting a 2D array by a specific column:**"
      ],
      "metadata": {
        "id": "Z1TuetCK6BFB"
      }
    },
    {
      "cell_type": "code",
      "source": [
        "import numpy as np\n",
        "arr = np.array([[3, 2,4], [1, 4,3], [2, 1,0]])\n",
        "sorted = np.sort(arr, axis=0)\n",
        "print(sorted)"
      ],
      "metadata": {
        "id": "JQKbnFOx6NdP"
      },
      "execution_count": null,
      "outputs": []
    },
    {
      "cell_type": "markdown",
      "source": [
        "**Example 03: Sorting a structured array based on a specific field:**"
      ],
      "metadata": {
        "id": "LL4gOJR46ozl"
      }
    },
    {
      "cell_type": "code",
      "source": [
        "import numpy as np\n",
        "arr = np.array([('John', 25), ('Jane', 30), ('Bob', 20)],dtype=[('name', 'U10'), ('age', int)])\n",
        "sorted = np.sort(arr, order='age')\n",
        "print(sorted)"
      ],
      "metadata": {
        "id": "QfrN1z7n6si4"
      },
      "execution_count": null,
      "outputs": []
    },
    {
      "cell_type": "markdown",
      "source": [
        "**Explanation**\n",
        "\n",
        "The code above imports the NumPy library with an alias \"np\" and creates a NumPy array \"arr\" with three elements, each consisting of a name (as a Unicode string of up to 10 characters) and an age (as an integer). The data type of each element is specified as a structured data type with two fields: 'name' and 'age'.\n",
        "\n",
        "The np.sort() function is then used to sort the \"arr\" array by the 'age' field in ascending order. The sorted array is assigned to a variable called \"sorted\". Finally, the sorted array is printed using the print() function.\n",
        "\n",
        "Therefore, the output of the code would be a sorted NumPy array of the original \"arr\" array, where the elements are arranged in ascending order based on the 'age' field.\n",
        "\n",
        "\n",
        "\n",
        "\n"
      ],
      "metadata": {
        "id": "BHiWkdZJa4LF"
      }
    },
    {
      "cell_type": "markdown",
      "source": [
        "**Example 04: Sorting a 3D array along a specific axis:**"
      ],
      "metadata": {
        "id": "st1yMTrP7OSj"
      }
    },
    {
      "cell_type": "code",
      "source": [
        "import numpy as np\n",
        "arr = np.array([[[2, 1,4], [4, 3,1]], [[6, 5,4], [8, 7,9]]])\n",
        "sorted = np.sort(arr, axis=0)\n",
        "print(sorted)"
      ],
      "metadata": {
        "id": "RJuDUQxl7ShH"
      },
      "execution_count": null,
      "outputs": []
    },
    {
      "cell_type": "markdown",
      "source": [
        "**Example 05: Sorting a boolean array in descending order:**"
      ],
      "metadata": {
        "id": "gHScYHCK8Gw7"
      }
    },
    {
      "cell_type": "code",
      "source": [
        "import numpy as np\n",
        "arr = np.array([True, False, True, False])\n",
        "sorted = np.sort(arr)[::-1]\n",
        "print(sorted)"
      ],
      "metadata": {
        "id": "BLM0rixG8PiK"
      },
      "execution_count": null,
      "outputs": []
    },
    {
      "cell_type": "markdown",
      "source": [
        "**Example 06: Sorting a 2D array by a specific rows:**"
      ],
      "metadata": {
        "id": "rBMXxMpcaG3C"
      }
    },
    {
      "cell_type": "code",
      "source": [
        "import numpy as np\n",
        "arr = np.array([[3, 2,4], [1, 4,3], [2, 1,0]])\n",
        "sorted = np.sort(arr, axis=1)\n",
        "print(sorted)"
      ],
      "metadata": {
        "id": "FCM283V0abAi"
      },
      "execution_count": null,
      "outputs": []
    },
    {
      "cell_type": "markdown",
      "source": [
        "**Type(02): numpy.argsort()function**\n",
        "\n",
        "The numpy.argsort() function is a NumPy method used to perform an indirect sort on a NumPy array. It returns an array of indices that would sort the input array in ascending order by default, but can also sort them in descending order if specified.\n",
        "\n",
        "**The basic syntax for using the numpy.argsort() function is:**\n",
        "\n",
        "numpy.argsort(a, axis=-1, kind='quicksort', order=None)\n",
        "\n",
        "\n",
        "where a is the input array, axis specifies the axis along which to sort the array, kind specifies the sorting algorithm to be used, and order specifies the order in which to sort the elements in the case of structured arrays.\n",
        "\n",
        "The numpy.argsort() function returns an array of indices that would sort the input array. The indices are computed by sorting the input array and then returning the indices of the sorted elements. This function does not modify the input array, but returns a new array of indices.\n",
        "\n",
        "By default, the kind parameter is set to 'quicksort', but you can specify other sorting algorithms, such as 'heapsort' or 'mergesort'. The order parameter is used when sorting structured arrays based on specific field names.\n",
        "\n",
        "Overall, the numpy.argsort() function is a useful tool for performing indirect sorts on NumPy arrays and is commonly used in scientific computing and data analysis."
      ],
      "metadata": {
        "id": "d-kFUh8p8jBg"
      }
    },
    {
      "cell_type": "markdown",
      "source": [
        "**Example 01: Sorting a 1D array in ascending order and returning the indices:**"
      ],
      "metadata": {
        "id": "XyvrFKju9ebL"
      }
    },
    {
      "cell_type": "code",
      "source": [
        "import numpy as np\n",
        "arr = np.array([3, 1, 4, 2, 5])\n",
        "sorted_indices = np.argsort(arr)\n",
        "print(sorted_indices)"
      ],
      "metadata": {
        "id": "vfKfdX0i9jL1"
      },
      "execution_count": null,
      "outputs": []
    },
    {
      "cell_type": "markdown",
      "source": [
        "**Explanation**\n",
        "\n",
        "The given code uses the NumPy library to create a 1D NumPy array called \"arr\" with five integer values: 3, 1, 4, 2, and 5.\n",
        "\n",
        "Then, the np.argsort() function is used to obtain the sorted indices of the \"arr\" array in ascending order. The sorted indices indicate the original index of the elements in the \"arr\" array after sorting in ascending order.\n",
        "\n",
        "The sorted indices are then assigned to a new variable called \"sorted_indices\". Finally, the sorted indices are printed using the print() function.\n",
        "\n",
        "The output of the code would be a 1D NumPy array of indices that represent the ascending order of the elements in the original \"arr\" array. In other words, the indices indicate which element in the original \"arr\" array comes first, second, third, and so on when the elements are sorted in ascending order.\n",
        "\n",
        "In this case, the sorted indices would be [1, 3, 0, 2, 4], indicating that the second element (with value 1) comes first, followed by the fourth element (with value 2), the first element (with value 3), the third element (with value 4), and finally the fifth element (with value 5)."
      ],
      "metadata": {
        "id": "JUKE8yP-cdIT"
      }
    },
    {
      "cell_type": "markdown",
      "source": [
        "**Example 02: Sorting a 2D array by a specific column and returning the indices:**"
      ],
      "metadata": {
        "id": "CzGscnNj-A_q"
      }
    },
    {
      "cell_type": "code",
      "source": [
        "import numpy as np\n",
        "arr = np.array([[3, 2], [1, 4], [2, 1]])\n",
        "sorted_indices = np.argsort(arr[:, 1])\n",
        "print(sorted_indices)"
      ],
      "metadata": {
        "id": "LB8yhl1k-FBX"
      },
      "execution_count": null,
      "outputs": []
    },
    {
      "cell_type": "markdown",
      "source": [
        "**Explanation**\n",
        "\n",
        "The given code uses the NumPy library to create a 2D NumPy array called \"arr\" with three rows and two columns. Each row represents a pair of values.\n",
        "\n",
        "Then, the np.argsort() function is used to obtain the sorted indices of the \"arr\" array along the second column (i.e., column index 1) in ascending order. This is achieved by using the slicing notation \"arr[:, 1]\" to access all rows of the second column.\n",
        "\n",
        "The sorted indices are then assigned to a new variable called \"sorted_indices\". Finally, the sorted indices are printed using the print() function.\n",
        "\n",
        "The output of the code would be a 1D NumPy array of indices that represent the ascending order of the values in the second column of the \"arr\" array. In other words, the indices indicate which row in the original \"arr\" array comes first, second, third, and so on when the values in the second column are sorted in ascending order.\n",
        "\n",
        "In this case, the sorted indices would be [2, 0, 1], indicating that the third row (with values [2, 1]) comes first, followed by the first row (with values [3, 2]), and finally the second row (with values [1, 4])."
      ],
      "metadata": {
        "id": "cQo0GIhGdpDm"
      }
    },
    {
      "cell_type": "markdown",
      "source": [
        "**Example 03: Sorting a 3D array along a specific axis and returning the indices:**"
      ],
      "metadata": {
        "id": "BLNPB6GN-dQ-"
      }
    },
    {
      "cell_type": "code",
      "source": [
        "import numpy as np\n",
        "arr = np.array([[[2, 1], [4, 3]], [[6, 5], [8, 7]]])\n",
        "sorted_indices = np.argsort(arr[:, :, 0], axis=1)\n",
        "print(sorted_indices)"
      ],
      "metadata": {
        "id": "VhFDUOtQ-h-f"
      },
      "execution_count": null,
      "outputs": []
    },
    {
      "cell_type": "markdown",
      "source": [
        "**Explanation**\n",
        "\n",
        "The given code uses the NumPy library to create a 3D NumPy array called \"arr\" with two 2x2 matrices. Each matrix represents a pair of values.\n",
        "\n",
        "Then, the np.argsort() function is used to obtain the sorted indices of the \"arr\" array along the first axis (i.e., axis index 0) and the second axis (i.e., axis index 1) in ascending order of the first column (i.e., column index 0) of each matrix. This is achieved by using the slicing notation \"arr[:, :, 0]\" to access all rows and columns of the first column, and by setting the axis parameter to 1 to sort along the second axis.\n",
        "\n",
        "The sorted indices are then assigned to a new variable called \"sorted_indices\". Finally, the sorted indices are printed using the print() function.\n",
        "\n",
        "The output of the code would be a 2D NumPy array of indices that represent the ascending order of the values in the first column of each matrix in the \"arr\" array. In other words, the indices indicate which row in each matrix of the original \"arr\" array comes first, second, and so on when the values in the first column are sorted in ascending order.\n",
        "\n",
        "In this case, the sorted indices would be [[0 1], [0 1]], indicating that for the first matrix, the first row (with values [2, 1]) comes first, followed by the second row (with values [4, 3]). Similarly, for the second matrix, the first row (with values [6, 5]) comes first, followed by the second row (with values [8, 7])."
      ],
      "metadata": {
        "id": "8GBmBXrkeFAp"
      }
    },
    {
      "cell_type": "markdown",
      "source": [
        "**Example 04: Sorting a boolean array in descending order and returning the indices:**"
      ],
      "metadata": {
        "id": "Ni7kaCw_-qT1"
      }
    },
    {
      "cell_type": "code",
      "source": [
        "import numpy as np\n",
        "arr = np.array([True, False, True, False])\n",
        "sorted_indices = np.argsort(arr)[::-1]\n",
        "print(sorted_indices)"
      ],
      "metadata": {
        "id": "0iZSM_EC-t_v"
      },
      "execution_count": null,
      "outputs": []
    },
    {
      "cell_type": "markdown",
      "source": [
        "**Explanation**\n",
        "\n",
        "The given code uses the NumPy library to create a 1D NumPy array called \"arr\" with four boolean values.\n",
        "\n",
        "Then, the np.argsort() function is used to obtain the sorted indices of the \"arr\" array in ascending order. Since \"arr\" contains boolean values, the sorting will result in False values appearing before True values.\n",
        "\n",
        "The sorted indices are then assigned to a new variable called \"sorted_indices\". The slicing notation \"[::-1]\" is used to reverse the order of the sorted indices, effectively sorting the array in descending order.\n",
        "\n",
        "Finally, the sorted indices are printed using the print() function.\n",
        "\n",
        "The output of the code would be a 1D NumPy array of indices that represent the descending order of the boolean values in the \"arr\" array. In other words, the indices indicate which value in the original \"arr\" array comes first, second, third, and so on when the values are sorted in descending order.\n",
        "\n",
        "In this case, the sorted indices would be [2, 0, 3, 1], indicating that the third value (which is True) comes first, followed by the first value (which is True), then the fourth value (which is False), and finally the second value (which is False)."
      ],
      "metadata": {
        "id": "7uwMafeGevo8"
      }
    },
    {
      "cell_type": "markdown",
      "source": [
        "**Type(03):numpy.lexsort() function**\n",
        "\n",
        "The numpy.lexsort() function is a NumPy function that performs an indirect sort on multiple keys. It takes a sequence of arrays and returns an array of indices that can be used to index into the original arrays to obtain a sorted result. The sorting is performed on the last key first, then the second-last key, and so on, until the first key is sorted.\n",
        "\n",
        "**The syntax for the numpy.lexsort() function is:**\n",
        "\n",
        "\n",
        "numpy.lexsort(keys, axis=-1)\n",
        "\n",
        "\n",
        "where keys is a sequence of arrays that will be used as the sorting keys, and axis specifies the axis along which to sort. By default, axis=-1, which means that the last axis is sorted.\n"
      ],
      "metadata": {
        "id": "nOWBL5C4U2oZ"
      }
    },
    {
      "cell_type": "markdown",
      "source": [
        "**Example**"
      ],
      "metadata": {
        "id": "Fk3uVPc6V1dm"
      }
    },
    {
      "cell_type": "code",
      "source": [
        "import numpy as np\n",
        "a = np.array([3, 1, 2])\n",
        "b = np.array([2, 3, 1])\n",
        "c = np.sort(a,b)\n",
        "print(c)\n",
        "ind = np.lexsort((a, b))\n",
        "print(ind)  "
      ],
      "metadata": {
        "id": "p3-b9IfQV5Tb"
      },
      "execution_count": null,
      "outputs": []
    },
    {
      "cell_type": "markdown",
      "source": [
        "**Explanation**\n",
        "\n",
        "In this example, the arrays a and b are used as the sorting keys. The resulting ind array gives the indices that would sort a and b in the order specified by np.lexsort(). In this case, the sorted order would be [1, 2, 0], meaning that the second element of a is the smallest, followed by the third element of a, and then the first element of a."
      ],
      "metadata": {
        "id": "Xm6-3MewWfEN"
      }
    },
    {
      "cell_type": "markdown",
      "source": [
        "**Type(04): numpy.partition() function**\n",
        "\n",
        "The numpy.lexsort() function is a NumPy function that performs an indirect sort on multiple keys. It takes a sequence of arrays and returns an array of indices that can be used to index into the original arrays to obtain a sorted result. The sorting is performed on the last key first, then the second-last key, and so on, until the first key is sorted.\n",
        "\n",
        "**The syntax for the numpy.lexsort() function is:**\n",
        "\n",
        "numpy.lexsort(keys, axis=-1)\n",
        "\n",
        "where keys is a sequence of arrays that will be used as the sorting keys, and axis specifies the axis along which to sort. By default, axis=-1, which means that the last axis is sorted."
      ],
      "metadata": {
        "id": "36Pv4k-WWtJz"
      }
    },
    {
      "cell_type": "markdown",
      "source": [
        "**Example**"
      ],
      "metadata": {
        "id": "3fWgboikXN0s"
      }
    },
    {
      "cell_type": "code",
      "source": [],
      "metadata": {
        "id": "Qo76R-8hXQ4H"
      },
      "execution_count": null,
      "outputs": []
    }
  ]
}