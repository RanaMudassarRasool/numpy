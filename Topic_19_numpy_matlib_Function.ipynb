{
  "nbformat": 4,
  "nbformat_minor": 0,
  "metadata": {
    "colab": {
      "private_outputs": true,
      "provenance": [],
      "collapsed_sections": [
        "8lOQgqpbX9ja"
      ],
      "include_colab_link": true
    },
    "kernelspec": {
      "name": "python3",
      "display_name": "Python 3"
    },
    "language_info": {
      "name": "python"
    }
  },
  "cells": [
    {
      "cell_type": "markdown",
      "metadata": {
        "id": "view-in-github",
        "colab_type": "text"
      },
      "source": [
        "<a href=\"https://colab.research.google.com/github/ranamaddy/numpy/blob/main/Topic_19_numpy_matlib_Function.ipynb\" target=\"_parent\"><img src=\"https://colab.research.google.com/assets/colab-badge.svg\" alt=\"Open In Colab\"/></a>"
      ]
    },
    {
      "cell_type": "markdown",
      "source": [
        "# **Topic 19: numpy.matlib Function**\n",
        "\n",
        "The numpy.matlib module in Python provides a set of functions for working with matrices. It is part of the NumPy library, which is commonly used for numerical computing in Python.\n",
        "\n",
        "The main purpose of the numpy.matlib module is to create(بنانا ) and manipulate(جوڑتوڑ )matrices. It offers functions to generate(پیدا کرنا ) different types of matrices, such as identity matrices, zero matrices, and ones matrices. These functions can be useful when working with linear algebra operations or when initializing matrices for various computations(حسابات).\n",
        "\n",
        "Here are some key functions provided by numpy.matlib:\n",
        "\n",
        "1. **numpy.matlib.empty(shape, dtype=None):**\n",
        "\n",
        " This function creates a matrix with the given shape (specified as a tuple) and data type. The matrix elements are not initialized and may contain random values.\n",
        "\n",
        "2. **numpy.matlib.zeros(shape, dtype=None):**\n",
        "\n",
        " This function creates a matrix filled with zeros of the given shape and data type.\n",
        "\n",
        "3. **numpy.matlib.ones(shape, dtype=None):**\n",
        "\n",
        " This function creates a matrix filled with ones of the given shape and data type.\n",
        "\n",
        "4. **numpy.matlib.eye(n, m=None, k=0, dtype=<class 'float'>):**\n",
        "\n",
        " This function creates an identity matrix with size n-by-m. The k parameter specifies the diagonal offset (0 for the main diagonal, positive for upper diagonals, and negative for lower diagonals).\n",
        "\n",
        "4. **numpy.matlib.rand(shape, dtype=None):**\n",
        "\n",
        " This function creates a matrix filled with random values between 0 and 1 of the given shape and data type.\n",
        "\n",
        "These functions help simplify matrix initialization and manipulation tasks in Python, providing convenient ways to create matrices with specific properties or values. They are particularly useful in scientific and numerical computations where matrices play a significant role."
      ],
      "metadata": {
        "id": "8lOQgqpbX9ja"
      }
    },
    {
      "cell_type": "markdown",
      "source": [
        "**Type 1: numpy.matlib.empty**"
      ],
      "metadata": {
        "id": "R0mOiUVBcpTF"
      }
    },
    {
      "cell_type": "markdown",
      "source": [
        "**Example 01:Creating a 2x2 empty matrix:**"
      ],
      "metadata": {
        "id": "KbtiVXZigfHx"
      }
    },
    {
      "cell_type": "code",
      "source": [
        "import numpy as np\n",
        "empty_matrix = np.matlib.empty((2, 2))\n",
        "print(empty_matrix)\n"
      ],
      "metadata": {
        "id": "HShWFFMIgkvw"
      },
      "execution_count": null,
      "outputs": []
    },
    {
      "cell_type": "markdown",
      "source": [
        "**Example 02:Creating a 2x2 empty matrix:**"
      ],
      "metadata": {
        "id": "nJBt23jmik3u"
      }
    },
    {
      "cell_type": "code",
      "source": [
        "import numpy as np\n",
        "empty_matrix = np.matlib.empty((3, 3))\n",
        "print(empty_matrix)"
      ],
      "metadata": {
        "id": "ELK9qlsoiqks"
      },
      "execution_count": null,
      "outputs": []
    },
    {
      "cell_type": "markdown",
      "source": [
        "**Example 03: Creating a 1x5 empty matrix:**"
      ],
      "metadata": {
        "id": "LEZ6r9xui2hb"
      }
    },
    {
      "cell_type": "code",
      "source": [
        "import numpy as np\n",
        "empty_matrix = np.matlib.empty((1, 5))\n",
        "print(empty_matrix)\n"
      ],
      "metadata": {
        "id": "2kJKcTysi9vN"
      },
      "execution_count": null,
      "outputs": []
    },
    {
      "cell_type": "markdown",
      "source": [
        "**Example 04 :Creating a 3x2 empty matrix with complex numbers:**"
      ],
      "metadata": {
        "id": "eYntdMrZkeaS"
      }
    },
    {
      "cell_type": "code",
      "source": [
        "import numpy as np\n",
        "empty_matrix = np.matlib.empty((3,2),dtype=complex)\n",
        "print(empty_matrix)"
      ],
      "metadata": {
        "id": "TaVNfgDrktGk"
      },
      "execution_count": null,
      "outputs": []
    },
    {
      "cell_type": "markdown",
      "source": [
        "**Example 05 :Creating a 3x2 empty matrix with integer numbers:**"
      ],
      "metadata": {
        "id": "zsJf1RCsmSVM"
      }
    },
    {
      "cell_type": "code",
      "source": [
        "import numpy as np\n",
        "empty_matrix = np.matlib.empty((3,2),dtype=int)\n",
        "print(empty_matrix)"
      ],
      "metadata": {
        "id": "pKRLO18MmD7V"
      },
      "execution_count": null,
      "outputs": []
    },
    {
      "cell_type": "markdown",
      "source": [
        "**Type 2: numpy.matlib.zeros**"
      ],
      "metadata": {
        "id": "nIJq6IfJm8TT"
      }
    },
    {
      "cell_type": "markdown",
      "source": [
        "**Example 01:Creating a 2x2 zeros matrix:**"
      ],
      "metadata": {
        "id": "1H2DjUo8pfDT"
      }
    },
    {
      "cell_type": "code",
      "source": [
        "import numpy as np\n",
        "import numpy.matlib\n",
        "empty_matrix = np.matlib.zeros((2, 2))\n",
        "print(empty_matrix)"
      ],
      "metadata": {
        "id": "_axSDh1Toqjj"
      },
      "execution_count": null,
      "outputs": []
    },
    {
      "cell_type": "markdown",
      "source": [
        "**Example 02 :Creating a 3x2 zeros matrix with complex numbers**:"
      ],
      "metadata": {
        "id": "cZukxbCbqASw"
      }
    },
    {
      "cell_type": "code",
      "source": [
        "import numpy as np\n",
        "empty_matrix = np.matlib.zeros((3,2),dtype=complex)\n",
        "print(empty_matrix)"
      ],
      "metadata": {
        "id": "SWs_AsVPqGl_"
      },
      "execution_count": null,
      "outputs": []
    },
    {
      "cell_type": "markdown",
      "source": [
        "**Type 3: numpy.matlib.ones**"
      ],
      "metadata": {
        "id": "tC7PPXoOqvcI"
      }
    },
    {
      "cell_type": "markdown",
      "source": [
        "**Example 01:Creating a 2x2 ones matrix:**"
      ],
      "metadata": {
        "id": "6RyEZerbroxZ"
      }
    },
    {
      "cell_type": "code",
      "source": [
        "import numpy as np\n",
        "empty_matrix = np.matlib.ones((2, 2))\n",
        "print(empty_matrix)"
      ],
      "metadata": {
        "id": "L1zm2hRRrsoe"
      },
      "execution_count": null,
      "outputs": []
    },
    {
      "cell_type": "markdown",
      "source": [
        "**Example 02: Create a 3x3 matrix of ones**"
      ],
      "metadata": {
        "id": "3tTMlgApsAcd"
      }
    },
    {
      "cell_type": "code",
      "source": [
        "import numpy as np\n",
        "empty_matrix = np.matlib.ones((3, 3))\n",
        "print(empty_matrix)"
      ],
      "metadata": {
        "id": "qTeucVdTsHOo"
      },
      "execution_count": null,
      "outputs": []
    },
    {
      "cell_type": "markdown",
      "source": [
        "**Example 03 :Creating a 3x2 ones matrix with complex numbers**:"
      ],
      "metadata": {
        "id": "NvTP3q7ssY9u"
      }
    },
    {
      "cell_type": "code",
      "source": [
        "import numpy as np\n",
        "empty_matrix = np.matlib.ones((3, 2),dtype=complex)\n",
        "print(empty_matrix)"
      ],
      "metadata": {
        "id": "IKcuU75SsmRw"
      },
      "execution_count": null,
      "outputs": []
    },
    {
      "cell_type": "markdown",
      "source": [
        "**Type 4: numpy.matlib.eye**"
      ],
      "metadata": {
        "id": "bYM6QdqPs_Ie"
      }
    },
    {
      "cell_type": "markdown",
      "source": [
        "**Example 01: Create a 2x2 identity matrix**"
      ],
      "metadata": {
        "id": "G9t7Eey8u50w"
      }
    },
    {
      "cell_type": "code",
      "source": [
        "import numpy as np\n",
        "matrix = np.matlib.eye(2,2)\n",
        "print(matrix)\n"
      ],
      "metadata": {
        "id": "btY2_SbWvELX"
      },
      "execution_count": null,
      "outputs": []
    },
    {
      "cell_type": "markdown",
      "source": [
        "**Example 02: Create a 3x3 identity matrix**"
      ],
      "metadata": {
        "id": "c1AzcxigvZI8"
      }
    },
    {
      "cell_type": "code",
      "source": [
        "import numpy as np\n",
        "matrix = np.matlib.eye(3,3)\n",
        "print(matrix)"
      ],
      "metadata": {
        "id": "jRJlbcy-vcck"
      },
      "execution_count": null,
      "outputs": []
    },
    {
      "cell_type": "markdown",
      "source": [
        "**Example 03: Create a 3x2 identity matrix**"
      ],
      "metadata": {
        "id": "htjqzj1KwRNm"
      }
    },
    {
      "cell_type": "code",
      "source": [
        "import numpy as np\n",
        "matrix = np.matlib.eye(3, 2)\n",
        "print(matrix)"
      ],
      "metadata": {
        "id": "YWhHnswbwX4a"
      },
      "execution_count": null,
      "outputs": []
    },
    {
      "cell_type": "markdown",
      "source": [
        "**Example 04: Create a 2x2 identity matrix with a different diagonal offset**"
      ],
      "metadata": {
        "id": "Mo-kGxQrw-3y"
      }
    },
    {
      "cell_type": "code",
      "source": [
        "import numpy as np\n",
        "matrix = np.matlib.eye(2, k=1)\n",
        "print(matrix)\n"
      ],
      "metadata": {
        "id": "ZbJBXpRHxH0p"
      },
      "execution_count": null,
      "outputs": []
    },
    {
      "cell_type": "markdown",
      "source": [
        "**Explanation:**\n",
        "\n",
        "import numpy as np: This line imports the NumPy library and assigns it the alias np. NumPy is a powerful library in Python for numerical computing and provides various functions and data structures for working with arrays and matrices.\n",
        "\n",
        "**matrix = np.matlib.eye(2, k=1):** This line creates a matrix using the np.matlib.eye() function. The **eye()** function is used to create an identity matrix, which is a square matrix with ones on the main diagonal and zeros elsewhere. In this case, we are creating a 2x2 identity matrix. The k=1 parameter specifies that the ones should be shifted one position to the right.\n",
        "\n",
        "**print(matrix):** This line prints the matrix that was created. The print() function is used to display the value of matrix in the console.\n",
        "\n",
        "This matrix has zeros in the top left and bottom right positions, and a one in the top right position."
      ],
      "metadata": {
        "id": "WkQez8l82WPf"
      }
    },
    {
      "cell_type": "markdown",
      "source": [
        "**Example 05: Create a 2x2 identity matrix with a different diagonal offset**"
      ],
      "metadata": {
        "id": "gnHc-UUK1uzO"
      }
    },
    {
      "cell_type": "code",
      "source": [
        "import numpy as np\n",
        "matrix = np.matlib.eye(2, k=-1)\n",
        "print(matrix)"
      ],
      "metadata": {
        "id": "TpRx1kwWxzoV"
      },
      "execution_count": null,
      "outputs": []
    },
    {
      "cell_type": "markdown",
      "source": [
        "**Explanation:**\n",
        "\n",
        "import numpy as np: This line imports the NumPy library and assigns it the alias np, allowing us to use NumPy functions and objects.\n",
        "\n",
        "**matrix = np.matlib.eye(2, k=-1):** This line creates a matrix using the np.matlib.eye() function. The eye() function is used to generate an identity matrix. In this case, we are creating a 2x2 identity matrix. The k=-1 parameter specifies that the ones should be shifted one position to the left (negative direction) from the main diagonal.\n",
        "\n",
        "**print(matrix):** This line prints the matrix that was created. The print() function is used to display the value of matrix in the console.\n",
        "\n",
        "**In this matrix,** there are zeros in the top right and bottom left positions, and a one in the bottom right position. The diagonal from the top left to the bottom right contains all zeros. This is because the k=-1 parameter shifted the ones one position to the left from the main diagonal."
      ],
      "metadata": {
        "id": "P0zZhBFc4kAU"
      }
    },
    {
      "cell_type": "markdown",
      "source": [
        "**Type 5: numpy.matlib.rand**"
      ],
      "metadata": {
        "id": "bU4qZFwi5Xt8"
      }
    },
    {
      "cell_type": "markdown",
      "source": [
        "**Example 01: Generate a 2x2 matrix of random numbers**"
      ],
      "metadata": {
        "id": "Fzb2hF91632h"
      }
    },
    {
      "cell_type": "code",
      "source": [
        "import numpy as np\n",
        "matrix = np.matlib.rand(2, 2)\n",
        "print(matrix)\n"
      ],
      "metadata": {
        "id": "FBpyqh986-gr"
      },
      "execution_count": null,
      "outputs": []
    },
    {
      "cell_type": "markdown",
      "source": [],
      "metadata": {
        "id": "0Xp_YaxjH1wL"
      }
    },
    {
      "cell_type": "markdown",
      "source": [
        "**Explanation:**\n",
        "\n",
        "Each element in the matrix is a random number between 0 and 1. The specific values will differ each time you run the code because they are randomly generated."
      ],
      "metadata": {
        "id": "SUv66bx4HVwS"
      }
    },
    {
      "cell_type": "markdown",
      "source": [
        "**Example 02: Generate a 3x2 matrix of random numbers**"
      ],
      "metadata": {
        "id": "k2-Q5uatH71V"
      }
    },
    {
      "cell_type": "code",
      "source": [
        "import numpy as np\n",
        "matrix = np.matlib.rand(2, 2)\n",
        "print(matrix)"
      ],
      "metadata": {
        "id": "fZlW7dAUH_ZC"
      },
      "execution_count": null,
      "outputs": []
    },
    {
      "cell_type": "markdown",
      "source": [
        "**Example 03: Generate a 2x2 matrix of random numbers between 0 and 10**"
      ],
      "metadata": {
        "id": "ZGeTcns8IRjP"
      }
    },
    {
      "cell_type": "code",
      "source": [
        "import numpy as np\n",
        "matrix = np.matlib.rand(2, 2) * 10\n",
        "print(matrix)\n"
      ],
      "metadata": {
        "id": "1gf7BX91Ighv"
      },
      "execution_count": null,
      "outputs": []
    },
    {
      "cell_type": "markdown",
      "source": [
        "**Example 04: Generate a 3x3 matrix of random numbers between -1 and 1**"
      ],
      "metadata": {
        "id": "U9ovRZXcJAQ1"
      }
    },
    {
      "cell_type": "code",
      "source": [
        "import numpy as np\n",
        "matrix = np.matlib.rand(3, 3) * 2 - 1\n",
        "print(matrix)\n"
      ],
      "metadata": {
        "id": "eeiNUAcWJHeP"
      },
      "execution_count": null,
      "outputs": []
    },
    {
      "cell_type": "markdown",
      "source": [
        "**Explanation:**\n",
        "\n",
        "Each element in the matrix is a random number between -1 and 1. The specific values will differ each time you run the code because they are randomly generated."
      ],
      "metadata": {
        "id": "tkB23OaaJ98m"
      }
    }
  ]
}