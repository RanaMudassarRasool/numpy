{
  "nbformat": 4,
  "nbformat_minor": 0,
  "metadata": {
    "colab": {
      "private_outputs": true,
      "provenance": [],
      "include_colab_link": true
    },
    "kernelspec": {
      "name": "python3",
      "display_name": "Python 3"
    },
    "language_info": {
      "name": "python"
    }
  },
  "cells": [
    {
      "cell_type": "markdown",
      "metadata": {
        "id": "view-in-github",
        "colab_type": "text"
      },
      "source": [
        "<a href=\"https://colab.research.google.com/github/ranamaddy/numpy/blob/main/Topic_03_Topic%3DNumPy_Array_Indexing.ipynb\" target=\"_parent\"><img src=\"https://colab.research.google.com/assets/colab-badge.svg\" alt=\"Open In Colab\"/></a>"
      ]
    },
    {
      "cell_type": "markdown",
      "source": [
        "As the supervisor of **Waqas Baho**, my name is **Rana Mudassar Rasool**. I am writing this statement to confirm that the code in question was written by Waqas Baho under my supervision for a project in Google Colab."
      ],
      "metadata": {
        "id": "SvvbeCg8e4Pz"
      }
    },
    {
      "cell_type": "markdown",
      "source": [
        "# **Topic 03:Topic=NumPy Array Indexing**\n",
        "\n",
        "NumPy is a popular Python library used for scientific computing, particularly for numerical operations and data analysis. One of the most important features of NumPy is its powerful array indexing capabilities.\n",
        "\n",
        "Array indexing refers to the way in which elements of an array are selected and manipulated. In NumPy, arrays can be indexed using various methods, such as slicing, fancy indexing, and boolean indexing. Slicing involves selecting a range of elements from an array, while fancy indexing allows you to select elements using a list or array of indices. Boolean indexing involves selecting elements based on a condition or logical expression.\n",
        "\n",
        "NumPy array indexing can be used for a wide range of tasks, such as filtering data, selecting specific elements from an array, and performing mathematical operations on subsets of an array. With its efficient array indexing capabilities, NumPy is an essential tool for many scientific and data analysis applications in Python."
      ],
      "metadata": {
        "id": "pKofuAQ4ETjW"
      }
    },
    {
      "cell_type": "markdown",
      "source": [
        "**(01) index one-dimension  Array**"
      ],
      "metadata": {
        "id": "1uNRg3RbFv-p"
      }
    },
    {
      "cell_type": "markdown",
      "source": [
        "**Example**"
      ],
      "metadata": {
        "id": "O1UZAy9hGeMS"
      }
    },
    {
      "cell_type": "code",
      "source": [
        "import numpy as np\n",
        "a = np.array([1, 2, 3, 4])\n",
        "print(\"output:\",a[2])"
      ],
      "metadata": {
        "id": "UcDVpuoOF8aB"
      },
      "execution_count": null,
      "outputs": []
    },
    {
      "cell_type": "markdown",
      "source": [
        "The code snippet you provided creates a NumPy array a with the values [1, 2, 3, 4]. It then uses indexing to select the element at index 2 of the array, which is the value 3.\n",
        "\n",
        "So when the code is executed, it will print the value 3 to the console."
      ],
      "metadata": {
        "id": "huYId8CAGb4q"
      }
    },
    {
      "cell_type": "markdown",
      "source": [
        "**(02) index 2-D Array**"
      ],
      "metadata": {
        "id": "722ky9r_GwwT"
      }
    },
    {
      "cell_type": "markdown",
      "source": [
        "**Example 01**"
      ],
      "metadata": {
        "id": "3UyIYIjJG160"
      }
    },
    {
      "cell_type": "code",
      "source": [
        "import numpy as np\n",
        "a = np.array([[1,2,3,4,5], [6,7,8,9,10]])\n",
        "print(\"original input array:\", a)\n",
        "print()\n",
        "print(\" output index:\",a[0, 1])"
      ],
      "metadata": {
        "id": "2diRBqgHG5ff"
      },
      "execution_count": null,
      "outputs": []
    },
    {
      "cell_type": "markdown",
      "source": [
        "The code snippet you provided creates a 2-dimensional NumPy array arr with the values [[1, 2, 3, 4, 5], [6, 7, 8, 9, 10]]. This array has 2 rows and 5 columns.\n",
        "\n",
        "The indexing operation arr[0, 1] is used to select the element at row 0 and column 1 of the array. In this case, the value at row 0 and column 1 is 2.\n",
        "\n",
        "So when the code is executed, it will print the value 2 to the console."
      ],
      "metadata": {
        "id": "6LOH45wcHT5Z"
      }
    },
    {
      "cell_type": "markdown",
      "source": [
        "**Example 02**"
      ],
      "metadata": {
        "id": "TXF7SWsiIlt_"
      }
    },
    {
      "cell_type": "code",
      "source": [
        "a = np.array([[1,2,3,4,5], [6,7,8,9,10],[11,12,13,14,15]])\n",
        "print(\"original input array:\",a)\n",
        "print()\n",
        "print(\"output index:\",a[0,1])"
      ],
      "metadata": {
        "id": "77KXV8UBIrlb"
      },
      "execution_count": null,
      "outputs": []
    },
    {
      "cell_type": "markdown",
      "source": [
        "The given code is written in the Python programming language and uses the numpy library to create a 2-dimensional array named 'a' with dimensions 3x5. The elements of the array are initialized with values 1 through 15.\n",
        "\n",
        "The print statements are used to display the original input array and the value of the element at the first row and second column, which is 2.\n",
        "\n",
        "Here is the interpretation of the code:\n",
        "\n",
        "The first line creates a 2-dimensional numpy array with 3 rows and 5 columns and assigns it to the variable 'a'.\n",
        "\n",
        "The second line prints the message \"original input array:\" to the console.\n",
        "\n",
        "The third line prints the value of 'a' to the console.\n",
        "\n",
        "The fourth line prints a blank line to the console.\n",
        "\n",
        "The fifth line prints the message \"output index:\" to the console.\n",
        "\n",
        "The sixth line accesses the element of 'a' at the first row and second column, which is the value 2, and prints it to the console."
      ],
      "metadata": {
        "id": "h8RKbbUCI9tf"
      }
    },
    {
      "cell_type": "markdown",
      "source": [
        "**(03)  index 3-D Array**"
      ],
      "metadata": {
        "id": "-VhI_sQMruB6"
      }
    },
    {
      "cell_type": "code",
      "source": [
        "a = np.array([[[0, 1, 2], [3, 4, 5]],[[0, 1, 2], [3, 4, 5]]])\n",
        "print(\"original input array:\",a)\n",
        "print()\n",
        "print(\"output index:\",a[0,1])"
      ],
      "metadata": {
        "id": "3rt_W2fzrwV5"
      },
      "execution_count": null,
      "outputs": []
    },
    {
      "cell_type": "markdown",
      "source": [
        "The given code is written in the Python programming language and uses the numpy library to create a 3-dimensional array named 'a' with dimensions 2x2x3. The elements of the array are initialized with values 0 through 5.\n",
        "\n",
        "The print statements are used to display the original input array and the elements of the array at the first index of the first dimension and the second index of the second dimension, which are [3,4,5].\n",
        "\n",
        "Here is the interpretation of the code:\n",
        "\n",
        "The first line creates a 3-dimensional numpy array with shape (2, 2, 3) and assigns it to the variable 'a'.\n",
        "\n",
        "The second line prints the message \"original input array:\" to the console.\n",
        "\n",
        "The third line prints the value of 'a' to the console.\n",
        "\n",
        "The fourth line prints a blank line to the console.\n",
        "\n",
        "The fifth line prints the message \"output:\" to the console.\n",
        "\n",
        "The sixth line accesses the element of 'a' at the first index of the first dimension (which is the first 2x3 array), and the second index of the second dimension (which is the second 3-element array within that 2x3 array). This corresponds to the values [3,4,5]. These values are then printed to the console."
      ],
      "metadata": {
        "id": "pgOHzAKUEsJG"
      }
    },
    {
      "cell_type": "markdown",
      "source": [
        "**(04) index (negative)1-D Array**"
      ],
      "metadata": {
        "id": "PWLSDrqJKJaI"
      }
    },
    {
      "cell_type": "markdown",
      "source": [
        "**Example**"
      ],
      "metadata": {
        "id": "b4BrPVDzLlbu"
      }
    },
    {
      "cell_type": "code",
      "source": [
        "a = np.array([1, 2, 3, 4])\n",
        "print(\"output index:\",a[-2])"
      ],
      "metadata": {
        "id": "NtNBurjtKRAX"
      },
      "execution_count": null,
      "outputs": []
    },
    {
      "cell_type": "markdown",
      "source": [
        "This code snippet is written in Python programming language and uses the NumPy library.\n",
        "\n",
        "The code creates a NumPy array called \"a\" with the values 1, 2, 3, and 4.\n",
        "\n",
        "The next line prints the value of the second last element in the array (index -2) using square brackets to access the element at that index.\n",
        "\n",
        "The output will be \"output index: 3\" as the second last element in the array is 3."
      ],
      "metadata": {
        "id": "ILda9EmmLF70"
      }
    },
    {
      "cell_type": "markdown",
      "source": [
        "**(05) index (negative)2-D Array**"
      ],
      "metadata": {
        "id": "-y7ZYdyCLta9"
      }
    },
    {
      "cell_type": "code",
      "source": [
        "a = np.array([[1,2,3,4,5], [6,7,8,9,10]])\n",
        "print(\"output index:\",a[1,-4])"
      ],
      "metadata": {
        "id": "-4AXTO6jLxWf"
      },
      "execution_count": null,
      "outputs": []
    },
    {
      "cell_type": "markdown",
      "source": [
        "This code snippet is written in Python programming language and uses the NumPy library.\n",
        "\n",
        "The code creates a NumPy array called \"a\" with two rows and five columns. The first row contains the values 1, 2, 3, 4, and 5, while the second row contains the values 6, 7, 8, 9, and 10.\n",
        "\n",
        "The next line prints the value of the fourth element in the second row (index -4) using square brackets to access the element at that index.\n",
        "\n",
        "The output will be \"output index: 7\" as the fourth element in the second row is 7.\n",
        "\n"
      ],
      "metadata": {
        "id": "M7CLsHieMR5g"
      }
    },
    {
      "cell_type": "markdown",
      "source": [
        "**Example**"
      ],
      "metadata": {
        "id": "os8TcARjMy5x"
      }
    },
    {
      "cell_type": "code",
      "source": [
        "a = np.array([[1,2,3,4,5], [6,7,8,9,10],[11,12,13,14,15]])\n",
        "print(\"output index:\",a[2,-3])"
      ],
      "metadata": {
        "id": "a6q-O3BFM0KI"
      },
      "execution_count": null,
      "outputs": []
    },
    {
      "cell_type": "markdown",
      "source": [
        "**(06) index (negative)3-D Array**"
      ],
      "metadata": {
        "id": "p3T2-BEHNljY"
      }
    },
    {
      "cell_type": "code",
      "source": [
        "a = np.array([[[0, 1, 2], [3, 4, 5]],[[0, 1, 2], [3, 4, 5]]])\n",
        "print(\"original input array:\",a)\n",
        "print()\n",
        "print(\"output index:\",a[0,-1])"
      ],
      "metadata": {
        "id": "U1ja17IMNxM6"
      },
      "execution_count": null,
      "outputs": []
    },
    {
      "cell_type": "markdown",
      "source": [
        "This code snippet is written in Python programming language and uses the NumPy library.\n",
        "\n",
        "The code creates a NumPy array called \"a\" with two sets of two rows and three columns. Each set contains the same values from 0 to 5.\n",
        "\n",
        "The next line prints the original array \"a\".\n",
        "\n",
        "The following line prints the value of the last element in the first row of the first set of arrays (index -1) using square brackets to access the element at that index.\n",
        "\n",
        "The output will be \"original input array: [[[0 1 2] [3 4 5]] [[0 1 2] [3 4 5]]]\" and \"output index: [3 4 5]\" as it prints the last element in the first row of the first set of arrays, which is the array [3, 4, 5]."
      ],
      "metadata": {
        "id": "d6BhoFqOOkoz"
      }
    }
  ]
}