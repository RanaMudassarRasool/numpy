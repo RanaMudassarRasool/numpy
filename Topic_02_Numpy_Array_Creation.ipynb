{
  "nbformat": 4,
  "nbformat_minor": 0,
  "metadata": {
    "colab": {
      "private_outputs": true,
      "provenance": [],
      "include_colab_link": true
    },
    "kernelspec": {
      "name": "python3",
      "display_name": "Python 3"
    },
    "language_info": {
      "name": "python"
    },
    "accelerator": "GPU",
    "gpuClass": "standard"
  },
  "cells": [
    {
      "cell_type": "markdown",
      "metadata": {
        "id": "view-in-github",
        "colab_type": "text"
      },
      "source": [
        "<a href=\"https://colab.research.google.com/github/ranamaddy/numpy/blob/main/Topic_02_Numpy_Array_Creation.ipynb\" target=\"_parent\"><img src=\"https://colab.research.google.com/assets/colab-badge.svg\" alt=\"Open In Colab\"/></a>"
      ]
    },
    {
      "cell_type": "markdown",
      "source": [
        "# **Topic 02: Numpy Array Creation**\n",
        "\n",
        "Numpy is a popular Python library used for scientific computing, particularly for working with arrays. Numpy arrays are similar to Python lists, but they offer more efficient and convenient ways to perform mathematical operations on large datasets.\n",
        "\n",
        "# There are several ways to create a numpy array.\n",
        "# 1.Creating an array from a list or tuple:\n",
        "\n",
        "import numpy as np my_list = [1, 2, 3, 4, 5] my_array = np.array(my_list) Creating an array of random values:\n",
        "\n",
        "# 2.Creating an array of zeros or ones:\n",
        "\n",
        " zeros_array = np.zeros(5) # creates an array of five zeros ones_array = np.ones(3) # creates an array of three ones\n",
        "\n",
        "# 3.Creating an array with a arange of values:\n",
        "\n",
        "range_array = np.arange(0, 10, 2) # creates an array with values from 0 to 8 in increments of 2\n",
        "\n",
        "# 4.Creating an array of random values:\n",
        "\n",
        "random_array = np.random.rand(3, 4) # creates a 3x4 array of random values between 0 and 1\n",
        "\n",
        "# 5.Creating an array of evenly spaced values:\n",
        "\n",
        "linear_array = np.linspace(0, 1, 11) # creates an array of 11 evenly spaced values between 0 and 1\n",
        "\n",
        "These are just a few examples of ways to create numpy arrays. Numpy also provides many functions to manipulate arrays, such as reshaping, slicing, and concatenating, among others."
      ],
      "metadata": {
        "id": "0IdJTLsPP-Tp"
      }
    },
    {
      "cell_type": "markdown",
      "source": [
        "**1.Creating an array from a list or tuple:**"
      ],
      "metadata": {
        "id": "Lyi9A-6aRLTB"
      }
    },
    {
      "cell_type": "markdown",
      "source": [
        "**Example 01**"
      ],
      "metadata": {
        "id": "Pf27eMa_RabY"
      }
    },
    {
      "cell_type": "code",
      "source": [
        "import numpy as np\n",
        "my_list = [1, 2, 3, 4, 5]\n",
        "a = np.array(my_list)\n",
        "print(a)"
      ],
      "metadata": {
        "id": "1OtOKZqtR0br"
      },
      "execution_count": null,
      "outputs": []
    },
    {
      "cell_type": "markdown",
      "source": [
        "This is a Python code that imports the NumPy library and creates a list of integers called my_list containing the numbers 1 through 5. Then, it creates a NumPy array called \"my_array\" using the \"array\" function from NumPy and passing the \"my_list\" as an argument.\n",
        "\n",
        "\n",
        "Finally, it prints the contents of \"my_array\" to the console. The output will be a one-dimensional array containing the same integers as \"my_list\". This code is similar to the previous one, except it uses the NumPy library to create the array instead of the \"array\" module."
      ],
      "metadata": {
        "id": "ar4ExpVlTZad"
      }
    },
    {
      "cell_type": "markdown",
      "source": [
        "**Example 02**"
      ],
      "metadata": {
        "id": "zb7h0dMZS3kE"
      }
    },
    {
      "cell_type": "code",
      "source": [
        "import numpy as np\n",
        "my_tuple = (1, 2, 3, 4, 5)\n",
        "a = np.array( my_tuple)\n",
        "print(a)"
      ],
      "metadata": {
        "id": "qx0z8TUfS9Ob"
      },
      "execution_count": null,
      "outputs": []
    },
    {
      "cell_type": "markdown",
      "source": [
        "This is a Python code that imports the NumPy library and creates a tuple of integers called \"my_tuple\" containing the numbers 1 through 5. Then, it creates a NumPy array called \"my_array\" using the \"array\" function from NumPy and passing the \"my_tuple\" as an argument.\n",
        "\n",
        "Finally, it prints the contents of \"my_array\" to the console. The output will be a one-dimensional array containing the same integers as \"my_tuple\". This code is similar to the previous one, except it uses the NumPy library to create the array instead of the \"array\" module. Note that tuples are immutable, which means their contents cannot be changed once they are created."
      ],
      "metadata": {
        "id": "EEnBEVdzTlCW"
      }
    },
    {
      "cell_type": "markdown",
      "source": [
        "**2.Creating an array of zeros or ones:**"
      ],
      "metadata": {
        "id": "xqqvG25sT18X"
      }
    },
    {
      "cell_type": "markdown",
      "source": [
        "**Example 01**"
      ],
      "metadata": {
        "id": "CfWfGS70T-Y0"
      }
    },
    {
      "cell_type": "code",
      "source": [
        "import numpy as np\n",
        "a = np.zeros(5)\n",
        "print(a)"
      ],
      "metadata": {
        "id": "4Mp_kh8zT39c"
      },
      "execution_count": null,
      "outputs": []
    },
    {
      "cell_type": "markdown",
      "source": [
        "\n",
        "The code snippet you provided creates a NumPy array of zeros with a length of 5 and assigns it to the variable my_zeros. The print function is then used to display the contents of the array."
      ],
      "metadata": {
        "id": "YtDALVG_USBx"
      }
    },
    {
      "cell_type": "markdown",
      "source": [
        "**Example 02**"
      ],
      "metadata": {
        "id": "qT11kMw6UVxV"
      }
    },
    {
      "cell_type": "code",
      "source": [
        "import numpy as np\n",
        "a = np.zeros((3, 3))\n",
        "print(a)"
      ],
      "metadata": {
        "id": "YYH9kWXvUd3z"
      },
      "execution_count": null,
      "outputs": []
    },
    {
      "cell_type": "markdown",
      "source": [
        "**Example 03**"
      ],
      "metadata": {
        "id": "84TDQLF0Uu-m"
      }
    },
    {
      "cell_type": "code",
      "source": [
        "import numpy as np\n",
        "a = np.ones(5)\n",
        "print(a)"
      ],
      "metadata": {
        "id": "w-hECA5eU1Dw"
      },
      "execution_count": null,
      "outputs": []
    },
    {
      "cell_type": "markdown",
      "source": [
        "**Example 04**"
      ],
      "metadata": {
        "id": "VysXXAXcU83c"
      }
    },
    {
      "cell_type": "code",
      "source": [
        "import numpy as np\n",
        "a = np.ones((2, 2))\n",
        "print(a)"
      ],
      "metadata": {
        "id": "um_Ehy_eVBIp"
      },
      "execution_count": null,
      "outputs": []
    },
    {
      "cell_type": "markdown",
      "source": [
        "**3.Creating an array with a range of values:**\n",
        "\n"
      ],
      "metadata": {
        "id": "tTqmIm0YVGQR"
      }
    },
    {
      "cell_type": "code",
      "source": [
        "import numpy as np\n",
        "a = np.arange(0, 10, 2)    \n",
        "print(a)"
      ],
      "metadata": {
        "id": "R7skAKJGVSfY"
      },
      "execution_count": null,
      "outputs": []
    },
    {
      "cell_type": "markdown",
      "source": [
        "The code you provided creates a NumPy array called \"**a**\" that contains the values 0, 2, 4, 6, and 8. The \"**np.arange()**\" function is used to generate these values by starting at 0 and incrementing by 2 until it reaches 10 (exclusive). The resulting array is then printed using the \"**print()**\" function."
      ],
      "metadata": {
        "id": "fJHS-qMHVmXs"
      }
    },
    {
      "cell_type": "markdown",
      "source": [
        "**4.Creating an array of random values:**"
      ],
      "metadata": {
        "id": "eHKQZDRDVwsb"
      }
    },
    {
      "cell_type": "code",
      "source": [
        "import numpy as np\n",
        "a = np.random.rand(2, 4)\n",
        "print(a)"
      ],
      "metadata": {
        "id": "KnVTlU9QWBxd"
      },
      "execution_count": null,
      "outputs": []
    },
    {
      "cell_type": "markdown",
      "source": [
        "The code you provided creates a 2-dimensional NumPy array called \"**a**\" that has 3 rows and 4 columns. The values in the array are randomly generated using the \"**np.random.rand()**\" function, which creates an array of random numbers uniformly distributed between 0 and 1. The resulting array is then printed using the \"**print()**\" function."
      ],
      "metadata": {
        "id": "RjgRlIgVWKGJ"
      }
    },
    {
      "cell_type": "markdown",
      "source": [
        "**5.Creating an array of evenly spaced values:**"
      ],
      "metadata": {
        "id": "-Vjtc6kCWRUi"
      }
    },
    {
      "cell_type": "code",
      "source": [
        "import numpy as np\n",
        "a = np.linspace(0, 1, 11)\n",
        "print(a)"
      ],
      "metadata": {
        "id": "EYCErliAWuQY"
      },
      "execution_count": null,
      "outputs": []
    },
    {
      "cell_type": "markdown",
      "source": [
        "The code you provided generates a NumPy array called \"**a**\" that contains 11 evenly spaced values between 0 and 1 (inclusive). The \"**np.linspace()**\" function is used to create this array by specifying the start value of 0, the end value of 1, and the number of values to generate which is 11 in this case. The resulting array is then printed using the \"**print()**\" function."
      ],
      "metadata": {
        "id": "oyrQrQ89XXFv"
      }
    }
  ]
}