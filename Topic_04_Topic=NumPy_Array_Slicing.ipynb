{
  "nbformat": 4,
  "nbformat_minor": 0,
  "metadata": {
    "colab": {
      "private_outputs": true,
      "provenance": [],
      "include_colab_link": true
    },
    "kernelspec": {
      "name": "python3",
      "display_name": "Python 3"
    },
    "language_info": {
      "name": "python"
    }
  },
  "cells": [
    {
      "cell_type": "markdown",
      "metadata": {
        "id": "view-in-github",
        "colab_type": "text"
      },
      "source": [
        "<a href=\"https://colab.research.google.com/github/ranamaddy/numpy/blob/main/Topic_04_Topic%3DNumPy_Array_Slicing.ipynb\" target=\"_parent\"><img src=\"https://colab.research.google.com/assets/colab-badge.svg\" alt=\"Open In Colab\"/></a>"
      ]
    },
    {
      "cell_type": "markdown",
      "source": [
        "As the supervisor of **Waqas Baho**, my name is **Rana Mudassar Rasool**. I am writing this statement to confirm that the code in question was written by Waqas Baho under my supervision for a project in Google Colab.\n",
        "\n"
      ],
      "metadata": {
        "id": "XDBiCZ_8flSr"
      }
    },
    {
      "cell_type": "markdown",
      "source": [
        "# **Topic= NumPy Array Slicing**\n",
        "\n",
        "\n",
        "NumPy Array slicing is a technique to extract a portion of a NumPy array. It is done by specifying a range of indices separated by a colon inside the square brackets used to access an array element.\n",
        "\n",
        "# The basic syntax for array slicing in NumPy is:\n",
        "\n",
        "\n",
        "new_array = old_array[start:end:step]\n",
        "\n",
        "Here, start represents the starting index of the slice, end represents the ending index (exclusive) of the slice, and step represents the step size between each element in the slice.\n",
        "\n",
        "Array slicing can be performed on one-dimensional, two-dimensional, or higher-dimensional arrays in NumPy. It is a very powerful and efficient way to manipulate and extract data from arrays, as it avoids the need for iterating through each element manually."
      ],
      "metadata": {
        "id": "1xNgoiFIQ6bU"
      }
    },
    {
      "cell_type": "markdown",
      "source": [
        "**(01) Slicing 1-D Array**\n"
      ],
      "metadata": {
        "id": "YWZeYgJMQWUu"
      }
    },
    {
      "cell_type": "markdown",
      "source": [
        "**Simple Slicing**"
      ],
      "metadata": {
        "id": "2WqTOC-2WUAS"
      }
    },
    {
      "cell_type": "markdown",
      "source": [
        "Exampl"
      ],
      "metadata": {
        "id": "QZHBRWlEWZzA"
      }
    },
    {
      "cell_type": "code",
      "source": [
        "import numpy as np\n",
        "a = np.array([1,2,3,4,5,6,7,8])\n",
        "print(\"Output Slicing:\",a[2:6])"
      ],
      "metadata": {
        "id": "404dKr8BQ1RJ"
      },
      "execution_count": null,
      "outputs": []
    },
    {
      "cell_type": "markdown",
      "source": [
        "The above code is written in the Python programming language using the NumPy library.\n",
        "\n",
        "The code creates an array named 'a' with values 1 to 8, and then uses slicing to print a portion of the array. The slice starts at the 2nd index (which has a value of 3) and ends at the 6th index (which has a value of 6).\n",
        "\n",
        "The output of this code is: \"Output Slicing: [3 4 5 6]\"."
      ],
      "metadata": {
        "id": "AqAG14OAT82G"
      }
    },
    {
      "cell_type": "code",
      "source": [
        "import numpy as np\n",
        "a = np.array([1,2,3,4,5,6,7,8])\n",
        "print(\"Output Slicing:\",a[2:])"
      ],
      "metadata": {
        "id": "162_1-2LUPfe"
      },
      "execution_count": null,
      "outputs": []
    },
    {
      "cell_type": "markdown",
      "source": [
        "The above code is written in the Python programming language using the NumPy library.\n",
        "\n",
        "The code creates an array named 'a' with values 1 to 8, and then uses slicing to print a portion of the array. The slice starts at the 2nd index (which has a value of 3) and goes till the end of the array.\n",
        "\n",
        "The output of this code is: \"[3 4 5 6 7 8]\"."
      ],
      "metadata": {
        "id": "khNlyzy5Uko_"
      }
    },
    {
      "cell_type": "code",
      "source": [
        "import numpy as np\n",
        "a = np.array([1,2,3,4,5,6,7,8])\n",
        "print(\"Output Slicing:\",a[:6])"
      ],
      "metadata": {
        "id": "wiMnOLssU_oB"
      },
      "execution_count": null,
      "outputs": []
    },
    {
      "cell_type": "markdown",
      "source": [
        "The above code is written in the Python programming language using the NumPy library.\n",
        "\n",
        "\n",
        "The code creates an array named 'a' with values 1 to 8, and then uses slicing to print a portion of the array. The slice starts at the beginning of the array and ends at the 5th index (which has a value of 6).\n",
        "\n",
        "The output of this code is: \"Output Slicing: [1 2 3 4 5 6]\"."
      ],
      "metadata": {
        "id": "Ce2bTJlCU07U"
      }
    },
    {
      "cell_type": "markdown",
      "source": [
        "**Negative Slicing**"
      ],
      "metadata": {
        "id": "yTOku4h4DXCE"
      }
    },
    {
      "cell_type": "code",
      "source": [
        "import numpy as np\n",
        "a= np.array([1,2,3,4,5,6,7,8])\n",
        "print(\"Output Slicing:\",a[-5:-1])"
      ],
      "metadata": {
        "id": "RHgcV3yBDaJB"
      },
      "execution_count": null,
      "outputs": []
    },
    {
      "cell_type": "markdown",
      "source": [
        "This code creates a NumPy array named \"a\" containing the numbers 1 to 8. Then it slices the array to select the elements starting from the 5th element from the end (-5) and up to, but not including, the last element from the end (-1). The selected elements are then printed using the print() function. The output will be the array [4, 5, 6, 7]."
      ],
      "metadata": {
        "id": "uxBPW4piELfk"
      }
    },
    {
      "cell_type": "markdown",
      "source": [
        "**Example 02**"
      ],
      "metadata": {
        "id": "vOaHLO9SEthy"
      }
    },
    {
      "cell_type": "code",
      "source": [
        "import numpy as np\n",
        "a = np.array([1,2,3,4,5,6,7,8])\n",
        "print(\"Output Slicing:\",a[:-6])"
      ],
      "metadata": {
        "id": "KBD3OqOzE8Sa"
      },
      "execution_count": null,
      "outputs": []
    },
    {
      "cell_type": "markdown",
      "source": [
        "This code creates a NumPy array named \"a\" containing the numbers 1 to 8. Then it slices the array to select all elements up to, but not including, the 6th element from the end (-6). The selected elements are then printed using the print() function. The output will be the array [1, 2]."
      ],
      "metadata": {
        "id": "CQlaFtloFbCf"
      }
    },
    {
      "cell_type": "markdown",
      "source": [
        "**Example 03**"
      ],
      "metadata": {
        "id": "rV4MrOcxFzMu"
      }
    },
    {
      "cell_type": "code",
      "source": [
        "import numpy as np\n",
        "a = np.array([1,2,3,4,5,6,7,8])\n",
        "print(\"Output Slicing:\",a[-6:])"
      ],
      "metadata": {
        "id": "6iZ6BdyeF3ed"
      },
      "execution_count": null,
      "outputs": []
    },
    {
      "cell_type": "markdown",
      "source": [
        "This code creates a NumPy array named \"a\" containing the numbers 1 to 8. Then it slices the array to select all elements starting from the 6th element from the end (-6) and up to the end of the array. The selected elements are then printed using the print() function. The output will be the array [3, 4, 5, 6, 7, 8]."
      ],
      "metadata": {
        "id": "uKZUytayGNSN"
      }
    },
    {
      "cell_type": "markdown",
      "source": [
        "**Step Slicing**"
      ],
      "metadata": {
        "id": "Sz3jeRLYGT61"
      }
    },
    {
      "cell_type": "code",
      "source": [
        "import numpy as np\n",
        "a = np.array([1,2,3,4,5,6,7,8])\n",
        "print(\"Output Slicing:\",a[1:6:3])"
      ],
      "metadata": {
        "id": "P6xuEf28Ga07"
      },
      "execution_count": null,
      "outputs": []
    },
    {
      "cell_type": "markdown",
      "source": [
        "This code creates a NumPy array named \"a\" containing the numbers 1 to 8. Then it slices the array to select every 3rd element starting from the 2nd element (index 1) and up to, but not including, the 6th element (index 5). The selected elements are then printed using the print() function. The output will be the array [2, 5]."
      ],
      "metadata": {
        "id": "ku0oCCX4G0sy"
      }
    },
    {
      "cell_type": "markdown",
      "source": [
        "**Example 02**"
      ],
      "metadata": {
        "id": "hoNjx4SaJVKu"
      }
    },
    {
      "cell_type": "code",
      "source": [
        "import numpy as np\n",
        "a = np.array([1,2,3,4,5,6,7,8])\n",
        "print(\"Output Slicing:\",a[2::])"
      ],
      "metadata": {
        "id": "YtjIFWaxJZ0L"
      },
      "execution_count": null,
      "outputs": []
    },
    {
      "cell_type": "markdown",
      "source": [
        "This code creates a NumPy array named \"a\" containing the numbers 1 to 8. Then it slices the array to select all elements starting from the 3rd element (index 2) and up to the end of the array. The selected elements are then printed using the print() function. The output will be the array [3, 4, 5, 6, 7, 8]."
      ],
      "metadata": {
        "id": "yfKdFRCcKEjU"
      }
    },
    {
      "cell_type": "markdown",
      "source": [
        "**Example 03**"
      ],
      "metadata": {
        "id": "GOsH6vGjJo1i"
      }
    },
    {
      "cell_type": "code",
      "source": [
        "import numpy as np\n",
        "a = np.array([1,2,3,4,5,6,7,8])\n",
        "print(\"Output Slicing:\",a[::6])"
      ],
      "metadata": {
        "id": "gR4z-bvyJvIP"
      },
      "execution_count": null,
      "outputs": []
    },
    {
      "cell_type": "markdown",
      "source": [
        "This code creates a NumPy array named \"a\" containing the numbers 1 to 8. Then it slices the array to select every 6th element starting from the first element (index 0) and up to the end of the array. The selected elements are then printed using the print() function. The output will be the array [1, 7]."
      ],
      "metadata": {
        "id": "Lbj_JSK8KP6X"
      }
    },
    {
      "cell_type": "markdown",
      "source": [
        "**(02) Slicing 2-D Arrays**"
      ],
      "metadata": {
        "id": "hdAbyVXtefFy"
      }
    },
    {
      "cell_type": "markdown",
      "source": [
        "**Example 01**"
      ],
      "metadata": {
        "id": "ppN20bP6erS4"
      }
    },
    {
      "cell_type": "code",
      "source": [
        "import numpy as np\n",
        "a = np.array([[1, 2, 3, 4, 5], [6, 7, 8, 9, 10]])\n",
        "print(\"Output Slicing:\",a[1, 1:4])"
      ],
      "metadata": {
        "id": "FmwMKmf5e1_-"
      },
      "execution_count": null,
      "outputs": []
    },
    {
      "cell_type": "markdown",
      "source": [
        "The code snippet is written in the Python programming language using the NumPy library.\n",
        "\n",
        "It creates a NumPy array called 'a' with two rows and five columns, and initializes its values with integers from 1 to 10.\n",
        "\n",
        "The print statement uses slicing to extract a subset of the elements in the array. Specifically, it selects the second row (index 1) and a subset of the columns starting from index 1 (inclusive) and ending at index 4 (exclusive). This results in the output of the values [7, 8, 9] being printed."
      ],
      "metadata": {
        "id": "DYiGlLZLstpB"
      }
    },
    {
      "cell_type": "markdown",
      "source": [
        "**Example 02**"
      ],
      "metadata": {
        "id": "7ACb7fAUfPq3"
      }
    },
    {
      "cell_type": "code",
      "source": [
        "import numpy as np\n",
        "a = np.array([[1, 2, 3, 4, 5], [6, 7, 8, 9, 10]])\n",
        "print(\"Output Slicing:\",a[0:2,3])"
      ],
      "metadata": {
        "id": "8KJBKh7pfUnu"
      },
      "execution_count": null,
      "outputs": []
    },
    {
      "cell_type": "markdown",
      "source": [
        "The code snippet is written in the Python programming language using the NumPy library.\n",
        "\n",
        "It creates a NumPy array called 'a' with two rows and five columns, and initializes its values with integers from 1 to 10.\n",
        "\n",
        "The print statement uses slicing to extract a subset of the elements in the array. Specifically, it selects both rows (index 0 and 1) and the fourth column (index 3) of the array. This results in the output of the values [4, 9] being printed."
      ],
      "metadata": {
        "id": "dNgZpVAotkEh"
      }
    },
    {
      "cell_type": "markdown",
      "source": [
        "**Example 03**"
      ],
      "metadata": {
        "id": "WPfo-7jjffWc"
      }
    },
    {
      "cell_type": "code",
      "source": [
        "import numpy as np\n",
        "a = np.array([[1, 2, 3, 4, 5], [6, 7, 8, 9, 10]])\n",
        "print(\"Output Slicing:\",a[0:3,3])"
      ],
      "metadata": {
        "id": "TbacGI3lfi7t"
      },
      "execution_count": null,
      "outputs": []
    },
    {
      "cell_type": "markdown",
      "source": [
        "The code snippet is written in the Python programming language using the NumPy library.\n",
        "\n",
        "It creates a NumPy array called 'a' with two rows and five columns, and initializes its values with integers from 1 to 10.\n",
        "\n",
        "The print statement uses slicing to extract a subset of the elements in the array. Specifically, it selects all the rows (index 0 to 2) and the fourth column (index 3) of the array. However, since the array has only two rows, the slice is adjusted to select all rows up to the second row. This results in the output of the values [4, 9] being printed."
      ],
      "metadata": {
        "id": "w7BdxnGjvGsr"
      }
    },
    {
      "cell_type": "markdown",
      "source": [
        "**Example 04**"
      ],
      "metadata": {
        "id": "iH1LdQYSf5K9"
      }
    },
    {
      "cell_type": "code",
      "source": [
        "import numpy as np\n",
        "a = np.array([[1, 2, 3, 4, 5], [6, 7, 8, 9, 10]])\n",
        "print(\"Output Slicing:\",a[0:2, 1:4])"
      ],
      "metadata": {
        "id": "eU2h1016f9Eq"
      },
      "execution_count": null,
      "outputs": []
    },
    {
      "cell_type": "markdown",
      "source": [
        "The code snippet is written in the Python programming language using the NumPy library.\n",
        "\n",
        "It creates a NumPy array called 'a' with two rows and five columns, and initializes its values with integers from 1 to 10.\n",
        "\n",
        "The print statement uses slicing to extract a subset of the elements in the array. Specifically, it selects both rows (index 0 and 1) and a subset of the columns starting from index 1 (inclusive) and ending at index 4 (exclusive). This results in the output of the values [[2, 3, 4], [7, 8, 9]] being printed as a two-dimensional array."
      ],
      "metadata": {
        "id": "TiFCCaAsvkz3"
      }
    },
    {
      "cell_type": "markdown",
      "source": [
        "**Example 05**"
      ],
      "metadata": {
        "id": "gYJ-gkKewhW-"
      }
    },
    {
      "cell_type": "code",
      "source": [
        "import numpy as np\n",
        "a = np.array([[1, 2, 3, 4], [5, 6, 7, 8], [9, 10, 11, 12], [13, 14, 15, 16], [17, 18, 19, 20]])\n",
        "print(\"Input Array:\",a)\n",
        "print()\n",
        "print(\"Output Slicing:\", a[0:2, 2])"
      ],
      "metadata": {
        "id": "1WHKCjINwkvq"
      },
      "execution_count": null,
      "outputs": []
    },
    {
      "cell_type": "markdown",
      "source": [
        "The code snippet is written in Python using the NumPy library.\n",
        "\n",
        "It creates a two-dimensional NumPy array called a with 5 rows and 4 columns, and initializes its values with integers from 1 to 20.\n",
        "\n",
        "The print statements demonstrate how array slicing works in NumPy. Specifically, the first print statement simply outputs the input array a.\n",
        "\n",
        "The second print statement uses array slicing to extract a subset of the elements in the array. Specifically, it selects the first two rows of the array (indices 0 and 1) and the third column of the array (index 2). This results in the output of the values [3, 7] being printed."
      ],
      "metadata": {
        "id": "j8mtLfu3xozr"
      }
    },
    {
      "cell_type": "markdown",
      "source": [
        "**Example 06**"
      ],
      "metadata": {
        "id": "2WGCO1C4x0Ui"
      }
    },
    {
      "cell_type": "code",
      "source": [
        "import numpy as np\n",
        "a = np.array([[1, 2, 3, 4], [5, 6, 7, 8], [9, 10, 11, 12], [13, 14, 15, 16], [17, 18, 19, 20]])\n",
        "print(\"Input Array:\",a)\n",
        "print()\n",
        "print(\"Output Slicing:\", a[0:2, 2:])"
      ],
      "metadata": {
        "id": "YIcR_JEOx44d"
      },
      "execution_count": null,
      "outputs": []
    },
    {
      "cell_type": "markdown",
      "source": [
        "The code snippet is written in Python using the NumPy library.\n",
        "\n",
        "It creates a two-dimensional NumPy array called a with 5 rows and 4 columns, and initializes its values with integers from 1 to 20.\n",
        "\n",
        "The print statements demonstrate how array slicing works in NumPy. Specifically, the first print statement simply outputs the input array a.\n",
        "\n",
        "The second print statement uses array slicing to extract a subset of the elements in the array. Specifically, it selects the first two rows of the array (indices 0 and 1) and the last two columns of the array (indices 2 and 3). This results in the output of the following subset of values being printed:\n",
        "\n",
        "\n",
        "[[3 4]\n",
        " [7 8]]\n",
        " \n",
        "This is a two-dimensional NumPy array with two rows and two columns, which corresponds to the subset of the original array that we selected using slicing."
      ],
      "metadata": {
        "id": "hq0gCDKayN_h"
      }
    }
  ]
}