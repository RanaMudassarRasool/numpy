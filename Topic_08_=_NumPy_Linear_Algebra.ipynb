{
  "nbformat": 4,
  "nbformat_minor": 0,
  "metadata": {
    "colab": {
      "private_outputs": true,
      "provenance": [],
      "include_colab_link": true
    },
    "kernelspec": {
      "name": "python3",
      "display_name": "Python 3"
    },
    "language_info": {
      "name": "python"
    }
  },
  "cells": [
    {
      "cell_type": "markdown",
      "metadata": {
        "id": "view-in-github",
        "colab_type": "text"
      },
      "source": [
        "<a href=\"https://colab.research.google.com/github/ranamaddy/numpy/blob/main/Topic_08_%3D_NumPy_Linear_Algebra.ipynb\" target=\"_parent\"><img src=\"https://colab.research.google.com/assets/colab-badge.svg\" alt=\"Open In Colab\"/></a>"
      ]
    },
    {
      "cell_type": "markdown",
      "source": [
        "**Topic 08 = NumPy Linear Algebra**\n",
        "\n",
        "\n",
        "NumPy is a powerful library in Python used for scientific computing, especially for working with arrays and matrices. One of the key features of NumPy is its support for linear algebra operations.\n",
        "\n",
        "Linear algebra is a branch of mathematics that deals with linear equations, matrices, and vectors. In NumPy, linear algebra operations are performed using the linalg module. This module contains a wide range of functions for performing various linear algebra operations, such as matrix multiplication, solving linear equations, finding determinants and eigenvalues, and performing singular value decomposition (SVD).\n",
        "\n",
        "Using NumPy's linear algebra capabilities, you can efficiently and accurately perform complex calculations on matrices and arrays, making it a valuable tool for scientific computing and data analysis.\n",
        "\n",
        "\n",
        "Numpy provides the following functions to perform the different algebraic calculations on the input data.\n",
        "\n",
        "**(SN): \t  (Function):\t     (Definition):**\n",
        "\n",
        "1. \tdot()\t   It is used to calculate the dot product of two arrays.\n",
        "\n",
        "2. \tvdot()\t   It is used to calculate the dot product of two vectors.\n",
        "\n",
        "3. \tinner()\t    It is used to calculate the inner product of two arrays.\n",
        "\n",
        "4. \tmatmul()\tIt is used to calculate the matrix multiplication of two arrays.\n",
        "\n",
        "5.\tdet()\t  It is used to calculate the determinant of a matrix.\n",
        "\n",
        "6.\tsolve()\t   It is used to solve the linear matrix equation.\n",
        "\n",
        "7.\tinv()\t   It is used to calculate the multiplicative inverse of the matrix.\n",
        "\n",
        "\n",
        "\n"
      ],
      "metadata": {
        "id": "qrEFvqxjUC_P"
      }
    },
    {
      "cell_type": "markdown",
      "source": [
        "**1.numpy.dot() function**\n",
        "\n",
        "The **numpy.dot()** function is a part of NumPy's linear algebra module that is used to perform matrix multiplication between two arrays. It takes two arrays as input and returns their dot product.\n",
        "\n",
        "The dot product of two arrays is calculated by multiplying the corresponding elements of the arrays and then summing them up. The dot product of two arrays A and B can be denoted by A.B or A*B.\n",
        "\n",
        "The **numpy.dot()** function can be used with arrays of different shapes, as long as the dimensions of the arrays are compatible for matrix multiplication. Specifically, the number of columns in the first array must be equal to the number of rows in the second array. If the shapes of the arrays are not compatible for matrix multiplication, the function will raise a **ValueError**."
      ],
      "metadata": {
        "id": "zoVky0qtWq-9"
      }
    },
    {
      "cell_type": "markdown",
      "source": [
        "**Example 01**"
      ],
      "metadata": {
        "id": "e4ZemIHSXkjv"
      }
    },
    {
      "cell_type": "code",
      "execution_count": null,
      "metadata": {
        "id": "IVQZcUSeTbie"
      },
      "outputs": [],
      "source": [
        "import numpy as np\n",
        "a = np.array([[100,200],[23,12]]) \n",
        "b = np.array([[10,20],[12,21]])  \n",
        "print(a)\n",
        "print()\n",
        "print(b)\n",
        "print()\n",
        "dot = np.dot(a,b)  \n",
        "print( \"Values of dot product:\", dot)  "
      ]
    },
    {
      "cell_type": "markdown",
      "source": [
        "**Explanation**\n",
        "\n",
        "This code defines two 2D NumPy arrays a and b, each with 2 rows and 2 columns. It then prints both arrays to the console using the print() function.\n",
        "\n",
        "Next, the code uses the numpy.dot() function to perform matrix multiplication between a and b. The result is stored in a variable named mul.\n",
        "\n",
        "Finally, the code prints a message to the console along with the value of mul using the print() function.\n",
        "\n",
        "The values of the resulting array mul are calculated as follows:\n",
        "\n",
        "\n",
        "mul[0,0] = (100 X 10) + (200 X 12) = 3400\n",
        "\n",
        "mul[0,1] = (100 X 20) + (200 X 21) = 6200\n",
        "\n",
        "mul[1,0] = (23 X 10) + (12 X 12) = 374\n",
        "\n",
        "mul[1,1] = (23 X 20) + (12 X 21) = 712\n",
        "\n",
        "Therefore, the output of print(\"Values of dot product:\", dot ) will be:\n",
        "\n",
        "\n",
        "matrix multiplication: [[3400 6200]\n",
        " [ 374  712]]"
      ],
      "metadata": {
        "id": "u4VfK-NZYkQI"
      }
    },
    {
      "cell_type": "markdown",
      "source": [
        "**Example 02**"
      ],
      "metadata": {
        "id": "qOVLDcn0YwiI"
      }
    },
    {
      "cell_type": "code",
      "source": [
        "import numpy as np\n",
        "a = np.array([100,200])\n",
        "b = np.array([23,12]) \n",
        "dot = np.dot(a,b)\n",
        "print(dot)"
      ],
      "metadata": {
        "id": "iKfED6fEY3Mr"
      },
      "execution_count": null,
      "outputs": []
    },
    {
      "cell_type": "markdown",
      "source": [
        "**Explanation**\n",
        "\n",
        "In this example, the array function is used to create two 1D arrays a and b, each with two elements. The values in the arrays are specified using a list.\n",
        "\n",
        "The numpy.dot() function is then used to perform dot product between arrays a and b, and the resulting dot product is stored in the dot variable.\n",
        "\n",
        "Finally, the dot product value is printed to the console using the print() function.\n",
        "\n",
        "So, This is the result of taking the dot product of arrays a and b using the numpy.dot() function. The dot product of two 1D arrays is simply the sum of the element-wise product of the two arrays.\n",
        "\n",
        "\n",
        "\n",
        "\n"
      ],
      "metadata": {
        "id": "hs_NwWEuZTqg"
      }
    },
    {
      "cell_type": "markdown",
      "source": [
        "**2.numpy.vdot() function**\n",
        "\n",
        "The numpy.vdot() function is a NumPy library function that computes the dot product of two 1D arrays. It returns the dot product of the two input arrays, which is computed as the sum of the element-wise product of the two arrays.\n",
        "\n",
        "Unlike the numpy.dot() function, which can be used to compute the dot product of arrays of any dimension, the numpy.vdot() function is specifically designed to work with 1D arrays only.\n",
        "\n",
        "Here's the syntax for using the numpy.vdot() function:\n",
        "\n",
        "\n",
        "numpy.vdot(a, b)\n",
        "\n",
        "\n"
      ],
      "metadata": {
        "id": "B605F3UoZhHB"
      }
    },
    {
      "cell_type": "markdown",
      "source": [
        "**Example 01**"
      ],
      "metadata": {
        "id": "7d0O8H7UaEsi"
      }
    },
    {
      "cell_type": "code",
      "source": [
        "import numpy as np  \n",
        "a = np.array([[100,200],[23,12]])  \n",
        "print(a)\n",
        "b = np.array([[10,20],[12,21]]) \n",
        "print(b) \n",
        "print()\n",
        "vdot = np.vdot(a,b)  \n",
        "print(\"values of vector dot product:\", vdot)"
      ],
      "metadata": {
        "id": "wYBhKnyNZW2t"
      },
      "execution_count": null,
      "outputs": []
    },
    {
      "cell_type": "markdown",
      "source": [
        "**Explanation**\n",
        "\n",
        "In this example, the vector dot product of the matrices a and b is calculated as follows:\n",
        "\n",
        "\n",
        "a = [100, 200, 23, 12]\n",
        "\n",
        "b = [10, 20, 12, 21]\n",
        "\n",
        "vdot = a[0] X b[0] + a[1] X b[1] + a[2] X b[2] + a[3] X b[3]\n",
        "\n",
        "     = 100 X 10 + 200 X 20 + 23 X 12 + 12 X 21\n",
        "\n",
        "     = 5528\n",
        "\n"
      ],
      "metadata": {
        "id": "BnrJh1dyazbN"
      }
    },
    {
      "cell_type": "markdown",
      "source": [
        "**Example 02**"
      ],
      "metadata": {
        "id": "V42_VefibGr9"
      }
    },
    {
      "cell_type": "code",
      "source": [
        "import numpy as np\n",
        "\n",
        "a = np.array([1 + 2j, 3 + 4j])\n",
        "b = np.array([5 + 6j, 7 + 8j])\n",
        "vdot = np.vdot(a, b)\n",
        "print(vdot)"
      ],
      "metadata": {
        "id": "Qda0t5rpbPBr"
      },
      "execution_count": null,
      "outputs": []
    },
    {
      "cell_type": "markdown",
      "source": [
        "**Explanation**\n",
        "\n",
        "Two complex-valued vectors, a and b, are defined using the np.array() function with the values [1 + 2j, 3 + 4j] and [5 + 6j, 7 + 8j], respectively.\n",
        "\n",
        "The np.vdot() function is then used to calculate the vector dot product of the two vectors a and b. The vector dot product of two vectors a and b is defined as the sum of the element-wise products of the conjugate of the elements of a and the corresponding elements of b. In other words, it is equivalent to taking the dot product of a with the conjugate of b.\n",
        "\n",
        "The result of the vector dot product is stored in the variable vdot, and printed to the console using the print() function.\n",
        "\n",
        "\n",
        "In this example, the vector dot product of the complex vectors a and b is calculated as follows:\n",
        "\n",
        "\n",
        "vdot = (1 - 2j) X (5 + 6j) + (3 - 4j) X (7 + 8j)\n",
        "\n",
        "     = (5 + 6j - 10j + 12) + (21 + 24j - 28j + 32)\n",
        "\n",
        "     = 17 - 4j + 53 -4j\n",
        "     \n",
        "     = 70 - 8j\n",
        "\n"
      ],
      "metadata": {
        "id": "8L4isMGUbUq6"
      }
    },
    {
      "cell_type": "markdown",
      "source": [
        "**3.numpy.inner() function**\n",
        "\n",
        "The numpy.inner() function is a part of the NumPy library in Python, which is used for scientific computing. This function is used to calculate the inner product of two arrays.\n",
        "\n",
        "The inner product of two arrays a and b is defined as the sum of the product of corresponding elements in both arrays. It can also be calculated by multiplying the transpose of a with b or vice versa.\n",
        "\n",
        "The syntax for using the numpy.inner() function is:\n",
        "\n",
        "\n",
        "numpy.inner(a, b)\n",
        "\n",
        "where a and b are the input arrays. The function returns the inner product of the two arrays as a scalar value.\n",
        "\n",
        "If a and b are both 1-D arrays, numpy.inner() calculates the dot product of the two arrays. If either of the arrays is multi-dimensional, the product sum will be over the last dimension of the first array and the second-to-last dimension of the second array.\n",
        "\n",
        "The numpy.inner() function can also be used to calculate the inner product of complex arrays. In this case, the complex conjugate of the first array is used.\n",
        "\n"
      ],
      "metadata": {
        "id": "rRdOfjzyzEwB"
      }
    },
    {
      "cell_type": "markdown",
      "source": [
        "**Example 01**"
      ],
      "metadata": {
        "id": "LN87fKJjzeRp"
      }
    },
    {
      "cell_type": "code",
      "source": [
        "import numpy as np\n",
        "a = np.array([1,2,3,4,5,6])  \n",
        "b = np.array([23,23,12,2,1,2])  \n",
        "inner = np.inner(a,b)  \n",
        "print(inner) "
      ],
      "metadata": {
        "id": "E2jHooyGzhls"
      },
      "execution_count": null,
      "outputs": []
    },
    {
      "cell_type": "markdown",
      "source": [
        "**Explanation**\n",
        "\n",
        "This code defines two NumPy arrays a and b containing six elements each. Then, it uses the numpy.inner() function to calculate the inner product of a and b. The result is stored in a variable named inner.\n",
        "\n",
        "Finally, the code prints the value of inner to the console using the print() function.\n",
        "\n",
        "The output of this code will be a single scalar value, which is the inner product of a and b. This value represents the sum of the product of corresponding elements in both arrays. In this case, it will be:\n",
        "\n",
        "\n",
        "(1 X 23) + (2 X 23) + (3 X 12) + (4 X 2) + (5 X 1) + (6 X 2) = 130\n",
        "\n",
        "Therefore, the output of print(inner) will be 130."
      ],
      "metadata": {
        "id": "mbXRgHJDz0la"
      }
    },
    {
      "cell_type": "markdown",
      "source": [
        "**Example 02**"
      ],
      "metadata": {
        "id": "_iVwEz4f0LJX"
      }
    },
    {
      "cell_type": "code",
      "source": [
        "import numpy as np\n",
        "a = np.array([[1,2,3],[4,5,6]])  \n",
        "b = np.array([[23,23,12],[2,1,2]])  \n",
        "print(a)\n",
        "print()\n",
        "print(b)\n",
        "print()\n",
        "inner = np.inner(a,b)  \n",
        "print(\" Values of inner product:\",inner)"
      ],
      "metadata": {
        "id": "2dX5MQEe03q_"
      },
      "execution_count": null,
      "outputs": []
    },
    {
      "cell_type": "markdown",
      "source": [
        "**Explanation**\n",
        "\n",
        "This code defines two NumPy arrays a and b, each with 2 rows and 3 columns. It then prints both arrays to the console using the print() function.\n",
        "\n",
        "Next, the code uses the numpy.inner() function to calculate the inner product of a and b. The result is stored in a variable named inner.\n",
        "\n",
        "Finally, the code prints a message to the console along with the value of inner using the print() function.\n",
        "\n",
        "Since a and b are both 2D arrays, the numpy.inner() function calculates the inner product along the last dimension of the first array and the second-to-last dimension of the second array. In this case, the inner product is calculated for each row of a and each column of b, resulting in a 2x2 array.\n",
        "\n",
        "The values of the resulting array inner are calculated as follows:\n",
        "\n",
        "inner[0,0] = (1 X 23) + (2 X 23) + (3 X 12) = 105\n",
        "\n",
        "inner[0,1] = (1 X 2) + (2 X 1) + (3 X 2) = 10\n",
        "\n",
        "inner[1,0] = (4 X 23) + (5 X 23) + (6 X 12) = 279\n",
        "\n",
        "inner[1,1] = (4 X 2) + (5 X 1) + (6 X 2) = 25"
      ],
      "metadata": {
        "id": "1tOigYVD1ijG"
      }
    },
    {
      "cell_type": "markdown",
      "source": [
        "**4. numpy.matmul() function**\n",
        "\n",
        "The numpy.matmul() function is a part of the NumPy library in Python, which is used for scientific computing. This function is used to perform matrix multiplication between two arrays.\n",
        "\n",
        "The syntax for using the numpy.matmul() function is:\n",
        "\n",
        "\n",
        "numpy.matmul(a, b)\n",
        "\n",
        "where a and b are the input arrays. The function returns the matrix product of the two arrays.\n",
        "\n",
        "The arrays a and b must have compatible shapes for matrix multiplication. Specifically, the number of columns in a must be equal to the number of rows in b.\n",
        "\n",
        "If both a and b are 2-D arrays, then numpy.matmul() gives the same result as the @ operator or the numpy.dot() function.\n",
        "\n",
        "The numpy.matmul() function can also be used to multiply higher-dimensional arrays, as long as the last dimension of a matches the second-to-last dimension of b.\n",
        "\n",
        "If either a or b is a scalar (i.e., a single number), it is treated as a 1-D array.\n",
        "\n",
        "It's important to note that numpy.matmul() is different from numpy.multiply(), which performs element-wise multiplication between two arrays.\n"
      ],
      "metadata": {
        "id": "9mjDO8jj3YLm"
      }
    },
    {
      "cell_type": "markdown",
      "source": [
        "**Example 01 :Matrix product**"
      ],
      "metadata": {
        "id": "GJ1WpF8I3uoY"
      }
    },
    {
      "cell_type": "code",
      "source": [
        "import numpy as np\n",
        "a = np.array([[100,200],[23,12]]) \n",
        "\n",
        "b = np.array([[10,20],[12,21]])  \n",
        "print(a)\n",
        "print()\n",
        "print(b)\n",
        "print()\n",
        "mul = np.matmul(a,b)  \n",
        "print(\"matrix multiplication:\", mul) "
      ],
      "metadata": {
        "id": "0PO72zyk3xqU"
      },
      "execution_count": null,
      "outputs": []
    },
    {
      "cell_type": "markdown",
      "source": [
        "**Explanation**\n",
        "\n",
        "This code defines two 2D NumPy arrays a and b, each with 2 rows and 2 columns. It then prints both arrays to the console using the print() function.\n",
        "\n",
        "Next, the code uses the numpy.matmul() function to perform matrix multiplication between a and b. The result is stored in a variable named mul.\n",
        "\n",
        "Finally, the code prints a message to the console along with the value of mul using the print() function.\n",
        "\n",
        "The values of the resulting array mul are calculated as follows:\n",
        "\n",
        "\n",
        "mul[0,0] = (100 X 10) + (200 X 12) = 3400\n",
        "\n",
        "mul[0,1] = (100 X 20) + (200 X 21) = 6200\n",
        "\n",
        "mul[1,0] = (23 X 10) + (12 X 12) = 374\n",
        "\n",
        "mul[1,1] = (23 X 20) + (12 X 21) = 712\n",
        "\n",
        "Therefore, the output of print(\"matrix multiplication:\", mul) will be:\n",
        "\n",
        "\n",
        "matrix multiplication: [[3400 6200]\n",
        " [ 374  712]]"
      ],
      "metadata": {
        "id": "Q81SzYL-4mJ3"
      }
    },
    {
      "cell_type": "markdown",
      "source": [
        "**Example 02 Element-wise matrix multiplication**"
      ],
      "metadata": {
        "id": "EeEcnBBs4hTa"
      }
    },
    {
      "cell_type": "code",
      "source": [
        "import numpy as np  \n",
        "a=np.array([[1,2,3],[4,5,6],[7,8,9]])  \n",
        "print(\"Array 1:\",a)\n",
        "print()\n",
        "b=np.array([[9,8,7],[6,5,4],[3,2,1]])  \n",
        "print(\"Array 2:\",b)\n",
        "print()\n",
        "c=np.multiply(a,b)  \n",
        "print(\"Matrix Multiplication:\",c)\n"
      ],
      "metadata": {
        "id": "Wrj2tFjE4k2u"
      },
      "execution_count": null,
      "outputs": []
    },
    {
      "cell_type": "markdown",
      "source": [
        "**Explanation**\n",
        "\n",
        "The code defines two matrices using NumPy library in Python. The first matrix 'a' contains the values 1, 2, 3 in the first row, 4, 5, 6 in the second row, and 7, 8, 9 in the third row. The second matrix 'b' contains the values 9, 8, 7 in the first row, 6, 5, 4 in the second row, and 3, 2, 1 in the third row.\n",
        "\n",
        "The code then multiplies these two matrices element-wise using the NumPy function 'np.multiply()' and stores the result in a new matrix 'c'. The resulting matrix 'c' contains the product of the corresponding elements of matrices 'a' and 'b'.\n",
        "\n",
        "Finally, the code prints out the three matrices - 'a', 'b', and 'c' - using the 'print()' function to display the original matrices and the result of their element-wise multiplication."
      ],
      "metadata": {
        "id": "FekPDvAU6oVP"
      }
    },
    {
      "cell_type": "markdown",
      "source": [
        "**5.numpy determinant**\n",
        "\n",
        "Numpy is a popular Python library used for scientific computing and data analysis. It provides a variety of mathematical functions and operations, including calculating the determinant of a matrix.\n",
        "\n",
        "The determinant of a matrix is a scalar value that can be computed from the elements of the matrix. It is commonly used in linear algebra and has several applications, such as solving systems of linear equations and calculating eigenvalues and eigenvectors.\n",
        "\n",
        "In numpy, the determinant of a matrix can be calculated using the numpy.linalg.det() function. This function takes a matrix as an argument and returns its determinant as a single scalar value.\n"
      ],
      "metadata": {
        "id": "QM9HsPIV98G9"
      }
    },
    {
      "cell_type": "markdown",
      "source": [
        "**Example **"
      ],
      "metadata": {
        "id": "Qqkw6mJj-Pqo"
      }
    },
    {
      "cell_type": "code",
      "source": [
        "import numpy as np  \n",
        "a = np.array([[1,2],[3,4]])  \n",
        "print(np.linalg.det(a))"
      ],
      "metadata": {
        "id": "OVnLwbOv-SxY"
      },
      "execution_count": null,
      "outputs": []
    },
    {
      "cell_type": "markdown",
      "source": [
        "**Explanation**\n",
        "\n",
        "The code snippet you provided calculates the determinant of a 2x2 matrix using the numpy library in Python.\n",
        "\n",
        "The matrix used in this example is defined as follows:\n",
        "\n",
        "a = np.array([[1,2],[3,4]])\n",
        "\n",
        "The determinant of this matrix is calculated using the np.linalg.det() function, which is a built-in function in numpy for computing the determinant of a matrix. The function takes the matrix as an argument and returns the determinant as a single value.\n",
        "\n",
        "In this case, the determinant of the matrix 'a' is 14 - 23 = -2.0. The result is a float value since the determinant of a matrix can be a decimal number."
      ],
      "metadata": {
        "id": "uSeQTUoU-krP"
      }
    },
    {
      "cell_type": "markdown",
      "source": [
        "**6.numpy.linalg.solve() function**\n",
        "\n",
        "Numpy is a popular Python library used for scientific computing and data analysis. It provides a variety of mathematical functions and operations, including solving systems of linear equations.\n",
        "\n",
        "The numpy.linalg.solve() function is used to solve a system of linear equations of the form Ax = b, where A is a square matrix, x is a column vector, and b is a column vector. The function returns the solution vector x that satisfies the equation.\n",
        "\n",
        "\n",
        "Note that the numpy.linalg.solve() function can only be used to solve systems of linear equations with a square coefficient matrix. If the coefficient matrix is not square, the function will raise a LinAlgError exception."
      ],
      "metadata": {
        "id": "xC_bvVVp-rIe"
      }
    },
    {
      "cell_type": "markdown",
      "source": [
        "**Example**"
      ],
      "metadata": {
        "id": "bdDlCpX__Mni"
      }
    },
    {
      "cell_type": "code",
      "source": [
        "import numpy as np  \n",
        "a = np.array([[3,2],[1,1]])  \n",
        "b = np.array([3,2])  \n",
        "print(a)\n",
        "print(b)\n",
        "print()\n",
        "print(np.linalg.solve(a, b))"
      ],
      "metadata": {
        "id": "n-v7G-9U_P3E"
      },
      "execution_count": null,
      "outputs": []
    },
    {
      "cell_type": "markdown",
      "source": [
        "**Explanation**\n",
        "\n",
        "This code snippet is written in Python and uses the numpy library to solve a system of linear equations.\n",
        "\n",
        "First, a 2x2 matrix a is defined using the np.array() function with the values [3, 2] and [1, 1]. Then, a column vector b is defined using the np.array() function with the values [3, 2].\n",
        "\n",
        "Next, the matrix a and vector b are printed to the console using the print() function. The print() function is called with an empty () after print(b) to add a blank line for clarity.\n",
        "\n",
        "Finally, the np.linalg.solve() function is used to solve the system of linear equations Ax=b, where A is the matrix a and b is the vector b. The solution vector x is stored in the variable x and printed to the console using the print() function.\n",
        "\n",
        "In this example, the np.linalg.solve() function is used to solve the system of linear equations 3x + 2y = 3 and x + y = 2. The solution vector x is [-1, 3], which satisfies both equations."
      ],
      "metadata": {
        "id": "IQCQituL_mc-"
      }
    },
    {
      "cell_type": "markdown",
      "source": [
        "**7. numpy.linalg.inv() function**\n",
        "\n",
        "Numpy is a popular Python library used for scientific computing and data analysis. It provides a variety of mathematical functions and operations, including matrix inversion.\n",
        "\n",
        "The numpy.linalg.inv() function is used to calculate the inverse of a square matrix. The inverse of a matrix is a matrix that, when multiplied by the original matrix, produces the identity matrix.\n",
        "\n",
        "Here's an example of how to use the numpy.linalg.inv() function to calculate the inverse of a matrix:\n",
        "\n",
        "\n",
        "Note that the numpy.linalg.inv() function can only be used to calculate the inverse of square matrices that are invertible (i.e., matrices with a nonzero determinant). If the matrix is not invertible, the function will raise a LinAlgError exception.\n"
      ],
      "metadata": {
        "id": "sjiyru5sAlBC"
      }
    },
    {
      "cell_type": "markdown",
      "source": [
        "**Example**"
      ],
      "metadata": {
        "id": "rDqIN8j1Bi3g"
      }
    },
    {
      "cell_type": "code",
      "source": [
        "import numpy as np  \n",
        "a = np.array([[1,2],[3,4]])  \n",
        "print(\"Original array:\\n\",a)  \n",
        "b = np.linalg.inv(a)  \n",
        "print(\"Inverse:\\n\",b) "
      ],
      "metadata": {
        "id": "o_CKHEM3Bm3S"
      },
      "execution_count": null,
      "outputs": []
    },
    {
      "cell_type": "markdown",
      "source": [
        "**Explanation**\n",
        "\n",
        "The code snippet you provided is calculating the inverse of a 2x2 matrix using the numpy library in Python.\n",
        "\n",
        "The matrix used in this example is defined as follows:\n",
        "\n",
        "a = np.array([[1,2],[3,4]])\n",
        "\n",
        "The inverse of this matrix is calculated using the np.linalg.inv() function, which is a built-in function in numpy for computing the inverse of a matrix. The function takes the matrix as an argument and returns the inverse matrix as a numpy array.\n",
        "\n",
        "In this case, the inverse of the matrix 'a' is:\n",
        "\n",
        "[[-2. , 1. ],\n",
        "[ 1.5, -0.5]]\n",
        "\n",
        "The result is a numpy array containing the values of the inverse matrix. The code also prints the original matrix 'a' and the inverse matrix 'b' for comparison purposes.\n",
        "\n",
        "Note that not all matrices have an inverse. A matrix must be square and non-singular (i.e., its determinant must be non-zero) to have an inverse."
      ],
      "metadata": {
        "id": "kpOEkozdCT_D"
      }
    }
  ]
}