{
  "nbformat": 4,
  "nbformat_minor": 0,
  "metadata": {
    "colab": {
      "private_outputs": true,
      "provenance": [],
      "include_colab_link": true
    },
    "kernelspec": {
      "name": "python3",
      "display_name": "Python 3"
    },
    "language_info": {
      "name": "python"
    }
  },
  "cells": [
    {
      "cell_type": "markdown",
      "metadata": {
        "id": "view-in-github",
        "colab_type": "text"
      },
      "source": [
        "<a href=\"https://colab.research.google.com/github/ranamaddy/numpy/blob/main/Topic_06_%3D_Trigonometric_functions.ipynb\" target=\"_parent\"><img src=\"https://colab.research.google.com/assets/colab-badge.svg\" alt=\"Open In Colab\"/></a>"
      ]
    },
    {
      "cell_type": "markdown",
      "source": [
        "As the supervisor of **Waqas Baho**, my name is **Rana Mudassar Rasool**. I am writing this statement to confirm that the code in question was written by Waqas Baho under my supervision for a project in Google Colab."
      ],
      "metadata": {
        "id": "7e9k2grPgRjY"
      }
    },
    {
      "cell_type": "markdown",
      "source": [
        "# **Topic 06 = Trigonometric functions**\n",
        "\n",
        "Trigonometric functions are mathematical functions that are used to calculate the values of angles in a triangle. NumPy provides a number of trigonometric functions that can be used to perform various mathematical operations involving angles.\n",
        "\n",
        "Here are some of the commonly used trigonometric functions in NumPy:\n",
        "\n",
        "1. numpy.sin(x): This function returns the sine of x, where x is an angle in radians.\n",
        "\n",
        "2. numpy.cos(x): This function returns the cosine of x, where x is an angle in radians.\n",
        "\n",
        "3. numpy.tan(x): This function returns the tangent of x, where x is an angle in radians.\n",
        "\n",
        "4. numpy.arcsin(x): This function returns the inverse sine of x, where x is a value between -1 and 1.\n",
        "\n",
        "5. numpy.arccos(x): This function returns the inverse cosine of x, where x is a value between -1 and 1.\n",
        "\n",
        "6. numpy.arctan(x): This function returns the inverse tangent of x, where x is a value between -infinity and infinity.\n",
        "\n",
        "All of these functions take the angle as an argument in radians. If you have an angle in degrees, you can convert it to radians by multiplying it by pi/180. For example, to calculate the sine of an angle of 45 degrees, you would use the following code:\n",
        "\n",
        "makefile\n",
        "Copy code\n",
        "import numpy as np\n",
        "angle_degrees = 45\n",
        "angle_radians = angle_degrees * np.pi / 180\n",
        "sin_value = np.sin(angle_radians)\n",
        "The result would be sin_value = 0.7071067811865476, which is the sine of 45 degrees in radians."
      ],
      "metadata": {
        "id": "idjXSVVC5YSp"
      }
    },
    {
      "cell_type": "markdown",
      "source": [
        "**01.Finding Values**"
      ],
      "metadata": {
        "id": "5ZUa7idUKCbI"
      }
    },
    {
      "cell_type": "markdown",
      "source": [
        "**(01) Numpy.sin() Function**"
      ],
      "metadata": {
        "id": "_94lkTeRCqhz"
      }
    },
    {
      "cell_type": "markdown",
      "source": [
        "**Example 01**"
      ],
      "metadata": {
        "id": "JD3nELVZDsKk"
      }
    },
    {
      "cell_type": "code",
      "execution_count": null,
      "metadata": {
        "id": "3sF5ooJk5F7l"
      },
      "outputs": [],
      "source": [
        "import numpy as np\n",
        "a = np.sin(np.pi/2)\n",
        "print(\"Value of Sine:\",a)"
      ]
    },
    {
      "cell_type": "markdown",
      "source": [
        "**Explanation**\n",
        "\n",
        "The code you provided calculates the sine of pi/2 using the NumPy library in Python and assigns the result to the variable \"a\". The value of sine of pi/2 is equal to 1. Therefore, when you print the value of \"a\", it will display 1."
      ],
      "metadata": {
        "id": "0gMvqp4IDVw8"
      }
    },
    {
      "cell_type": "markdown",
      "source": [
        "**Example 02**"
      ],
      "metadata": {
        "id": "43DkWwgUDxGR"
      }
    },
    {
      "cell_type": "code",
      "source": [
        "import numpy as np\n",
        "a = np.array([np.pi/2,np.pi/3,0])\n",
        "print(\"Original array:\", a)\n",
        "print()\n",
        "b = np.sin(a)\n",
        "print(\"Values Of Sine:\" ,b)"
      ],
      "metadata": {
        "id": "HiDWbDKsD0sp"
      },
      "execution_count": null,
      "outputs": []
    },
    {
      "cell_type": "markdown",
      "source": [
        "**Explanation**\n",
        "\n",
        "1. The first line creates a NumPy array called \"a\" that contains the values pi/2, pi/3, and 0.\n",
        "\n",
        "2. The second line uses the print() function to print the original array \"a\" to the console.\n",
        "\n",
        "3. The third line creates a new array \"b\" by applying the sine function to each element in the array \"a\".\n",
        "\n",
        "4. The fourth line uses the print() function to print the values of the sine of each element in the array \"a\", which are now stored in the new array \"b\".\n",
        "\n",
        "In summary, the code calculates the sine values of the elements in the array \"a\" and stores the results in a new array \"b\". The output of the code displays both the original array \"a\" and the new array \"b\" containing the sine values."
      ],
      "metadata": {
        "id": "DqsMF-dOElE1"
      }
    },
    {
      "cell_type": "markdown",
      "source": [
        "**Example 03**"
      ],
      "metadata": {
        "id": "56vdq-XME6fn"
      }
    },
    {
      "cell_type": "code",
      "source": [
        "import numpy as np\n",
        "a = np.array([2*np.pi/2,2*np.pi/3,0])\n",
        "print(\"Original array:\", a)\n",
        "print()\n",
        "b = np.sin(a)\n",
        "print(\"Values of Sine:\" ,b)"
      ],
      "metadata": {
        "id": "gzN_lLj1E_nQ"
      },
      "execution_count": null,
      "outputs": []
    },
    {
      "cell_type": "markdown",
      "source": [
        "**Explanation**\n",
        "\n",
        "1. The first line creates a NumPy array called \"a\" that contains the values 2pi/2, 2pi/3, and 0. Since 2pi is equivalent to one full circle, 2pi/2 is equivalent to half a circle (180 degrees), and 2*pi/3 is equivalent to two-thirds of a circle (120 degrees).\n",
        "\n",
        "2. The second line uses the print() function to print the original array \"a\" to the console.\n",
        "\n",
        "3. The third line creates a new array \"b\" by applying the sine function to each element in the array \"a\". The sine function calculates the ratio of the opposite side to the hypotenuse of a right triangle, where the angle in question is the one represented by the input value.\n",
        "\n",
        "4. The fourth line uses the print() function to print the values of the sine of each element in the array \"a\", which are now stored in the new array \"b\".\n",
        "\n",
        "In summary, the code calculates the sine values of the elements in the array \"a\", where each value represents an angle in radians, and stores the results in a new array \"b\". The output of the code displays both the original array \"a\" and the new array \"b\" containing the sine values."
      ],
      "metadata": {
        "id": "1gm6V03yFbFI"
      }
    },
    {
      "cell_type": "markdown",
      "source": [
        "  **(02) Numpy.Cos() Function**"
      ],
      "metadata": {
        "id": "HQRvNV2gF09P"
      }
    },
    {
      "cell_type": "markdown",
      "source": [
        "**Example 01**"
      ],
      "metadata": {
        "id": "9uGdvTryF73x"
      }
    },
    {
      "cell_type": "code",
      "source": [
        "import numpy as np\n",
        "a = np.array([np.pi/2,np.pi/3,0])\n",
        "print(\"Original array:\", a)\n",
        "print()\n",
        "b = np.cos(a)\n",
        "print(\"Cosine Values:\" ,b)"
      ],
      "metadata": {
        "id": "D2_YFLypF_yl"
      },
      "execution_count": null,
      "outputs": []
    },
    {
      "cell_type": "markdown",
      "source": [
        "**Explanation**\n",
        "\n",
        "1. The first line creates a NumPy array called \"a\" that contains the values pi/2, pi/3, and 0.\n",
        "\n",
        "2. The second line uses the print() function to print the original array \"a\" to the console.\n",
        "\n",
        "3. The third line creates a new array \"b\" by applying the cosine function to each element in the array \"a\". The cosine function calculates the ratio of the adjacent side to the hypotenuse of a right triangle, where the angle in question is the one represented by the input value.\n",
        "\n",
        "4. The fourth line uses the print() function to print the values of the cosine of each element in the array \"a\", which are now stored in the new array \"b\".\n",
        "\n",
        "In summary, the code calculates the cosine values of the elements in the array \"a\", where each value represents an angle in radians, and stores the results in a new array \"b\". The output of the code displays both the original array \"a\" and the new array \"b\" containing the cosine values."
      ],
      "metadata": {
        "id": "fXSab633Gp6e"
      }
    },
    {
      "cell_type": "markdown",
      "source": [
        "**Example 02**"
      ],
      "metadata": {
        "id": "viNy4fJLHKr9"
      }
    },
    {
      "cell_type": "code",
      "source": [
        "import numpy as np\n",
        "a = np.array([2*np.pi/2,2*np.pi/3,0])\n",
        "print(\"Original array:\", a)\n",
        "print()\n",
        "b = np.cos(a)\n",
        "print(\"Cosine Values:\" ,b)"
      ],
      "metadata": {
        "id": "V9mF1W-eHPm1"
      },
      "execution_count": null,
      "outputs": []
    },
    {
      "cell_type": "markdown",
      "source": [
        "**Explanation**\n",
        "\n",
        "1. The first line creates a NumPy array called \"a\" that contains the values 2pi/2, 2pi/3, and 0. Since 2pi is equivalent to one full circle, 2pi/2 is equivalent to half a circle (180 degrees), and 2*pi/3 is equivalent to two-thirds of a circle (120 degrees).\n",
        "\n",
        "2. The second line uses the print() function to print the original array \"a\" to the console.\n",
        "\n",
        "3. The third line creates a new array \"b\" by applying the cosine function to each element in the array \"a\". The cosine function calculates the ratio of the adjacent side to the hypotenuse of a right triangle, where the angle in question is the one represented by the input value.\n",
        "\n",
        "4. The fourth line uses the print() function to print the values of the cosine of each element in the array \"a\", which are now stored in the new array \"b\".\n",
        "\n",
        "In summary, the code calculates the cosine values of the elements in the array \"a\", where each value represents an angle in radians, and stores the results in a new array \"b\". The output of the code displays both the original array \"a\" and the new array \"b\" containing the cosine values."
      ],
      "metadata": {
        "id": "v3MEgaBiHs_U"
      }
    },
    {
      "cell_type": "markdown",
      "source": [
        " **(03) Numpy.Tan() Function**"
      ],
      "metadata": {
        "id": "YGM7RYNEIAsI"
      }
    },
    {
      "cell_type": "markdown",
      "source": [
        "**Example**"
      ],
      "metadata": {
        "id": "M-mTsvQMIFbX"
      }
    },
    {
      "cell_type": "code",
      "source": [
        "import numpy as np\n",
        "a = np.array([3*np.pi/2,2*np.pi/3,5*np.pi/4])\n",
        "print(\"Original array:\", a)\n",
        "print()\n",
        "b = np.tan(a)\n",
        "print(\"tangent values:\" ,b)"
      ],
      "metadata": {
        "id": "LkQNq28-IIeX"
      },
      "execution_count": null,
      "outputs": []
    },
    {
      "cell_type": "markdown",
      "source": [
        "**Explanation**\n",
        "\n",
        "1. The first line creates a NumPy array called \"a\" that contains the values 3pi/2, 2pi/3, and 5pi/4. Since pi is equivalent to half a circle (180 degrees), 3pi/2 is equivalent to three-quarters of a circle (270 degrees), 2pi/3 is equivalent to two-thirds of a circle (120 degrees), and 5pi/4 is equivalent to five-quarters of a circle (225 degrees).\n",
        "\n",
        "2. The second line uses the print() function to print the original array \"a\" to the console.\n",
        "\n",
        "3. The third line creates a new array \"b\" by applying the tangent function to each element in the array \"a\". The tangent function calculates the ratio of the opposite side to the adjacent side of a right triangle, where the angle in question is the one represented by the input value.\n",
        "\n",
        "4. The fourth line uses the print() function to print the values of the tangent of each element in the array \"a\", which are now stored in the new array \"b\".\n",
        "\n",
        "In summary, the code calculates the tangent values of the elements in the array \"a\", where each value represents an angle in radians, and stores the results in a new array \"b\". The output of the code displays both the original array \"a\" and the new array \"b\" containing the tangent values."
      ],
      "metadata": {
        "id": "eAMlsNGAIsN-"
      }
    },
    {
      "cell_type": "markdown",
      "source": [
        "**02.Finding Angles**\n",
        "\n",
        "Finding angles from values of sine, cos, tan. E.g. sin, cos and tan inverse (arcsin, arccos, arctan).\n",
        "\n",
        "NumPy provides ufuncs **arcsin(), arccos() and arctan()** that produce radian values for corresponding sin, cos and tan values given."
      ],
      "metadata": {
        "id": "21voAv6hJpvy"
      }
    },
    {
      "cell_type": "markdown",
      "source": [
        "**(01) Numpy.arcsin() Function**"
      ],
      "metadata": {
        "id": "It42QNDSKcDZ"
      }
    },
    {
      "cell_type": "code",
      "source": [
        "import numpy as np\n",
        "a = np.array([3*np.pi/2,2*np.pi/3,5*np.pi/4])\n",
        "print(\"Original array:\", a)\n",
        "print()\n",
        "b = np.sin(a)\n",
        "print(\"Values of Sine:\" ,b)\n",
        "print()\n",
        "c = np.arcsin(b)\n",
        "print(\"Inverse Values of Sine:\",c)"
      ],
      "metadata": {
        "id": "e9QCfQMDK4-I"
      },
      "execution_count": null,
      "outputs": []
    },
    {
      "cell_type": "markdown",
      "source": [
        "**Explanation**\n",
        "\n",
        "1. The first line creates a NumPy array called \"a\" that contains the values 3pi/2, 2pi/3, and 5*pi/4. As we saw in the previous explanation, these values represent angles in radians.\n",
        "\n",
        "2. The second line uses the print() function to print the original array \"a\" to the console.\n",
        "\n",
        "3. The third line creates a new array \"b\" by applying the sine function to each element in the array \"a\". The sine function calculates the ratio of the opposite side to the hypotenuse of a right triangle, where the angle in question is the one represented by the input value.\n",
        "\n",
        "4. The fourth line uses the print() function to print the values of the sine of each element in the array \"a\", which are now stored in the new array \"b\".\n",
        "\n",
        "5. The fifth line creates a new array \"c\" by applying the arcsine function (or inverse sine function) to each element in the array \"b\". The arcsine function returns the angle whose sine is equal to the input value.\n",
        "\n",
        "6. The sixth line uses the print() function to print the values of the arcsine of each element in the array \"b\", which are now stored in the new array \"c\".\n",
        "\n",
        "In summary, the code calculates the sine values of the elements in the array \"a\", where each value represents an angle in radians. Then, it calculates the inverse sine (arcsine) values of those sine values and stores the results in a new array \"c\". The output of the code displays the original array \"a\", the new array \"b\" containing the sine values, and the new array \"c\" containing the inverse sine values."
      ],
      "metadata": {
        "id": "eBHGdxCXLwme"
      }
    },
    {
      "cell_type": "markdown",
      "source": [
        "**(02) Numpy.arccos() Function**"
      ],
      "metadata": {
        "id": "gY-xKCTGMbeQ"
      }
    },
    {
      "cell_type": "markdown",
      "source": [
        "**Example**"
      ],
      "metadata": {
        "id": "XIb2giYHNZ3m"
      }
    },
    {
      "cell_type": "code",
      "source": [
        "import numpy as np\n",
        "a = np.array([3*np.pi/2,2*np.pi/3,5*np.pi/4])\n",
        "print(\"Original array:\", a)\n",
        "print()\n",
        "b = np.cos(a)\n",
        "print(\"Values of Cosine:\" ,b)\n",
        "print()\n",
        "c = np.arccos(b)\n",
        "print(\"Inverse Values of Cosine:\",c)"
      ],
      "metadata": {
        "id": "fslRhezdMnhK"
      },
      "execution_count": null,
      "outputs": []
    },
    {
      "cell_type": "markdown",
      "source": [
        "**Explanation**\n",
        "\n",
        "1. The first line creates a NumPy array called \"a\" that contains the values 3pi/2, 2pi/3, and 5*pi/4. As we saw in the previous explanation, these values represent angles in radians.\n",
        "\n",
        "2. The second line uses the print() function to print the original array \"a\" to the console.\n",
        "\n",
        "3. The third line creates a new array \"b\" by applying the cosine function to each element in the array \"a\". The cosine function calculates the ratio of the adjacent side to the hypotenuse of a right triangle, where the angle in question is the one represented by the input value.\n",
        "\n",
        "4. The fourth line uses the print() function to print the values of the cosine of each element in the array \"a\", which are now stored in the new array \"b\".\n",
        "\n",
        "5. The fifth line creates a new array \"c\" by applying the arccosine function (or inverse cosine function) to each element in the array \"b\". The arccosine function returns the angle whose cosine is equal to the input value.\n",
        "\n",
        "6. The sixth line uses the print() function to print the values of the arccosine of each element in the array \"b\", which are now stored in the new array \"c\".\n",
        "\n",
        "In summary, the code calculates the cosine values of the elements in the array \"a\", where each value represents an angle in radians. Then, it calculates the inverse cosine (arccosine) values of those cosine values and stores the results in a new array \"c\". The output of the code displays the original array \"a\", the new array \"b\" containing the cosine values, and the new array \"c\" containing the inverse cosine values."
      ],
      "metadata": {
        "id": "3GuG9pdkNIyX"
      }
    },
    {
      "cell_type": "markdown",
      "source": [
        "**(03) Numpy.arctan() Function**"
      ],
      "metadata": {
        "id": "5A9OtkQMNo-j"
      }
    },
    {
      "cell_type": "markdown",
      "source": [
        "**Example**"
      ],
      "metadata": {
        "id": "hwpIdbGINt4-"
      }
    },
    {
      "cell_type": "code",
      "source": [
        "import numpy as np\n",
        "a = np.array([3*np.pi/2,2*np.pi/3,5*np.pi/4])\n",
        "print(\"Original array:\", a)\n",
        "print()\n",
        "b = np.tan(a)\n",
        "print(\"Values of Tangent:\" ,b)\n",
        "print()\n",
        "c = np.arctan(b)\n",
        "print(\"Inverse Values of Tangent:\",c)"
      ],
      "metadata": {
        "id": "EfnjR2Q4Ns-v"
      },
      "execution_count": null,
      "outputs": []
    },
    {
      "cell_type": "markdown",
      "source": [
        "**Explanation** \n",
        "\n",
        "1. This code creates a NumPy array named a with three values: 3π/2, 2π/3, and 5π/4. These values are in radians.\n",
        "\n",
        "2. Then, the code prints the original array a.\n",
        "\n",
        "3. The code then uses the NumPy function np.tan() to calculate the tangent of each element in the array a. The resulting array is named b.\n",
        "\n",
        "4. The code prints the values of the tangent of each element in the array a.\n",
        "\n",
        "Finally, the code uses the NumPy function np.arctan() to calculate the inverse tangent of each element in the array b. The resulting array is named c.\n",
        "\n",
        "The code prints the inverse values of the tangent of each element in the array b."
      ],
      "metadata": {
        "id": "DwjqZygKO-F4"
      }
    },
    {
      "cell_type": "markdown",
      "source": [
        "**03.Convert Degrees Into Radians**\n",
        "\n",
        "Radians and degrees are both units used to measure angles. While degrees are more commonly used in everyday life, radians are preferred in mathematical calculations because they simplify many equations.\n",
        "\n",
        "To convert degrees to radians, you can use the following formula:\n",
        "\n",
        "radians = degrees x (π/180)\n",
        "\n",
        "In this formula, π (pi) represents the mathematical constant that relates the circumference of a circle to its diameter, and it's approximately equal to 3.14159.\n",
        "\n",
        "For example, let's say you want to convert an angle of 45 degrees into radians. Using the formula above, we get:\n",
        "\n",
        "radians = 45 x (π/180) ≈ 0.7854\n",
        "\n",
        "So 45 degrees is approximately equal to 0.7854 radians."
      ],
      "metadata": {
        "id": "ZR0mftOHNawC"
      }
    },
    {
      "cell_type": "markdown",
      "source": [
        "**Example 01**"
      ],
      "metadata": {
        "id": "5HLlIUulSUIm"
      }
    },
    {
      "cell_type": "code",
      "source": [
        "import numpy as np\n",
        "deg = 0\n",
        "rad = np.deg2rad(deg)\n",
        "print(\"0 degree in radians:\", rad)"
      ],
      "metadata": {
        "id": "Jy9EvGavWmhD"
      },
      "execution_count": null,
      "outputs": []
    },
    {
      "cell_type": "markdown",
      "source": [
        "**Example 02**"
      ],
      "metadata": {
        "id": "23jMzP-XXdqq"
      }
    },
    {
      "cell_type": "code",
      "source": [
        "import numpy as np\n",
        "deg = 270\n",
        "rad = np.deg2rad(deg)\n",
        "print(\"270 degrees in radians:\", rad)"
      ],
      "metadata": {
        "id": "do6nbcIZXhhy"
      },
      "execution_count": null,
      "outputs": []
    },
    {
      "cell_type": "markdown",
      "source": [
        "**Example 03**"
      ],
      "metadata": {
        "id": "SlfO6AIWX6C6"
      }
    },
    {
      "cell_type": "code",
      "source": [
        "import numpy as np\n",
        "deg = -90\n",
        "rad = np.deg2rad(deg)\n",
        "print(\"-90 degrees in radians:\", rad)"
      ],
      "metadata": {
        "id": "B71S8xIHX-Xz"
      },
      "execution_count": null,
      "outputs": []
    },
    {
      "cell_type": "markdown",
      "source": [
        "**Example 04**"
      ],
      "metadata": {
        "id": "vubAMpNhYwsx"
      }
    },
    {
      "cell_type": "code",
      "source": [
        "import numpy as np\n",
        "deg = -180\n",
        "rad = np.deg2rad(deg)\n",
        "print(\"-180 degrees in radians:\", rad)"
      ],
      "metadata": {
        "id": "AvgZFjwXY1sm"
      },
      "execution_count": null,
      "outputs": []
    },
    {
      "cell_type": "markdown",
      "source": [
        "**Example 05**"
      ],
      "metadata": {
        "id": "11STS27sY-ae"
      }
    },
    {
      "cell_type": "code",
      "source": [
        "import numpy as np   \n",
        "deg = np.array([0, 30, 45, 60, 90])\n",
        "print(\"Degree Values:\",deg)\n",
        "print()\n",
        "rad=np.deg2rad(a)\n",
        "print(\"Radians Values:\",rad)"
      ],
      "metadata": {
        "id": "7f_SwlMCSaVQ"
      },
      "execution_count": null,
      "outputs": []
    },
    {
      "cell_type": "markdown",
      "source": [
        "**Explanation**\n",
        "\n",
        "In this code, there is a numpy array named 'a' which contains five values: 0, 30, 45, 60, and 90.\n",
        "\n",
        "The first line of code prints the message \"Degree Values:\" on the console followed by the values of array 'a' using the 'print' function.\n",
        "\n",
        "In the second line of code, another numpy array 'b' is created by converting the values of array 'a' from degrees to radians using the 'np.deg2rad()' function.\n",
        "\n",
        "The third line of code prints the message \"Radians Values:\" on the console followed by the values of array 'b' using the 'print' function.\n",
        "\n",
        "So, the output of this code will be the degree values of array 'a' followed by the corresponding radian values of the same array 'a'."
      ],
      "metadata": {
        "id": "fxZPW60TVnl4"
      }
    },
    {
      "cell_type": "markdown",
      "source": [
        "**04.Convert Radians Into Degrees**\n",
        "\n",
        "Radians and degrees are two different units used to measure angles. Radians are used in advanced mathematical calculations, while degrees are commonly used in everyday life. Sometimes, it is necessary to convert radians into degrees to better understand and communicate the measurement.\n",
        "\n",
        "To convert radians to degrees, you can use the following formula:\n",
        "\n",
        "degrees = radians * (180 / pi)\n",
        "\n",
        "Here, 'radians' is the value in radians that you want to convert into degrees, and 'pi' is the mathematical constant pi (approximately 3.14159).\n",
        "\n",
        "You can simply multiply the radians value with the conversion factor (180/pi) to get the equivalent degrees value.\n"
      ],
      "metadata": {
        "id": "6RMDshfwZRzZ"
      }
    },
    {
      "cell_type": "markdown",
      "source": [
        "**Example 01**"
      ],
      "metadata": {
        "id": "NMXwNonAZ9Uu"
      }
    },
    {
      "cell_type": "code",
      "source": [
        "import numpy as np\n",
        "rad = 0\n",
        "deg = np.rad2deg(rad)\n",
        "print(\"0 radians in degrees:\", deg)"
      ],
      "metadata": {
        "id": "LGvb5_UiaY9B"
      },
      "execution_count": null,
      "outputs": []
    },
    {
      "cell_type": "markdown",
      "source": [
        "**Example 02**"
      ],
      "metadata": {
        "id": "fp-GM0P_bL1q"
      }
    },
    {
      "cell_type": "code",
      "source": [
        "import numpy as np\n",
        "rad = np.pi/6\n",
        "deg = np.rad2deg(rad)\n",
        "print(\"pi/6 radians in degrees:\", deg)\n"
      ],
      "metadata": {
        "id": "QCaaB4zEbPUb"
      },
      "execution_count": null,
      "outputs": []
    },
    {
      "cell_type": "markdown",
      "source": [
        "**Example 03**"
      ],
      "metadata": {
        "id": "RC3hBdTubZDS"
      }
    },
    {
      "cell_type": "code",
      "source": [
        "import numpy as np\n",
        "rad = 3*np.pi/2\n",
        "deg = np.rad2deg(rad)\n",
        "print(\"3*pi/2 radians in degrees:\", deg)"
      ],
      "metadata": {
        "id": "-8xjvlTJbeLo"
      },
      "execution_count": null,
      "outputs": []
    },
    {
      "cell_type": "markdown",
      "source": [
        "**Example 04**"
      ],
      "metadata": {
        "id": "tYBVduGtbxmR"
      }
    },
    {
      "cell_type": "code",
      "source": [
        "import numpy as np\n",
        "rad = -np.pi/6\n",
        "deg = np.rad2deg(rad)\n",
        "print(\"-pi/6 radians in degrees:\", deg)"
      ],
      "metadata": {
        "id": "lDorfYLUb62Y"
      },
      "execution_count": null,
      "outputs": []
    },
    {
      "cell_type": "markdown",
      "source": [
        "**Example 05**"
      ],
      "metadata": {
        "id": "TCYiUT0ccG6q"
      }
    },
    {
      "cell_type": "code",
      "source": [
        "import numpy as np\n",
        "rad = np.array([np.pi/2,np.pi/3,np.pi/4])\n",
        "deg = np.rad2deg(rad)\n",
        "print(\"radians in degrees:\", deg)"
      ],
      "metadata": {
        "id": "CpgVs8pGcLhZ"
      },
      "execution_count": null,
      "outputs": []
    },
    {
      "cell_type": "markdown",
      "source": [
        "**Explanation**\n",
        "\n",
        "In the given code, we first create a numpy array 'rad' containing three values in radians - pi/2, pi/3, and pi/4.\n",
        "\n",
        "Then we use the numpy function 'np.rad2deg' to convert the values in the 'rad' array from radians to degrees. The converted values are stored in a new numpy array 'deg'.\n",
        "\n",
        "Finally, we print the values of the 'deg' array to the console using the 'print' function.\n",
        "\n",
        "The output of this code will be the converted values of radians to degrees for the given array 'rad'."
      ],
      "metadata": {
        "id": "WqmGK_fydGTy"
      }
    }
  ]
}