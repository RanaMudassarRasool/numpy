{
  "nbformat": 4,
  "nbformat_minor": 0,
  "metadata": {
    "colab": {
      "private_outputs": true,
      "provenance": [],
      "collapsed_sections": [
        "Ce_nzT3G_9Ff"
      ],
      "include_colab_link": true
    },
    "kernelspec": {
      "name": "python3",
      "display_name": "Python 3"
    },
    "language_info": {
      "name": "python"
    }
  },
  "cells": [
    {
      "cell_type": "markdown",
      "metadata": {
        "id": "view-in-github",
        "colab_type": "text"
      },
      "source": [
        "<a href=\"https://colab.research.google.com/github/ranamaddy/numpy/blob/main/Topic_20%3D_Numpy_statistical_functions.ipynb\" target=\"_parent\"><img src=\"https://colab.research.google.com/assets/colab-badge.svg\" alt=\"Open In Colab\"/></a>"
      ]
    },
    {
      "cell_type": "markdown",
      "source": [
        "# **Topic 20  = Numpy statistical functions**\n",
        "\n",
        "\n",
        "NumPy is a widely used Python library for scientific computing that provides a variety of mathematical and statistical functions to perform numerical calculations efficiently. In particular, NumPy's statistical functions are powerful tools for analyzing data and generating descriptive statistics.\n",
        "\n",
        "Here are some of the most commonly used statistical functions in NumPy:\n",
        "\n",
        "1. mean(): Calculates the arithmetic mean of the given data.\n",
        "\n",
        "2. median(): Computes the median value of the given data.\n",
        "\n",
        "3. std(): Calculates the standard deviation of the given data.\n",
        "\n",
        "4. var(): Computes the variance of the given data.\n",
        "\n",
        "5. min(): Returns the smallest value in the data.\n",
        "\n",
        "6. max(): Returns the largest value in the data.\n",
        "\n",
        "7. percentile(): Computes the q-th percentile of the data.\n",
        "\n",
        "8. histogram(): Computes the histogram of the data.\n",
        "\n",
        "9. corrcoef(): Computes the correlation coefficient between two variables.\n",
        "\n",
        "10. ptp() function:The name of the function numpy.ptp() is derived from the name peak-to-peak. It is used to return the range of values along an axis. Consider the following example.\n",
        "\n",
        "11. average() function:\n",
        "The numpy.average() function is used to find the weighted average along the axis of the multi-dimensional arrays where their weights are given in another array.\n",
        "\n",
        "These functions can be applied to one-dimensional or multi-dimensional arrays, and they can also be used to perform calculations on a subset of the data. NumPy's statistical functions are highly efficient and can handle large datasets with ease, making them a popular choice for data analysis and scientific computing tasks."
      ],
      "metadata": {
        "id": "Ce_nzT3G_9Ff"
      }
    },
    {
      "cell_type": "markdown",
      "source": [
        "**Type (01): numpy.mean() function**\n",
        "\n",
        "\n",
        "The NumPy mean() function is used to calculate the arithmetic mean or average of the given data along a specified axis. The mean value is calculated by summing up all the elements in the array and dividing the total by the number of elements.\n",
        "\n",
        " **The syntax for using the mean() function is:**\n",
        "\n",
        "numpy.mean(arr, axis=None)\n",
        "\n",
        "where arr is the input array and axis is the axis along which the mean needs to be calculated. If the axis is not specified, the mean is calculated over the entire array.\n",
        "\n"
      ],
      "metadata": {
        "id": "nHxn2ibuBQTL"
      }
    },
    {
      "cell_type": "markdown",
      "source": [
        "**Example 01: Calculate the mean of a one-dimensional array:**"
      ],
      "metadata": {
        "id": "mjGJcsJtCZ8e"
      }
    },
    {
      "cell_type": "code",
      "execution_count": null,
      "metadata": {
        "id": "-2LxpFwU_mYS"
      },
      "outputs": [],
      "source": [
        "import numpy as np\n",
        "arr = np.array([1, 2, 3, 4, 5])\n",
        "mean = np.mean(arr)\n",
        "print(mean)"
      ]
    },
    {
      "cell_type": "markdown",
      "source": [
        "**Explanation**\n",
        "\n",
        "In this example, we used the np.mean() function to calculate the mean of an array of numbers. The function takes an array as input and returns the mean value of the array. Here, the mean value of the array [1, 2, 3, 4, 5] is 3.0."
      ],
      "metadata": {
        "id": "pUlDv1mHQDU3"
      }
    },
    {
      "cell_type": "markdown",
      "source": [
        "**Example 02: Calculate the mean of a two-dimensional array along the columns (axis=0):**"
      ],
      "metadata": {
        "id": "5aEtMh4SDKiM"
      }
    },
    {
      "cell_type": "code",
      "source": [
        "import numpy as np\n",
        "a = np.array([[1, 2, 3], [4, 5, 6], [7, 8, 9]])\n",
        "print(\"Original Array:\",a)\n",
        "print()\n",
        "b = np.mean(a, axis=0)\n",
        "print(\"mean values:\",b)"
      ],
      "metadata": {
        "id": "Hp8cK6XuDPr6"
      },
      "execution_count": null,
      "outputs": []
    },
    {
      "cell_type": "markdown",
      "source": [
        "**Explanation**\n",
        "\n",
        "In this example, we calculated the mean values of an array along a specific axis using the np.mean() function in NumPy. The mean is calculated by summing up the values along the specified axis and dividing by the number of elements along that axis. In this case, we calculated the mean values along axis 0, which means we are calculating the mean values along the columns of the matrix. Therefore, the mean values of the columns are [4, 5, 6]."
      ],
      "metadata": {
        "id": "3s8TmTazPmpv"
      }
    },
    {
      "cell_type": "markdown",
      "source": [
        "**Example 03: Calculate the mean of a two-dimensional array along the rows (axis=1):**\n"
      ],
      "metadata": {
        "id": "1syny-E_EGkb"
      }
    },
    {
      "cell_type": "code",
      "source": [
        "import numpy as np\n",
        "a = np.array([[1, 2, 3], [4, 5, 6], [7, 8, 9]])\n",
        "print(\"Original Array:\",a)\n",
        "print()\n",
        "b = np.mean(a, axis=1)\n",
        "print(\"mean values of the rows:\",b)"
      ],
      "metadata": {
        "id": "P1iexFQUENd5"
      },
      "execution_count": null,
      "outputs": []
    },
    {
      "cell_type": "markdown",
      "source": [
        "**Explanation**\n",
        "\n",
        "In this example, we calculated the mean values of an array along a specific axis using the np.mean() function in NumPy. The mean is calculated by summing up the values along the specified axis and dividing by the number of elements along that axis. In this case, we calculated the mean values along axis 1, which means we are calculating the mean values along the rows of the matrix. Therefore, the mean values of the rows are [2, 5, 8]."
      ],
      "metadata": {
        "id": "YjJhZ0xpO8CE"
      }
    },
    {
      "cell_type": "markdown",
      "source": [],
      "metadata": {
        "id": "1uZsHQwSO7_E"
      }
    },
    {
      "cell_type": "markdown",
      "source": [
        "**Example 04:Calculate the weighted mean of an array:**"
      ],
      "metadata": {
        "id": "CALa1U0MFXe9"
      }
    },
    {
      "cell_type": "code",
      "source": [
        "import numpy as np\n",
        "arr = np.array([1, 2, 3, 4, 5])\n",
        "print(\"original array:\",arr)\n",
        "print()\n",
        "weights = np.array([1, 2, 3, 4, 5])\n",
        "print(\"weight array:\",weights)\n",
        "print()\n",
        "mean = np.average(arr, weights=weights)\n",
        "print(mean)"
      ],
      "metadata": {
        "id": "Wa-w9-1VFfIm"
      },
      "execution_count": null,
      "outputs": []
    },
    {
      "cell_type": "markdown",
      "source": [
        "**Explanation**\n",
        "\n",
        "In this example, we calculated the weighted mean value of an array using the np.average() function in NumPy. The weighted mean is calculated by multiplying each element of the original array by its corresponding weight, then taking the sum of these products and dividing it by the sum of the weights. Therefore, the weighted mean value of this array is (1 * 1 + 2 * 2 + 3 * 3 + 4 * 4 + 5 * 5) / (1 + 2 + 3 + 4 + 5), which is equal to 3.6666666666666665."
      ],
      "metadata": {
        "id": "gSy1cE3KNzYq"
      }
    },
    {
      "cell_type": "markdown",
      "source": [
        "**Example 05: Calculate the mean of a complex array:**\n"
      ],
      "metadata": {
        "id": "-bFQsP3uGZh1"
      }
    },
    {
      "cell_type": "code",
      "source": [
        "import numpy as np\n",
        "arr = np.array([1+2j, 3+4j, 5+6j])\n",
        "mean = np.mean(arr)\n",
        "print(mean)"
      ],
      "metadata": {
        "id": "In-NvwMGGerM"
      },
      "execution_count": null,
      "outputs": []
    },
    {
      "cell_type": "markdown",
      "source": [
        "**Explanation**\n",
        "\n",
        "In this example, we calculated the mean value of an array with complex numbers. The mean() function in NumPy calculates the arithmetic mean of the complex numbers by taking the mean of their real and imaginary parts separately. Therefore, the mean value of this array is (1 + 3 + 5) / 3 + (2 + 4 + 6) / 3 * 1j, which is equal to (3 + 4j)."
      ],
      "metadata": {
        "id": "aYoR_bkcNKkE"
      }
    },
    {
      "cell_type": "markdown",
      "source": [
        "**Example 06:Calculate the mean of an array with NaN((Not a Number)  values:**"
      ],
      "metadata": {
        "id": "rLEe3DCBGzNQ"
      }
    },
    {
      "cell_type": "code",
      "source": [
        "import numpy as np\n",
        "arr = np.array([1, 2, np.nan, 4, 5])\n",
        "print(\"original array:\",arr)\n",
        "print()\n",
        "mean = np.nanmean(arr)\n",
        "print(\"mean of the remaining values:\",mean)"
      ],
      "metadata": {
        "id": "QvR5FaKqG8RB"
      },
      "execution_count": null,
      "outputs": []
    },
    {
      "cell_type": "markdown",
      "source": [
        "**Explanation**\n",
        "\n",
        "In this example, we calculated the mean value of an array which has one NaN value. The nanmean() function in NumPy ignores any NaN values and calculates the mean of the remaining values. Therefore, the mean value of this array is (1 + 2 + 4 + 5) / 4, which is equal to 3."
      ],
      "metadata": {
        "id": "dHC91GHIMVjK"
      }
    },
    {
      "cell_type": "markdown",
      "source": [
        "**Example 07: Calculate the mean of a boolean array:**\n"
      ],
      "metadata": {
        "id": "R6MOmcBOHLzF"
      }
    },
    {
      "cell_type": "code",
      "source": [
        "import numpy as np\n",
        "arr = np.array([True, False, True, True, False])\n",
        "print(\"original array:\",arr)\n",
        "print()\n",
        "mean = np.mean(arr)\n",
        "print(\"mean of boolean:\",mean)"
      ],
      "metadata": {
        "id": "or-wdBl-HSV7"
      },
      "execution_count": null,
      "outputs": []
    },
    {
      "cell_type": "markdown",
      "source": [
        "**Explanation**\n",
        "\n",
        "In this example, we calculated the mean value of a boolean array which has 2 True values and 3 False values. The mean value of this boolean array is calculated as the sum of the True values divided by the total number of elements in the array. Therefore, the mean value is 2/5, which is equal to 0.6."
      ],
      "metadata": {
        "id": "twa8QMZgKd8V"
      }
    },
    {
      "cell_type": "markdown",
      "source": [
        "**Example 08:Calculate the mean of a large array:**"
      ],
      "metadata": {
        "id": "2u-6qSllHnvw"
      }
    },
    {
      "cell_type": "code",
      "source": [
        "import numpy as np\n",
        "arr = np.random.rand(1000000)\n",
        "print(\"original array:\",arr)\n",
        "print()\n",
        "mean = np.mean(arr)\n",
        "print(\"mean of large number:\",mean)"
      ],
      "metadata": {
        "id": "AJGOqEDtHtBO"
      },
      "execution_count": null,
      "outputs": []
    },
    {
      "cell_type": "markdown",
      "source": [
        "**Explanation**\n",
        "In this example, we generated an array of 1,000,000 random numbers between 0 and 1 using the np.random.rand() function.\n",
        "\n",
        " We then calculated the mean value of this large array using the mean() function in NumPy, which returns the average value of all elements in the array. The mean value of this array is approximately 0.5, which is the expected value of a uniform distribution between 0 and 1.\n"
      ],
      "metadata": {
        "id": "73hIuhknIexW"
      }
    },
    {
      "cell_type": "markdown",
      "source": [
        "**Type(02): numpy.meadian() function**\n",
        "\n",
        "The NumPy library in Python provides a function called \"numpy.median()\" that calculates the median value of a given array or list of numbers. The median is the middle value in a sorted list of numbers, or the average of the two middle values if the list has an even number of elements.\n",
        "\n",
        "The numpy.median() function takes a single argument, which is the array or list of numbers for which you want to calculate the median. It returns the median value as a float."
      ],
      "metadata": {
        "id": "ZoCU9loUY1vn"
      }
    },
    {
      "cell_type": "markdown",
      "source": [
        "**Example 01:Finding the median of an array of integers:**"
      ],
      "metadata": {
        "id": "txUJav7naJMy"
      }
    },
    {
      "cell_type": "code",
      "source": [
        "import numpy as np\n",
        "arr = np.array([3, 1, 4, 2, 5])\n",
        "median = np.median(arr)\n",
        "print(median)"
      ],
      "metadata": {
        "id": "vLwQYbdvaOpT"
      },
      "execution_count": null,
      "outputs": []
    },
    {
      "cell_type": "markdown",
      "source": [
        "**Example 02:Finding the median of a list of numbers:**"
      ],
      "metadata": {
        "id": "ke9bMHoBap2A"
      }
    },
    {
      "cell_type": "code",
      "source": [
        "import numpy as np\n",
        "lst = [3, 1, 4, 2, 5]\n",
        "median = np.median(lst)\n",
        "print(median)"
      ],
      "metadata": {
        "id": "92xCRM99awPw"
      },
      "execution_count": null,
      "outputs": []
    },
    {
      "cell_type": "markdown",
      "source": [
        "**Example 03: Finding the median of a tuple of numbers:**"
      ],
      "metadata": {
        "id": "QAR_biwoa7pO"
      }
    },
    {
      "cell_type": "code",
      "source": [
        "import numpy as np\n",
        "tup = (3, 1, 4, 2, 5)\n",
        "median = np.median(tup)\n",
        "print(median)"
      ],
      "metadata": {
        "id": "XiEOwnDYbBFy"
      },
      "execution_count": null,
      "outputs": []
    },
    {
      "cell_type": "markdown",
      "source": [
        "**Example 04:Finding the median of a 2D array  along axis 0 (columns)**"
      ],
      "metadata": {
        "id": "0aa_beVlbRMB"
      }
    },
    {
      "cell_type": "code",
      "source": [
        "import numpy as np\n",
        "arr = np.array([[1, 2, 3], [4, 5, 6], [7, 8, 9],[10,11,12]])\n",
        "print(\"original array:\",arr)\n",
        "print()\n",
        "median= np.median(arr, axis=0)\n",
        "print(median)"
      ],
      "metadata": {
        "id": "rueP-KQ2bV_0"
      },
      "execution_count": null,
      "outputs": []
    },
    {
      "cell_type": "markdown",
      "source": [
        "**Explanation**\n",
        "\n",
        "The median values of each column are printed to the console, which are [5.5, 6.5, 7.5]. Therefore, the first median value is the median of [1, 4, 7, 10], the second median value is the median of [2, 5, 8, 11], and the third median value is the median of [3, 6, 9, 12]."
      ],
      "metadata": {
        "id": "QUCKfg3Ck-jT"
      }
    },
    {
      "cell_type": "markdown",
      "source": [
        "**Example 05:Finding the median of a 2D array  along axis 1 (rows)**"
      ],
      "metadata": {
        "id": "Oheia1Muc2vZ"
      }
    },
    {
      "cell_type": "code",
      "source": [
        "import numpy as np\n",
        "arr = np.array([[1, 2, 3], [4, 5, 6], [7, 8, 9],[10,11,12]])\n",
        "print(\"original array:\",arr)\n",
        "print()\n",
        "median= np.median(arr, axis=1)\n",
        "print(median)"
      ],
      "metadata": {
        "id": "b_fQhAODdERQ"
      },
      "execution_count": null,
      "outputs": []
    },
    {
      "cell_type": "markdown",
      "source": [
        "**Explanation**\n",
        "\n",
        "The median values of each row are printed to the console, which are [2. 5. 8. 11.]. Therefore, the first median value is the median of [1, 2, 3], the second median value is the median of [4, 5, 6], the third median value is the median of [7, 8, 9], and the fourth median value is the median of [10, 11, 12]."
      ],
      "metadata": {
        "id": "-kil1hxnkn2t"
      }
    },
    {
      "cell_type": "markdown",
      "source": [
        "**Example 06: Finding the median of a slice of an array:**"
      ],
      "metadata": {
        "id": "yv516_Sce6sv"
      }
    },
    {
      "cell_type": "code",
      "source": [
        "import numpy as np\n",
        "a = np.array([1,2,3,4,5,6,7,8])\n",
        "median= np.median(a[2:6])\n",
        "print(median)"
      ],
      "metadata": {
        "id": "iTH17RPGfFFq"
      },
      "execution_count": null,
      "outputs": []
    },
    {
      "cell_type": "markdown",
      "source": [
        "**Explanation**\n",
        "\n",
        "The given code creates a numpy array named a that contains the integers 1 through 8.\n",
        "\n",
        "Next, the np.median() function is used to calculate the median of the subarray of a that starts at the 3rd index and ends at the 6th index (inclusive). This subarray contains the elements [3, 4, 5, 6]. The median of this subarray is calculated to be 4.5, which is saved to the variable named median."
      ],
      "metadata": {
        "id": "t7Xsfr9fj-Au"
      }
    },
    {
      "cell_type": "markdown",
      "source": [
        "**Example 07: Finding the median of complex numbers:**"
      ],
      "metadata": {
        "id": "KpFlYXdEhH0Q"
      }
    },
    {
      "cell_type": "code",
      "source": [
        "import numpy as np\n",
        "arr = np.array([1+2j, 3-4j, -5j, 6])\n",
        "sort= np.sort(arr)\n",
        "print(sort)\n",
        "print()\n",
        "median = np.median(arr)\n",
        "print(median)"
      ],
      "metadata": {
        "id": "OUmRTanphO30"
      },
      "execution_count": null,
      "outputs": []
    },
    {
      "cell_type": "markdown",
      "source": [
        "**Explanation**\n",
        "\n",
        "The median of the array is (2-1j), which is the average of the two middle elements after the array has been sorted in ascending order (1.+2j + 3.-4j)/2."
      ],
      "metadata": {
        "id": "MPvZXTwZi7A2"
      }
    },
    {
      "cell_type": "markdown",
      "source": [
        "**Type (03): numpy.std() function**\n",
        "\n",
        "The numpy.std() function in Python's NumPy library is used to calculate the standard deviation of an array or a set of values. Standard deviation measures the amount of variation or dispersion in a dataset.\n",
        "\n",
        "**The formula for calculating the standard deviation is as follows:**\n",
        "\n",
        "\n",
        "std = sqrt(mean((x - x.mean())**2))\n",
        "where:\n",
        "\n",
        "x is the input array or set of values\n",
        "mean() calculates the mean (average) of x\n",
        "sqrt() is the square root function\n",
        "The steps involved in calculating the standard deviation using numpy.std() are as follows:\n",
        "\n",
        "Calculate the mean of the array or set of values.\n",
        "\n",
        "Calculate the squared difference between each element in the array and the mean.\n",
        "\n",
        "Calculate the mean of the squared differences.\n",
        "\n",
        "Take the square root of the mean of squared differences to obtain the standard deviation.\n",
        "The numpy.std() function allows you to calculate the standard deviation directly without explicitly performing these steps. It takes the array or set of values as its input and returns the standard deviation as the output."
      ],
      "metadata": {
        "id": "KX80U0GbTeP_"
      }
    },
    {
      "cell_type": "markdown",
      "source": [
        "**Example 1: Calculate the standard deviation of an array of integers.**"
      ],
      "metadata": {
        "id": "3a3_xyUyXySL"
      }
    },
    {
      "cell_type": "code",
      "source": [
        "import numpy as np\n",
        "\n",
        "arr = np.array([1, 2, 3, 4, 5])\n",
        "std_dev = np.std(arr)\n",
        "\n",
        "print(std_dev)"
      ],
      "metadata": {
        "id": "Q6q_K3DmYN8d"
      },
      "execution_count": null,
      "outputs": []
    },
    {
      "cell_type": "markdown",
      "source": [
        "**Example 2: Calculate the standard deviation of a 2D array.**"
      ],
      "metadata": {
        "id": "KbMoxoh3bJdu"
      }
    },
    {
      "cell_type": "code",
      "source": [
        "import numpy as np\n",
        "\n",
        "arr = np.array([[1, 2, 3], [4, 5, 6]])\n",
        "std_dev = np.std(arr)\n",
        "\n",
        "print(std_dev)"
      ],
      "metadata": {
        "id": "HvgHboyrbM65"
      },
      "execution_count": null,
      "outputs": []
    },
    {
      "cell_type": "markdown",
      "source": [
        "**Example 3: Calculate the standard deviation of a 2D array along a specified axis.**"
      ],
      "metadata": {
        "id": "ue93qtdKbuxx"
      }
    },
    {
      "cell_type": "code",
      "source": [
        "import numpy as np\n",
        "\n",
        "arr = np.array([[1, 2, 3], [4, 5, 6]])\n",
        "std_dev = np.std(arr, axis=0)\n",
        "\n",
        "print(std_dev)"
      ],
      "metadata": {
        "id": "bz73pmDCbxwB"
      },
      "execution_count": null,
      "outputs": []
    },
    {
      "cell_type": "markdown",
      "source": [
        "**Example 4: Calculate the standard deviation of a random array using a specified seed.**"
      ],
      "metadata": {
        "id": "aEbczA55cB1B"
      }
    },
    {
      "cell_type": "code",
      "source": [
        "import numpy as np\n",
        "np.random.seed(42)\n",
        "arr = np.random.rand(5)\n",
        "print(\"original array:\",arr)\n",
        "print()\n",
        "std_dev = np.std(arr)\n",
        "\n",
        "print(std_dev)"
      ],
      "metadata": {
        "id": "_idIBmDvcJzV"
      },
      "execution_count": null,
      "outputs": []
    },
    {
      "cell_type": "markdown",
      "source": [
        "**Example 5: Calculate the standard deviation of a masked array.**"
      ],
      "metadata": {
        "id": "K7Un7s23dxkm"
      }
    },
    {
      "cell_type": "code",
      "source": [
        "import numpy as np\n",
        "\n",
        "arr = np.ma.array([1, 2, 3, 4, 5], mask=[True, False, True, False, False])\n",
        "print(\"original array:\",arr)\n",
        "print()\n",
        "std_dev = np.std(arr)\n",
        "\n",
        "print(std_dev)"
      ],
      "metadata": {
        "id": "BchGgTNrd1GU"
      },
      "execution_count": null,
      "outputs": []
    },
    {
      "cell_type": "markdown",
      "source": [
        "**Example 6: Calculate the standard deviation of complex numbers.**"
      ],
      "metadata": {
        "id": "Y8eGAPpYehaw"
      }
    },
    {
      "cell_type": "code",
      "source": [
        "import numpy as np\n",
        "\n",
        "arr = np.array([1+2j, 3+4j, 5+6j])\n",
        "std_dev = np.std(arr)\n",
        "\n",
        "print(std_dev)"
      ],
      "metadata": {
        "id": "r4UIf7rdek8x"
      },
      "execution_count": null,
      "outputs": []
    },
    {
      "cell_type": "markdown",
      "source": [
        "**Example 7: Calculate the standard deviation of a specified portion of an array.**"
      ],
      "metadata": {
        "id": "CiCelQdg1x2X"
      }
    },
    {
      "cell_type": "code",
      "source": [
        "import numpy as np\n",
        "arr = np.array([1, 2, 3, 4, 5])\n",
        "std_dev = np.std(arr[2:])\n",
        "\n",
        "print(std_dev)"
      ],
      "metadata": {
        "id": "fFTbaeva119J"
      },
      "execution_count": null,
      "outputs": []
    },
    {
      "cell_type": "markdown",
      "source": [
        "**Example 8: Calculate the standard deviation of an empty array.**"
      ],
      "metadata": {
        "id": "EjX0QtHf2cwp"
      }
    },
    {
      "cell_type": "code",
      "source": [
        "import numpy as np\n",
        "\n",
        "arr = np.array([])\n",
        "std_dev = np.std(arr)\n",
        "\n",
        "print(std_dev)"
      ],
      "metadata": {
        "id": "T6pxAWMK2cB_"
      },
      "execution_count": null,
      "outputs": []
    },
    {
      "cell_type": "markdown",
      "source": [
        "**Example 9: Calculate the standard deviation of a boolean array.**"
      ],
      "metadata": {
        "id": "VzfgYNJJ2qYW"
      }
    },
    {
      "cell_type": "code",
      "source": [
        "import numpy as np\n",
        "arr = np.array([True, False, True, False])\n",
        "std_dev = np.std(arr)\n",
        "print(std_dev)"
      ],
      "metadata": {
        "id": "BnZDlSwW2txG"
      },
      "execution_count": null,
      "outputs": []
    },
    {
      "cell_type": "markdown",
      "source": [
        "**Example 10: Calculate the standard deviation of a 3D array along the default axis (None).**"
      ],
      "metadata": {
        "id": "dO0vMelk3csu"
      }
    },
    {
      "cell_type": "code",
      "source": [
        "import numpy as np\n",
        "arr = np.array([[[1, 2], [3, 4]], [[5, 6], [7, 8]]])\n",
        "print(\" original array:\",arr)\n",
        "print()\n",
        "std_dev = np.std(arr)\n",
        "print(std_dev)"
      ],
      "metadata": {
        "id": "rDlaqZcd3h1H"
      },
      "execution_count": null,
      "outputs": []
    },
    {
      "cell_type": "markdown",
      "source": [
        "**Example 11: Calculate the standard deviation of a 3D array along axis 1**."
      ],
      "metadata": {
        "id": "ix3eqofe38pz"
      }
    },
    {
      "cell_type": "code",
      "source": [
        "import numpy as np\n",
        "arr = np.array([[[1, 2], [3, 4]], [[5, 6], [7, 8]]])\n",
        "std_dev = np.std(arr, axis=1)\n",
        "print(std_dev)"
      ],
      "metadata": {
        "id": "z0vICLA03_lb"
      },
      "execution_count": null,
      "outputs": []
    },
    {
      "cell_type": "markdown",
      "source": [
        "**Example 12: Calculate the standard deviation of a 3D array along axis 2.**"
      ],
      "metadata": {
        "id": "VJpWKnTZ4SQj"
      }
    },
    {
      "cell_type": "code",
      "source": [
        "import numpy as np\n",
        "arr = np.array([[[1, 2], [3, 4]], [[5, 6], [7, 8]]])\n",
        "std_dev = np.std(arr, axis=2)\n",
        "print(std_dev)"
      ],
      "metadata": {
        "id": "HohEWvld4aoS"
      },
      "execution_count": null,
      "outputs": []
    },
    {
      "cell_type": "markdown",
      "source": [
        "**Example 13: Calculate the standard deviation of a 3D array using a specified data type.**"
      ],
      "metadata": {
        "id": "jEiY3K6M4q5X"
      }
    },
    {
      "cell_type": "code",
      "source": [
        "import numpy as np\n",
        "arr = np.array([[[1, 2], [3, 4]], [[5, 6], [7, 8]]], dtype=np.float64)\n",
        "print(\" original array:\",arr)\n",
        "print()\n",
        "std_dev = np.std(arr)\n",
        "print(std_dev)"
      ],
      "metadata": {
        "id": "ad9ycTN84xL5"
      },
      "execution_count": null,
      "outputs": []
    },
    {
      "cell_type": "markdown",
      "source": [
        "**Example 14: Calculate the standard deviation of a 3D array with masked values.**"
      ],
      "metadata": {
        "id": "UTMnyUAM5P6t"
      }
    },
    {
      "cell_type": "code",
      "source": [
        "import numpy as np\n",
        "arr = np.ma.array([[[1, 2], [3, 4]], [[5, 6], [7, 8]]], mask=[[[False, True], [False, False]], [[False, False], [True, False]]])\n",
        "print(\" original array:\",arr)\n",
        "print()\n",
        "std_dev = np.std(arr)\n",
        "print(std_dev)"
      ],
      "metadata": {
        "id": "ojbAS6-S5TJa"
      },
      "execution_count": null,
      "outputs": []
    },
    {
      "cell_type": "markdown",
      "source": [
        "**Example 15: Calculate the standard deviation of a 3D array along multiple axes.**"
      ],
      "metadata": {
        "id": "qL4AUn4M5qzE"
      }
    },
    {
      "cell_type": "code",
      "source": [
        "import numpy as np\n",
        "arr = np.array([[[1, 2], [3, 4]], [[5, 6], [7, 8]]])\n",
        "print(\" original array:\",arr)\n",
        "print()\n",
        "std_dev = np.std(arr, axis=(0, 1))\n",
        "print(std_dev)"
      ],
      "metadata": {
        "id": "vWd9zB935wZn"
      },
      "execution_count": null,
      "outputs": []
    },
    {
      "cell_type": "markdown",
      "source": [
        "**Example 16: Calculate the standard deviation of a 3D array with a specific normalization.**"
      ],
      "metadata": {
        "id": "2OAsSXEH6Dqf"
      }
    },
    {
      "cell_type": "code",
      "source": [
        "import numpy as np\n",
        "arr = np.array([[[1, 2], [3, 4]], [[5, 6], [7, 8]]])\n",
        "std_dev = np.std(arr, ddof=1)\n",
        "print(std_dev)"
      ],
      "metadata": {
        "id": "nOoWRBzr6LJn"
      },
      "execution_count": null,
      "outputs": []
    },
    {
      "cell_type": "markdown",
      "source": [
        "**Type (04): numpy.var() function**\n",
        "\n",
        "The numpy.var() function in the NumPy library is used to calculate the variance of a given array or a specific axis of the array. Variance is a statistical measure that describes the spread or dispersion of a set of values.\n",
        "\n",
        "**The formula to calculate the variance is as follows:**\n",
        "\n",
        "variance = sum((x - mean) ** 2) / N\n",
        "\n",
        "where:\n",
        "\n",
        "**x,** represents each element of the array\n",
        "\n",
        "**mean,** is the mean (average) of the array\n",
        "\n",
        "**N,** is the number of elements in the array\n",
        "\n",
        "**In other words,** the variance is the average of the squared differences between each element in the array and the mean, divided by the total number of elements.\n",
        "\n",
        "**The numpy.var(),** function allows you to calculate the variance along a specific axis of a multi-dimensional array. By default, if no axis is specified, the variance is calculated for the flattened array.\n",
        "\n"
      ],
      "metadata": {
        "id": "cvYeNK2Y-6U1"
      }
    },
    {
      "cell_type": "markdown",
      "source": [
        "**Example 1: Calculate the variance of an array of integers.**"
      ],
      "metadata": {
        "id": "UpshTStIBxLY"
      }
    },
    {
      "cell_type": "code",
      "source": [
        "import numpy as np\n",
        "arr = np.array([1, 2, 3, 4, 5])\n",
        "variance = np.var(arr)\n",
        "\n",
        "print(variance)"
      ],
      "metadata": {
        "id": "G3Of8SbyCEWs"
      },
      "execution_count": null,
      "outputs": []
    },
    {
      "cell_type": "markdown",
      "source": [
        "**Example 2: Calculate the variance of a 2D array**."
      ],
      "metadata": {
        "id": "YaECrjB_vJLM"
      }
    },
    {
      "cell_type": "code",
      "source": [
        "import numpy as np\n",
        "arr = np.array([[1, 2, 3], [4, 5, 6]])\n",
        "variance = np.var(arr)\n",
        "\n",
        "print(variance)"
      ],
      "metadata": {
        "id": "lSM3XE1EvWO3"
      },
      "execution_count": null,
      "outputs": []
    },
    {
      "cell_type": "markdown",
      "source": [
        "**Example 3: Calculate the standard deviation of a 2D array along a specified axis.**"
      ],
      "metadata": {
        "id": "aXTOOMv5vqPG"
      }
    },
    {
      "cell_type": "code",
      "source": [
        "import numpy as np\n",
        "arr = np.array([[1, 2, 3], [4, 5, 6]])\n",
        "variance = np.var(arr,axis=0)\n",
        "\n",
        "print(variance)"
      ],
      "metadata": {
        "id": "m1MNz6pPvyix"
      },
      "execution_count": null,
      "outputs": []
    },
    {
      "cell_type": "markdown",
      "source": [
        "**Example 4: Calculate the standard deviation of a masked array.**"
      ],
      "metadata": {
        "id": "DkmkdRRUwAP3"
      }
    },
    {
      "cell_type": "code",
      "source": [
        "import numpy as np\n",
        "\n",
        "arr = np.ma.array([1, 2, 3, 4, 5], mask=[True, False, True, False, False])\n",
        "print(\"original array:\",arr)\n",
        "print()\n",
        "variance = np.var(arr)\n",
        "\n",
        "print(variance)"
      ],
      "metadata": {
        "id": "A5sQ4VvAwonN"
      },
      "execution_count": null,
      "outputs": []
    },
    {
      "cell_type": "markdown",
      "source": [
        "**Example 5: Calculate the standard deviation of a specified portion of an array.**"
      ],
      "metadata": {
        "id": "zIHt_jaOxBrP"
      }
    },
    {
      "cell_type": "code",
      "source": [
        "import numpy as np\n",
        "arr = np.array([1, 2, 3, 4, 5])\n",
        "variance = np.var(arr[2:])\n",
        "\n",
        "print(variance)"
      ],
      "metadata": {
        "id": "v8WCh0EBx4dg"
      },
      "execution_count": null,
      "outputs": []
    },
    {
      "cell_type": "markdown",
      "source": [
        "**Example 6: Calculate the variance of a 3D array along the default axis (None).**"
      ],
      "metadata": {
        "id": "_vXfKWr-yj3t"
      }
    },
    {
      "cell_type": "code",
      "source": [
        "import numpy as np\n",
        "arr = np.array([[[1, 2], [3, 4]], [[5, 6], [7, 8]]])\n",
        "print(\" original array:\",arr)\n",
        "print()\n",
        "variance = np.var(arr)\n",
        "print(variance)"
      ],
      "metadata": {
        "id": "bxlbNObUyvhv"
      },
      "execution_count": null,
      "outputs": []
    },
    {
      "cell_type": "markdown",
      "source": [
        "**Example 7: Calculate the variance of a 3D array along axis 1.**"
      ],
      "metadata": {
        "id": "IEGuzxewy_na"
      }
    },
    {
      "cell_type": "code",
      "source": [
        "import numpy as np\n",
        "arr = np.array([[[1, 2], [3, 4]], [[5, 6], [7, 8]]])\n",
        "variance = np.var(arr, axis=1)\n",
        "print(variance)"
      ],
      "metadata": {
        "id": "n0ZIkytezMdq"
      },
      "execution_count": null,
      "outputs": []
    },
    {
      "cell_type": "markdown",
      "source": [
        "**Example 8: Calculate the standard deviation of a 3D array along axis 2.**"
      ],
      "metadata": {
        "id": "n6CkjbohzfRt"
      }
    },
    {
      "cell_type": "code",
      "source": [
        "import numpy as np\n",
        "arr = np.array([[[1, 2], [3, 4]], [[5, 6], [7, 8]]])\n",
        "variance = np.var(arr, axis=2)\n",
        "print(variance)"
      ],
      "metadata": {
        "id": "PDkL8nYnzlNu"
      },
      "execution_count": null,
      "outputs": []
    },
    {
      "cell_type": "markdown",
      "source": [
        "**Example 9: Calculate the variance of a 3D array with masked values.**"
      ],
      "metadata": {
        "id": "uhi0LnEvz8k5"
      }
    },
    {
      "cell_type": "code",
      "source": [
        "import numpy as np\n",
        "arr = np.ma.array([[[1, 2], [3, 4]], [[5, 6], [7, 8]]], mask=[[[False, True], [False, False]], [[False, False], [True, False]]])\n",
        "print(\" original array:\",arr)\n",
        "print()\n",
        "variance = np.var(arr)\n",
        "print(variance)"
      ],
      "metadata": {
        "id": "1k6pOD700CqU"
      },
      "execution_count": null,
      "outputs": []
    },
    {
      "cell_type": "markdown",
      "source": [
        "**Example 10: Calculate the variance of a 3D array along multiple axes.**"
      ],
      "metadata": {
        "id": "FTEqGzvs0bmP"
      }
    },
    {
      "cell_type": "code",
      "source": [
        "import numpy as np\n",
        "arr = np.array([[[1, 2], [3, 4]], [[5, 6], [7, 8]]])\n",
        "print(\" original array:\",arr)\n",
        "print()\n",
        "variance = np.var(arr, axis=(0, 1))\n",
        "print(variance)"
      ],
      "metadata": {
        "id": "f1JjT9ij0ssx"
      },
      "execution_count": null,
      "outputs": []
    },
    {
      "cell_type": "markdown",
      "source": [
        "**Type(05).numpy.min() function**\n",
        "\n",
        "Certainly! The numpy.min() function is used to find the minimum value in a NumPy array. It returns the smallest element present in the array.\n",
        "\n",
        "**Here's the syntax of the numpy.min() function:**\n",
        "\n",
        "numpy.min(a, axis=None, keepdims=False, initial=None)\n",
        "\n",
        "Parameters:\n",
        "\n",
        "**a**: This is the input array from which you want to find the minimum value.\n",
        "\n",
        "**axis (optional):** This parameter specifies the axis along which the minimum values are computed. By default, it is None, which means the minimum value is calculated over the flattened array.\n",
        "\n",
        "**keepdims (optional):** This parameter determines whether the dimensions of the output should be the same as the input. If it is set to True, the dimensions are retained; otherwise, they are removed. By default, it is set to False.\n",
        "\n",
        "**initial (optional):** This parameter sets the initial value for the minimum. By default, it is set to None."
      ],
      "metadata": {
        "id": "Hn0rYBXceDEC"
      }
    },
    {
      "cell_type": "markdown",
      "source": [
        "**Example 1:Finding the minimum value in an array:**"
      ],
      "metadata": {
        "id": "nauQijU3fmbG"
      }
    },
    {
      "cell_type": "code",
      "source": [
        "import numpy as np\n",
        "arr = np.array([5, 2, 9, 1, 7])\n",
        "min_value = np.min(arr)\n",
        "print(\"Minimum value:\", min_value)"
      ],
      "metadata": {
        "id": "nA6Du7Lhc5AB"
      },
      "execution_count": null,
      "outputs": []
    },
    {
      "cell_type": "markdown",
      "source": [
        "**Example 2: Finding the minimum value along a specific axis in a multidimensional array:**"
      ],
      "metadata": {
        "id": "8Tk6x-0Tf_Ae"
      }
    },
    {
      "cell_type": "code",
      "source": [
        "import numpy as np\n",
        "arr = np.array([[5, 2, 9],[1, 7, 3]])\n",
        "print(\"Original array:\",arr)\n",
        "min_values = np.min(arr, axis=1)\n",
        "print(\"Minimum values along axis 1:\", min_values)\n",
        "print()\n",
        "min_values = np.min(arr, axis=0)\n",
        "print(\"Minimum values along axis 0:\", min_values)"
      ],
      "metadata": {
        "id": "oow6FJ7igHVp"
      },
      "execution_count": null,
      "outputs": []
    },
    {
      "cell_type": "markdown",
      "source": [
        "**Example 3: Finding the minimum value in a 2D array flattened to a 1D array:**"
      ],
      "metadata": {
        "id": "B2mtcmmvhOUj"
      }
    },
    {
      "cell_type": "code",
      "source": [
        "import numpy as np\n",
        "arr = np.array([[5, 2, 9], [1, 7, 3]])\n",
        "print(\"1D array:\",arr.flatten())\n",
        "print()\n",
        "min_value = np.min(arr.flatten())\n",
        "print(\"Minimum value (flattened array):\", min_value)"
      ],
      "metadata": {
        "id": "gaVWtctGhSvk"
      },
      "execution_count": null,
      "outputs": []
    },
    {
      "cell_type": "markdown",
      "source": [
        "**Example 4: Finding the minimum value element-wise between two arrays:**"
      ],
      "metadata": {
        "id": "EhccrRUiiD-9"
      }
    },
    {
      "cell_type": "code",
      "source": [
        "import numpy as np\n",
        "arr1 = np.array([5, 2, 9, 1, 7])\n",
        "arr2 = np.array([3, 6, 8, 2, 4])\n",
        "min_values = np.minimum(arr1, arr2)\n",
        "print(\"Minimum values (element-wise):\", min_values)"
      ],
      "metadata": {
        "id": "vPMZdkHIiLKw"
      },
      "execution_count": null,
      "outputs": []
    },
    {
      "cell_type": "markdown",
      "source": [
        "**Example 5: Finding the minimum value along a specific axis 1 in a 3D array:**"
      ],
      "metadata": {
        "id": "KyvFr4gljikP"
      }
    },
    {
      "cell_type": "code",
      "source": [
        "import numpy as np\n",
        "arr = np.array([[[5, 2, 9],  [1, 7, 3]], [[4, 6, 8], [3, 2, 1]]])\n",
        "print(arr)\n",
        "print()\n",
        "min_values = np.min(arr, axis=1)\n",
        "print(\"Minimum values along axis 1:\", min_values)"
      ],
      "metadata": {
        "id": "ifqllCONkKmb"
      },
      "execution_count": null,
      "outputs": []
    },
    {
      "cell_type": "markdown",
      "source": [
        "**Example 6: Finding the minimum value along a specific axis 0 in a 3D array:**"
      ],
      "metadata": {
        "id": "1z6mJdWqmEKz"
      }
    },
    {
      "cell_type": "code",
      "source": [
        "import numpy as np\n",
        "arr = np.array([[[5, 2, 9],  [1, 7, 3]], [[4, 6, 8], [3, 2, 1]]])\n",
        "print(arr)\n",
        "print()\n",
        "min_values = np.min(arr, axis=0)\n",
        "print(\"Minimum values along axis 0:\", min_values)"
      ],
      "metadata": {
        "id": "Rk_tLLYUmRJL"
      },
      "execution_count": null,
      "outputs": []
    },
    {
      "cell_type": "markdown",
      "source": [
        "**Type(06).numpy.max() function**\n",
        "\n",
        "The **numpy.max()** function is a part of the NumPy library, which is used for numerical computations in Python. It is specifically designed to find the maximum value in an array or along a specified axis.\n",
        "\n",
        "Here's a breakdown of how the numpy.max() function works:\n",
        "\n",
        "**Syntax:**\n",
        "\n",
        " numpy.max(array, axis=None, keepdims=False)\n",
        "\n",
        "Parameters:\n",
        "\n",
        "**array:** The input array or object to find the maximum value from.\n",
        "\n",
        "**axis (optional):** It specifies the axis along which the maximum value should be determined. If not provided, the maximum value of the flattened array will be returned.\n",
        "\n",
        "**keepdims (optional):** If set to True, the dimensions of the output will be the same as the input array, with the axis of the maximum value preserved. If set to False or not provided, the dimensions will be reduced."
      ],
      "metadata": {
        "id": "hEYC6q7_GGNx"
      }
    },
    {
      "cell_type": "markdown",
      "source": [
        "**Example 1:Finding the maximum value in an array:**"
      ],
      "metadata": {
        "id": "QZFNePfTH1Xm"
      }
    },
    {
      "cell_type": "code",
      "source": [
        "import numpy as np\n",
        "arr = np.array([5, 2, 9, 1, 7])\n",
        "max_value = np.max(arr)\n",
        "print(\"Minimum value:\", max_value)"
      ],
      "metadata": {
        "id": "vg72a4-9F0mF"
      },
      "execution_count": null,
      "outputs": []
    },
    {
      "cell_type": "markdown",
      "source": [
        "**Example 2: Finding the maximum value along a specific axis in a multidimensional array:**"
      ],
      "metadata": {
        "id": "GHY6e5YTISfk"
      }
    },
    {
      "cell_type": "code",
      "source": [
        "import numpy as np\n",
        "arr = np.array([[5, 2, 9],[1, 7, 3]])\n",
        "print(\"Original array:\",arr)\n",
        "max_values = np.max(arr, axis=1)\n",
        "print(\"Maximum values along axis 1:\", max_values)\n",
        "print()\n",
        "max_values = np.max(arr, axis=0)\n",
        "print(\"Maximum values along axis 0:\", max_values)"
      ],
      "metadata": {
        "id": "30ZmeNXrIWAw"
      },
      "execution_count": null,
      "outputs": []
    },
    {
      "cell_type": "markdown",
      "source": [
        "**Example 3: Finding the maximum value in a 2D array flattened to a 1D array:**"
      ],
      "metadata": {
        "id": "qmHSiERrIid9"
      }
    },
    {
      "cell_type": "code",
      "source": [
        "import numpy as np\n",
        "arr = np.array([[5, 2, 9], [1, 7, 3]])\n",
        "print(\"1D array:\",arr.flatten())\n",
        "print()\n",
        "max_value = np.max(arr.flatten())\n",
        "print(\"Maximum value (flattened array):\", max_value)"
      ],
      "metadata": {
        "id": "7xH6zfogIpdA"
      },
      "execution_count": null,
      "outputs": []
    },
    {
      "cell_type": "markdown",
      "source": [
        "**Example 4: Finding the maximum value element-wise between two arrays:**"
      ],
      "metadata": {
        "id": "Anol2zk1IwnA"
      }
    },
    {
      "cell_type": "code",
      "source": [
        "import numpy as np\n",
        "arr1 = np.array([5, 2, 9, 1, 7])\n",
        "arr2 = np.array([3, 6, 8, 2, 4])\n",
        "max_values = np.maximum(arr1, arr2)\n",
        "print(\"Maximum values (element-wise):\", max_values)"
      ],
      "metadata": {
        "id": "xXd95xGxIzps"
      },
      "execution_count": null,
      "outputs": []
    },
    {
      "cell_type": "markdown",
      "source": [
        "**Example 5: Finding the maximum value along a specific axis 1 in a 3D array:**"
      ],
      "metadata": {
        "id": "6_Y3zpDTI_9M"
      }
    },
    {
      "cell_type": "code",
      "source": [
        "import numpy as np\n",
        "arr = np.array([[[5, 2, 9],  [1, 7, 3]], [[4, 6, 8], [3, 2, 1]]])\n",
        "print(arr)\n",
        "print()\n",
        "max_values = np.max(arr, axis=1)\n",
        "print(\"Maximum values along axis 1:\", max_values)"
      ],
      "metadata": {
        "id": "Z42lONJzJEUI"
      },
      "execution_count": null,
      "outputs": []
    },
    {
      "cell_type": "markdown",
      "source": [
        "**Example 6: Finding the maximum value along a specific axis 0 in a 3D array:**"
      ],
      "metadata": {
        "id": "C6ECdf1dJQ8a"
      }
    },
    {
      "cell_type": "code",
      "source": [
        "import numpy as np\n",
        "arr = np.array([[[5, 2, 9],  [1, 7, 3]], [[4, 6, 8], [3, 2, 1]]])\n",
        "print(arr)\n",
        "print()\n",
        "max_values = np.max(arr, axis=0)\n",
        "print(\"Maximum values along axis 0:\", max_values)"
      ],
      "metadata": {
        "id": "Fn-EERUrJYoJ"
      },
      "execution_count": null,
      "outputs": []
    },
    {
      "cell_type": "markdown",
      "source": [
        "\n",
        "**Numpy. percentile() function**\n",
        "\n",
        "The **numpy.percentile()** function in the NumPy library is used to calculate the nth percentile of a given dataset along a specified axis. Percentiles are a way to divide a dataset into equal portions, where each portion represents a specific percentage of the data. This function allows you to find the value below which a given percentage of the data falls.\n",
        "\n",
        "**The general syntax of the numpy.percentile() function is as follows:**\n",
        "\n",
        "numpy.percentile(a, q, axis=None, interpolation='linear')\n",
        "\n",
        "\n",
        "**Here's an explanation of the function's parameters:**\n",
        "\n",
        "**a:** This parameter represents the input array or object containing the dataset from which the percentile is calculated.\n",
        "\n",
        "**q:** This parameter specifies the percentile value(s) to compute. It can be a single value or an array-like object containing multiple percentiles.\n",
        "\n",
        "**axis:** This optional parameter indicates the axis along which the percentiles are computed. By default, the percentile is calculated over the flattened array.\n",
        "\n",
        "**interpolation:** This optional parameter specifies the interpolation method to be used if the desired percentile lies between two data points. It can take values like 'linear', 'lower', 'higher', 'midpoint', or 'nearest'. The default value is 'linear'.\n",
        "To calculate the percentile using the numpy.percentile() function, the following formula is used:\n",
        "\n",
        "Sort the dataset in ascending order.\n",
        "\n",
        "**Calculate the rank of the percentile using the formula:**\n",
        "\n",
        "rank = (percentile / 100) * (N - 1) + 1,\n",
        "\n",
        "where N is the total number of data points.\n",
        "\n",
        "Determine the interpolation method if the rank is not an integer.\n",
        "\n",
        "If the rank is an integer, the percentile value is the corresponding data point in the sorted dataset.\n",
        "\n",
        "If the rank is not an integer, interpolate the percentile value based on the chosen interpolation method and the surrounding data points.\n",
        "\n",
        "The **numpy.percentile()** function efficiently performs these calculations for you, allowing you to easily compute percentiles in NumPy arrays."
      ],
      "metadata": {
        "id": "Dx6mElpdm8Fo"
      }
    },
    {
      "cell_type": "markdown",
      "source": [
        "**Example 1: Calculating the 50th percentile (median) of an array:**"
      ],
      "metadata": {
        "id": "IrV8qkh77BJ6"
      }
    },
    {
      "cell_type": "code",
      "source": [
        "import numpy as np\n",
        "data = np.array([1, 2, 3, 4, 5])\n",
        "median = np.percentile(data, 3)\n",
        "print(median)"
      ],
      "metadata": {
        "id": "7e5oIxRt7OEy"
      },
      "execution_count": null,
      "outputs": []
    },
    {
      "cell_type": "markdown",
      "source": [
        "**Example 02**"
      ],
      "metadata": {
        "id": "3lazQvqGbP6n"
      }
    },
    {
      "cell_type": "code",
      "source": [
        "import numpy as np\n",
        "data = np.array([3, 7, 11, 14, 18, 19, 21, 24, 31, 34, 36 ])\n",
        "percentile_value = np.percentile(data, 35)\n",
        "print(\"The 65th percentile of the dataset is:\", percentile_value)\n"
      ],
      "metadata": {
        "id": "_SDXl4AR07wh"
      },
      "execution_count": null,
      "outputs": []
    },
    {
      "cell_type": "markdown",
      "source": [
        "**Example 03: Calculating the 90th percentile of a 2D array along an axis:**"
      ],
      "metadata": {
        "id": "NppD-og8bcf2"
      }
    },
    {
      "cell_type": "code",
      "source": [
        "import numpy as np\n",
        "arr = np.array([[1, 2, 3], [4, 5, 6]])\n",
        "percentile_90 = np.percentile(arr, 90, axis=1)\n",
        "print(percentile_90)"
      ],
      "metadata": {
        "id": "OOEtbxV5bkqt"
      },
      "execution_count": null,
      "outputs": []
    },
    {
      "cell_type": "markdown",
      "source": [
        "**Example 04**"
      ],
      "metadata": {
        "id": "fXwSaYVBbsPR"
      }
    },
    {
      "cell_type": "code",
      "source": [
        "import numpy as np\n",
        "\n",
        "data = np.array([3, 7, 11, 14, 18, 19, 21, 24, 31, 34, 36])\n",
        "percentile_value = np.percentile(data, 35)\n",
        "\n",
        "print(\"The 35th percentile of the data is:\", percentile_value)\n"
      ],
      "metadata": {
        "id": "okuKhtpAvjZD"
      },
      "execution_count": null,
      "outputs": []
    },
    {
      "cell_type": "markdown",
      "source": [
        "**Example 05: Calculating multiple percentiles simultaneously:**"
      ],
      "metadata": {
        "id": "cM04XjNvcTnR"
      }
    },
    {
      "cell_type": "code",
      "source": [
        "arr = np.array([1, 2, 3, 4, 5])\n",
        "percentiles = np.percentile(arr, [25, 50, 75])\n",
        "print(percentiles)\n"
      ],
      "metadata": {
        "id": "LtS21onxcbPY"
      },
      "execution_count": null,
      "outputs": []
    },
    {
      "cell_type": "markdown",
      "source": [
        "**Example 06:Computing the 95th percentile of a 3D array along multiple axes:**"
      ],
      "metadata": {
        "id": "hn3txUvqcnD3"
      }
    },
    {
      "cell_type": "code",
      "source": [
        "arr = np.array([[[1, 2], [3, 4]], [[5, 6], [7, 8]]])\n",
        "percentile_95 = np.percentile(arr, 95, axis=(0, 2))\n",
        "print(percentile_95)\n"
      ],
      "metadata": {
        "id": "Ct0lEDVdcqfv"
      },
      "execution_count": null,
      "outputs": []
    },
    {
      "cell_type": "markdown",
      "source": [
        "**Type 8:Numpy.histogram() Function**\n",
        "\n",
        "The NumPy library provides a function called **numpy.histogram()** that allows you to compute the histogram of a dataset. The histogram is a graphical representation of the distribution of data, which shows the frequencies of different values or value ranges within the dataset.\n",
        "\n",
        "Here's an explanation of the **numpy.histogram()** function:\n",
        "\n",
        "**Syntax:**\n",
        "\n",
        "numpy.histogram(data, bins=None, range=None, density=False, weights=None)\n",
        "\n",
        "**Parameters:**\n",
        "\n",
        "**data:** This parameter represents the input array or sequence of data values.\n",
        "\n",
        "**bins:** It specifies the number of equal-width bins to use in the histogram.\n",
        "This can be an integer representing the number of bins, or a sequence defining the bin edges.\n",
        "\n",
        "**range:** It defines the lower and upper range of the bins. If not provided, the range is determined by the minimum and maximum values of the data.\n",
        "\n",
        "**density:** If set to True, the histogram is normalized to form a probability density. If set to False (default), the count of data points in each bin is returned.\n",
        "\n",
        "**weights:** This parameter is an optional array of weights for each data point.\n",
        "Return values:\n",
        "\n",
        "**hist:** This represents the histogram values, i.e., the count of data points in each bin.\n",
        "\n",
        "**bin_edges:** The bin edges (length of hist + 1) that define the bin intervals.\n",
        "\n",
        "The **numpy.histogram()** function calculates the histogram of the input data and returns the histogram values and bin edges. You can use these values to visualize and analyze the distribution of your dataset."
      ],
      "metadata": {
        "id": "vUuKjqxf1e_r"
      }
    },
    {
      "cell_type": "markdown",
      "source": [
        "**Example 01: Creating a histogram with default settings:**"
      ],
      "metadata": {
        "id": "JlT91k01dWJb"
      }
    },
    {
      "cell_type": "code",
      "source": [
        "import numpy as np\n",
        "data = np.array([1, 2, 3, 1, 2, 4, 5, 3, 2, 4])\n",
        "hist, bins = np.histogram(data)\n",
        "print(hist)\n",
        "print(bins)"
      ],
      "metadata": {
        "id": "oh1hSLSTdb4m"
      },
      "execution_count": null,
      "outputs": []
    },
    {
      "cell_type": "markdown",
      "source": [
        "**Example 02: Specifying the number of bins for the histogram:**"
      ],
      "metadata": {
        "id": "MjUmzeHTdqYn"
      }
    },
    {
      "cell_type": "code",
      "source": [
        "data = np.array([1, 2, 3, 1, 2, 4, 5, 3, 2, 4])\n",
        "hist, bins = np.histogram(data,bins=3)\n",
        "print(hist)\n",
        "print(bins)\n"
      ],
      "metadata": {
        "id": "SbmmfRMwd4uR"
      },
      "execution_count": null,
      "outputs": []
    },
    {
      "cell_type": "markdown",
      "source": [
        "**Example 03: Setting custom bin boundaries for the histogram:**"
      ],
      "metadata": {
        "id": "I0bZbMNMhQPd"
      }
    },
    {
      "cell_type": "code",
      "source": [
        "data = np.array([1, 2, 3, 1, 2, 4, 5, 3, 2, 4])\n",
        "hist, bins = np.histogram(data, bins=[0, 2, 4, 6])\n",
        "print(hist)\n",
        "print(bins)\n"
      ],
      "metadata": {
        "id": "8GenGLNuhVVo"
      },
      "execution_count": null,
      "outputs": []
    },
    {
      "cell_type": "markdown",
      "source": [
        "**Example 04**:"
      ],
      "metadata": {
        "id": "scU-P_0ohcpm"
      }
    },
    {
      "cell_type": "code",
      "source": [
        " import numpy as np\n",
        " data = np.array([18, 20, 18, 25, 20, 30, 32, 35, 38, 40])\n",
        "hist, bin_edges = np.histogram(data)\n",
        "print(\"Histogram values:\",hist)\n",
        "print(\"Bin Edges:\", bin_edges)\n",
        "print(\"Counts:\", hist)\n"
      ],
      "metadata": {
        "id": "EkQk8qtJVuwc"
      },
      "execution_count": null,
      "outputs": []
    },
    {
      "cell_type": "code",
      "source": [
        "import numpy as np\n",
        "data = np.array([1, 2, 2, 3, 3, 3, 4, 4, 5])\n",
        "hist = np.histogram(data)\n",
        "print(\"Histogram values:\", hist)\n"
      ],
      "metadata": {
        "id": "69JvnFWp6L5U"
      },
      "execution_count": null,
      "outputs": []
    },
    {
      "cell_type": "markdown",
      "source": [
        "**Example 05: Specifying the histogram range:**"
      ],
      "metadata": {
        "id": "2jbd2obwhozP"
      }
    },
    {
      "cell_type": "code",
      "source": [
        "data = np.array([1, 2, 3, 1, 2, 4, 5, 3, 2, 4])\n",
        "hist, bins = np.histogram(data, range=(1, 5))\n",
        "print(hist)\n",
        "print(bins)\n",
        "\n"
      ],
      "metadata": {
        "id": "eLRJF284htdz"
      },
      "execution_count": null,
      "outputs": []
    },
    {
      "cell_type": "markdown",
      "source": [
        "**Type 9:Numpy.Corrcoef() Function**\n",
        "\n",
        "The numpy.corrcoef() function is a NumPy method used to compute the correlation coefficient between two or more variables in a dataset. It takes a dataset as input and returns a correlation matrix, which shows the pairwise correlations between the variables.\n",
        "\n",
        "The function expects the dataset to be arranged such that each row represents an observation, and each column represents a variable. By calling numpy.corrcoef(data), where data is the dataset, the function calculates the correlation matrix.\n",
        "\n",
        "The resulting correlation matrix is a square matrix where the diagonal elements are always 1, as a variable is perfectly correlated with itself. The off-diagonal elements represent the pairwise correlations between different variables. The correlation coefficients range from -1 to +1, indicating the strength and direction of the relationship between variables.\n",
        "\n",
        "The numpy.corrcoef() function is commonly used in data analysis and statistical computations to understand the dependencies and relationships between variables. It provides valuable insights into the patterns and associations within a dataset, aiding in decision-making and further analysis tasks such as feature selection, regression modeling, and data visualization.\n",
        "\n",
        "Corelation    Positive       Negative\n",
        " Strength\n",
        "\n",
        "Perfect   r=0.9 to 1    r=-0.9 to -1\n",
        "Strong    r=0.5 to 0.9  r=-0.5 to-0.9\n",
        "Weak      r=0.1 to 0.5  r=-0.1 to-0.5\n"
      ],
      "metadata": {
        "id": "REWC5TDYrJzM"
      }
    },
    {
      "cell_type": "markdown",
      "source": [
        "**Example 01:**"
      ],
      "metadata": {
        "id": "Id8KOKZBHkcR"
      }
    },
    {
      "cell_type": "code",
      "source": [
        "import numpy as np\n",
        "\n",
        "x = np.array([1, 2, 3, 4, 5])\n",
        "y = np.array([5, 4, 3, 2, 1])\n",
        "print(x)\n",
        "\n",
        "# Compute correlation coefficient\n",
        "corr_matrix = np.corrcoef(x, y)\n",
        "print(corr_matrix)\n",
        "print()\n",
        "# Accessing the correlation coefficient between x and y\n",
        "correlation_coefficient = corr_matrix[0, 1]\n",
        "print(\"Correlation coefficient between x and y:\", correlation_coefficient)"
      ],
      "metadata": {
        "id": "-cKvPWpXtoOF"
      },
      "execution_count": null,
      "outputs": []
    },
    {
      "cell_type": "markdown",
      "source": [
        "**Example 02**"
      ],
      "metadata": {
        "id": "avSHlRo_H636"
      }
    },
    {
      "cell_type": "code",
      "source": [
        "import numpy as np\n",
        "x = np.array([1, 2, 3, 4, 5])\n",
        "y = np.array([6, 7, 8, 9, 10])\n",
        "correlation_matrix = np.corrcoef(x, y)\n",
        "print(correlation_matrix)\n",
        "print()\n",
        "# Accessing the correlation coefficient between x and y\n",
        "correlation_coefficient = correlation_matrix[0, 1]\n",
        "print(\"Correlation coefficient between x and y:\", correlation_coefficient)"
      ],
      "metadata": {
        "id": "wBLl4OcSudte"
      },
      "execution_count": null,
      "outputs": []
    },
    {
      "cell_type": "markdown",
      "source": [
        "**Example 03**"
      ],
      "metadata": {
        "id": "2sktHPFvJvLg"
      }
    },
    {
      "cell_type": "code",
      "source": [
        "x = np.array([1, 2, 3, 4, 5])\n",
        "y = np.array([5, 4, 3, 2, 1])\n",
        "z = np.array([7,8,9,10,11])\n",
        "# Compute correlation coefficient\n",
        "corr_matrix = np.corrcoef([x, y, z])\n",
        "print(corr_matrix)\n",
        "print()\n",
        "# Accessing the correlation coefficient between x and y\n",
        "correlation_coefficient = correlation_matrix[0, 1]\n",
        "print(\"Correlation coefficient between x and y:\", correlation_coefficient)"
      ],
      "metadata": {
        "id": "kBap1_PswjYn"
      },
      "execution_count": null,
      "outputs": []
    },
    {
      "cell_type": "markdown",
      "source": [
        "**Example 04**"
      ],
      "metadata": {
        "id": "zdy-7A1aNe37"
      }
    },
    {
      "cell_type": "code",
      "source": [
        "import numpy as np\n",
        "data = np.random.randn(5, 5)\n",
        "print(data)\n",
        "print()\n",
        "correlation_matrix = np.corrcoef(data, rowvar=False)\n",
        "print(correlation_matrix)"
      ],
      "metadata": {
        "id": "B9KUq9ePNkql"
      },
      "execution_count": null,
      "outputs": []
    },
    {
      "cell_type": "markdown",
      "source": [
        "**Type 10.numpy.ptp() function**"
      ],
      "metadata": {
        "id": "WMs_Uq6fyedm"
      }
    },
    {
      "cell_type": "markdown",
      "source": [
        "**Example 1: Calculating the range of values in a 1D array:**"
      ],
      "metadata": {
        "id": "WwDlC4Nuy9GJ"
      }
    },
    {
      "cell_type": "code",
      "source": [
        "import numpy as np\n",
        "\n",
        "# Define a 1D array\n",
        "arr = np.array([3, 7, 1, 9, 5])\n",
        "# Calculate the range using numpy.ptp()\n",
        "range_of_values = np.ptp(arr)\n",
        "# Print the range\n",
        "print(\"Range of values:\", range_of_values)\n"
      ],
      "metadata": {
        "id": "x_0MkbQWzCOR"
      },
      "execution_count": null,
      "outputs": []
    },
    {
      "cell_type": "markdown",
      "source": [
        "**Explanation:**\n",
        "\n",
        "\n",
        "In this example, the array arr contains the values [3, 7, 1, 9, 5]. The numpy.ptp() function calculates the range of these values, which is the difference between the maximum value (9) and the minimum value (1), resulting in a range of 8."
      ],
      "metadata": {
        "id": "1xyqySnLzRrR"
      }
    },
    {
      "cell_type": "markdown",
      "source": [
        "**Example 2: Calculating the range of values in a 2D array:**"
      ],
      "metadata": {
        "id": "RvwHPkm1ztwI"
      }
    },
    {
      "cell_type": "code",
      "source": [
        "import numpy as np\n",
        "\n",
        "# Define a 2D array\n",
        "arr = np.array([[1, 5, 3], [2, 9, 7],[4, 6, 8]])\n",
        "range_of_values = np.ptp(arr)\n",
        "# Print the range\n",
        "print(\"Range of values:\", range_of_values)"
      ],
      "metadata": {
        "id": "r_ePqqtGzyI9"
      },
      "execution_count": null,
      "outputs": []
    },
    {
      "cell_type": "markdown",
      "source": [
        "**Example 3: Calculating the range of values in a 2D array along a specified axis:**"
      ],
      "metadata": {
        "id": "88TuFmvf0Sxh"
      }
    },
    {
      "cell_type": "code",
      "source": [
        "import numpy as np\n",
        "\n",
        "# Define a 2D array\n",
        "arr = np.array([[1, 5, 3],[2, 9, 7],[4, 6, 8]])\n",
        "print(arr)\n",
        "print()\n",
        "# Calculate the range along axis 0 using numpy.ptp()\n",
        "range_of_values_axis_0 = np.ptp(arr, axis=0)\n",
        "# Calculate the range along axis 1 using numpy.ptp()\n",
        "range_of_values_axis_1 = np.ptp(arr, axis=1)\n",
        "# Print the ranges\n",
        "print(\"Range of values along axis 0:\", range_of_values_axis_0)\n",
        "print(\"Range of values along axis 1:\", range_of_values_axis_1)\n"
      ],
      "metadata": {
        "id": "iOzRVuje0YRN"
      },
      "execution_count": null,
      "outputs": []
    },
    {
      "cell_type": "markdown",
      "source": [
        "**Explanation:**\n",
        "\n",
        "In this example, the 2D array arr has dimensions 3x3. By specifying axis=0 in numpy.ptp(), it calculates the range of values along each column, resulting in an array [3, 4, 5]. Similarly, by specifying axis=1, it calculates the range of values along each row, resulting in an array [4, 7, 4]."
      ],
      "metadata": {
        "id": "v0Xmq19O1KOU"
      }
    },
    {
      "cell_type": "markdown",
      "source": [
        "**Type 11: The numpy.average() function:**"
      ],
      "metadata": {
        "id": "q3aQek2uJGS_"
      }
    },
    {
      "cell_type": "markdown",
      "source": [
        "**Example 1: Calculate the average of an array**"
      ],
      "metadata": {
        "id": "WWd4nG1cKwE1"
      }
    },
    {
      "cell_type": "code",
      "source": [
        "import numpy as np\n",
        "arr = np.array([1, 2, 3, 4, 5])\n",
        "average = np.average(arr)\n",
        "print(average)\n"
      ],
      "metadata": {
        "id": "u2giGNcpK5zx"
      },
      "execution_count": null,
      "outputs": []
    },
    {
      "cell_type": "markdown",
      "source": [
        "**Example 2: Calculate the average of a 2D array along a specific axis:**"
      ],
      "metadata": {
        "id": "vkcDCoQ0LFTM"
      }
    },
    {
      "cell_type": "code",
      "source": [
        "import numpy as np\n",
        "arr = np.array([[1, 2, 3], [4, 5, 6], [7, 8, 9]])\n",
        "print(arr)\n",
        "print()\n",
        "average = np.average(arr, axis=1)\n",
        "print(average)\n"
      ],
      "metadata": {
        "id": "_98xqcSnLKhx"
      },
      "execution_count": null,
      "outputs": []
    },
    {
      "cell_type": "markdown",
      "source": [
        "**Example 3: Calculate the weighted average of an array**"
      ],
      "metadata": {
        "id": "7f93T9YSLxH9"
      }
    },
    {
      "cell_type": "code",
      "source": [
        "import numpy as np\n",
        "arr = np.array([1, 2, 3, 4, 5])\n",
        "weights = np.array([0.1, 0.2, 0.3, 0.2, 0.2])\n",
        "weighted_average = np.average(arr, weights=weights)\n",
        "print(weighted_average)\n"
      ],
      "metadata": {
        "id": "ha2CHvJ5Lz-2"
      },
      "execution_count": null,
      "outputs": []
    }
  ]
}