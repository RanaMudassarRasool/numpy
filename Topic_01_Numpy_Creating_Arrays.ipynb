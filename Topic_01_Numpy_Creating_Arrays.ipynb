{
  "nbformat": 4,
  "nbformat_minor": 0,
  "metadata": {
    "colab": {
      "provenance": [],
      "include_colab_link": true
    },
    "kernelspec": {
      "name": "python3",
      "display_name": "Python 3"
    },
    "language_info": {
      "name": "python"
    },
    "accelerator": "TPU",
    "gpuClass": "standard"
  },
  "cells": [
    {
      "cell_type": "markdown",
      "metadata": {
        "id": "view-in-github",
        "colab_type": "text"
      },
      "source": [
        "<a href=\"https://colab.research.google.com/github/ranamaddy/numpy/blob/main/Topic_01_Numpy_Creating_Arrays.ipynb\" target=\"_parent\"><img src=\"https://colab.research.google.com/assets/colab-badge.svg\" alt=\"Open In Colab\"/></a>"
      ]
    },
    {
      "cell_type": "markdown",
      "source": [
        "# **Topic 01=Numpy Creating Arrays**\n",
        "\n",
        "\n",
        "NumPy is a powerful Python library used for scientific computing, and it provides a convenient way to create arrays of various types and dimensions. Here are some examples of how to create arrays in NumPy:\n",
        "\n",
        "# Creating a one-dimensional array:\n",
        "To create a one-dimensional array, you can use the numpy.array function and pass in a list of values. For example, to create an array of integers from 0 to 4, you can use the following code:\n",
        "\n",
        "import numpy as np\n",
        "\n",
        "arr = np.array([0, 1, 2, 3, 4])\n",
        "\n",
        "# Creating a two-dimensional array:\n",
        "To create a two-dimensional array, you can use the numpy.array function and pass in a list of lists. For example, to create a 2x3 array of integers, you can use the following code:\n",
        "\n",
        "import numpy as np\n",
        "\n",
        "arr = np.array([[0, 1, 2], [3, 4, 5]])\n",
        "\n",
        "# Creating a higher - dimensional Arrays\n",
        "\n",
        " Higher dimensional arrays are arrays that have more than one dimension or axis. In NumPy, higher dimensional arrays are used to represent multi-dimensional data, such as images, audio signals, and scientific data.\n",
        "\n",
        "A one-dimensional array in NumPy is similar to a list in Python, but a higher dimensional array can be thought of as a list of lists, where each element in the list is itself a list or array.\n",
        "\n",
        "For example, a two-dimensional array can be thought of as a matrix, where each row represents a set of values and each column represents a variable. Similarly, a three-dimensional array can be thought of as a cube, where each layer represents a set of values, and each row and column represents a variable.\n",
        "\n",
        "Higher dimensional arrays in NumPy are created using the numpy.array function, which takes a list of values as input and returns a new NumPy array with the same values. The shape of the array specifies the number of dimensions and the size of each dimension.\n",
        "\n",
        "NumPy also provides functions for creating arrays of zeros or ones with multiple dimensions, as well as for creating arrays with a specific data type and shape. These functions are useful when working with higher dimensional data, as they provide a convenient way to create arrays of the desired shape and data type.\n",
        "\n",
        "Overall, higher dimensional arrays are an essential tool for working with multi-dimensional data in NumPy, allowing you to represent and manipulate data in a more efficient and intuitive way.\n",
        "\n",
        "# Creating an array with a specific data type:\n",
        "\n",
        "In NumPy, you can create an array with a specific data type using the numpy.array function and the dtype parameter. The dtype parameter specifies the data type of the array, and it can be used to create arrays of integers, floating-point numbers, complex numbers, and other types.\n",
        "\n",
        "import numpy as np\n",
        "\n",
        "arr = np.array([0.0, 1.0, 2.0], dtype=np.float64)"
      ],
      "metadata": {
        "id": "7YUQ5YnMcuIn"
      }
    },
    {
      "cell_type": "markdown",
      "source": [
        "**(01)Creating a one-dimensional array:**\n",
        "\n",
        "\n",
        "\n",
        "\n",
        "\n",
        "\n",
        "\n"
      ],
      "metadata": {
        "id": "SUbfupOeCuy9"
      }
    },
    {
      "cell_type": "markdown",
      "source": [
        "**Example** "
      ],
      "metadata": {
        "id": "BRNMMenXD-hW"
      }
    },
    {
      "cell_type": "code",
      "source": [
        "import numpy as np\n",
        "a = np.array([0, 1, 2, 3, 4])\n",
        "print(\"output:\",a)\n",
        "print()\n",
        "b=np.ndim(a)\n",
        "print(\"one dimension array:\",b)\n",
        "print()\n",
        "c = np.shape(a)\n",
        "print(\"Shape:\",c)"
      ],
      "metadata": {
        "colab": {
          "base_uri": "https://localhost:8080/"
        },
        "id": "WJVq8IvwD4je",
        "outputId": "60a72b0c-7ca6-4285-c7ea-06a4709baf8e"
      },
      "execution_count": null,
      "outputs": [
        {
          "output_type": "stream",
          "name": "stdout",
          "text": [
            "output: [0 1 2 3 4]\n",
            "\n",
            "one dimension array: 1\n",
            "\n",
            "Shape: (5,)\n"
          ]
        }
      ]
    },
    {
      "cell_type": "markdown",
      "source": [
        "**(02) Creating a two-dimensional array:**"
      ],
      "metadata": {
        "id": "QwtT4BiIE4dP"
      }
    },
    {
      "cell_type": "markdown",
      "source": [
        "**Example** "
      ],
      "metadata": {
        "id": "U2OZineCFNAp"
      }
    },
    {
      "cell_type": "code",
      "source": [
        "import numpy as np\n",
        "a = np.array([[0, 1, 2], [3, 4, 5]])\n",
        "print(\"output:\",a)\n",
        "print()\n",
        "b=np.ndim(a)\n",
        "print(\"one dimension array:\",b)\n",
        "print()\n",
        "c = np.shape(a)\n",
        "print(\"Shape:\",c)"
      ],
      "metadata": {
        "colab": {
          "base_uri": "https://localhost:8080/"
        },
        "id": "KFcCkYDEFKkb",
        "outputId": "adba31a0-a7a5-4266-84f3-501fd06fe165"
      },
      "execution_count": null,
      "outputs": [
        {
          "output_type": "stream",
          "name": "stdout",
          "text": [
            "output: [[0 1 2]\n",
            " [3 4 5]]\n",
            "\n",
            "one dimension array: 2\n",
            "\n",
            "Shape: (2, 3)\n"
          ]
        }
      ]
    },
    {
      "cell_type": "markdown",
      "source": [
        "The code you provided is written in the Python programming language using the NumPy library. It creates a two-dimensional array named \"a\" using the NumPy array function and initializes it with the values 0, 1, 2, 3, 4, and 5.\n",
        "\n",
        "The code then prints the contents of the \"a\" array using the print function.\n",
        "\n",
        "Next, the code uses the NumPy ndim function to determine the number of dimensions in the \"a\" array and stores the result in a variable named \"b\".\n",
        "\n",
        "After that, the code uses the NumPy shape function to determine the shape of the \"a\" array (i.e., the number of rows and columns) and stores the result in a variable named \"c\".\n",
        "\n",
        "Finally, the code prints the values of the \"b\" and \"c\" variables using the print function."
      ],
      "metadata": {
        "id": "iFAYzr1mpGTc"
      }
    },
    {
      "cell_type": "markdown",
      "source": [
        "**(03) Creating a three-dimensional array:**"
      ],
      "metadata": {
        "id": "1bLPD0l3pQ7a"
      }
    },
    {
      "cell_type": "markdown",
      "source": [
        "**Example**"
      ],
      "metadata": {
        "id": "u1mqGc9lpV9x"
      }
    },
    {
      "cell_type": "code",
      "source": [
        "import numpy as np\n",
        "a = np.array([[[0, 1, 2], [3, 4, 5]],[[0, 1, 2], [3, 4, 5]]])\n",
        "print(\"output:\",a)\n",
        "print()\n",
        "b=np.ndim(a)\n",
        "print(\"one dimension array:\",b)\n",
        "print()\n",
        "c = np.shape(a)\n",
        "print(\"Shape:\",c)"
      ],
      "metadata": {
        "colab": {
          "base_uri": "https://localhost:8080/"
        },
        "id": "wILmimDipZF7",
        "outputId": "22b577bf-5e52-4e9b-d250-4fc1740ac920"
      },
      "execution_count": null,
      "outputs": [
        {
          "output_type": "stream",
          "name": "stdout",
          "text": [
            "output: [[[0 1 2]\n",
            "  [3 4 5]]\n",
            "\n",
            " [[0 1 2]\n",
            "  [3 4 5]]]\n",
            "\n",
            "one dimension array: 3\n",
            "\n",
            "Shape: (2, 2, 3)\n"
          ]
        }
      ]
    },
    {
      "cell_type": "markdown",
      "source": [
        "The code you provided is written in the Python programming language using the NumPy library. It creates a three-dimensional array named \"a\" using the NumPy array function and initializes it with the values 0, 1, 2, 3, 4, and 5.\n",
        "\n",
        "The code then prints the contents of the \"a\" array using the print function.\n",
        "\n",
        "Next, the code uses the NumPy ndim function to determine the number of dimensions in the \"a\" array and stores the result in a variable named \"b\".\n",
        "\n",
        "After that, the code uses the NumPy shape function to determine the shape of the \"a\" array (i.e., the number of elements along each dimension) and stores the result in a variable named \"c\".\n",
        "\n",
        "Finally, the code prints the values of the \"b\" and \"c\" variables using the print function.\n",
        "\n",
        "\n",
        "\n",
        "\n",
        "\n"
      ],
      "metadata": {
        "id": "B-ajmH5KqGNz"
      }
    },
    {
      "cell_type": "markdown",
      "source": [
        "**(04) Creating a higher-dimensional array**"
      ],
      "metadata": {
        "id": "J9I_yAlAI4SD"
      }
    },
    {
      "cell_type": "markdown",
      "source": [
        "**Example**"
      ],
      "metadata": {
        "id": "sOEu8mIEJv9l"
      }
    },
    {
      "cell_type": "code",
      "source": [
        "import numpy as np\n",
        "a = np.array([1,2,3,4,5,6,7,8],ndmin=5)\n",
        "print(a)"
      ],
      "metadata": {
        "colab": {
          "base_uri": "https://localhost:8080/"
        },
        "id": "niu8wdmvJHj3",
        "outputId": "40f7fad3-5924-45ad-f9ff-d8dddbdae273"
      },
      "execution_count": null,
      "outputs": [
        {
          "output_type": "stream",
          "name": "stdout",
          "text": [
            "[[[[[1 2 3 4 5 6 7 8]]]]]\n"
          ]
        }
      ]
    },
    {
      "cell_type": "markdown",
      "source": [
        "The code you provided creates a NumPy array called a with the values 1, 2, 3, 4, 5, 6, 7, and 8, and with five dimensions.\n",
        "\n",
        "The np.array function is used to create a new array object in NumPy. In this case, the list [1, 2, 3, 4, 5, 6, 7, 8] is passed as input to the np.array function, creating a new NumPy array that contains these values. The ndmin parameter is set to 5, which means that the array should have at least five dimensions.\n",
        "\n",
        "Since the input list contains only one set of values, NumPy adds extra dimensions with size 1 to meet the requirement of at least five dimensions. Therefore, the resulting array has five dimensions with shape (1, 1, 1, 2, 1).\n",
        "\n",
        "The print function is then used to display the contents of the a array in the console. The output of the code should be:\n",
        "\n",
        "\n",
        "[[[[[1],\n",
        "     [2],\n",
        "     [3],\n",
        "     [4],\n",
        "     [5],\n",
        "     [6],\n",
        "     [7],\n",
        "     [8]]]]]\n",
        "This shows the contents of the a array, which consists of the values 1, 2, 3, 4, 5, 6, 7, and 8 arranged in a five-dimensional structure with shape (1, 1, 1, 2, 1)."
      ],
      "metadata": {
        "id": "85jroKIjJk4C"
      }
    },
    {
      "cell_type": "markdown",
      "source": [],
      "metadata": {
        "id": "6Q8Q4_n_LbmR"
      }
    },
    {
      "cell_type": "markdown",
      "source": [
        "**(05) Creating an array with a specific data type:**"
      ],
      "metadata": {
        "id": "adtE5cs_LhXy"
      }
    },
    {
      "cell_type": "markdown",
      "source": [
        "**Example 01**"
      ],
      "metadata": {
        "id": "1aME3-X-Nnz0"
      }
    },
    {
      "cell_type": "code",
      "source": [
        "import numpy as np\n",
        "a = np.array([0.0, 1.5, 2.0], dtype=np.float64)\n",
        "print(a)"
      ],
      "metadata": {
        "colab": {
          "base_uri": "https://localhost:8080/"
        },
        "id": "sw1hh1nCLldb",
        "outputId": "78e23e50-8b94-4998-a695-9ee5d0e23ff6"
      },
      "execution_count": null,
      "outputs": [
        {
          "output_type": "stream",
          "name": "stdout",
          "text": [
            "[0.  1.5 2. ]\n"
          ]
        }
      ]
    },
    {
      "cell_type": "markdown",
      "source": [
        "Sure! This code creates a NumPy array called a with the values 0.0, 1.5, and 2.0, and with the data type np.float64, which specifies that the array should contain 64-bit floating-point numbers.\n",
        "\n",
        " \n",
        "\n",
        "*  The first line imports the NumPy library and assigns the name np to it, which\n",
        "is a common convention.\n",
        "\n",
        "*   The second line creates a NumPy array called a with the values 0.0, 1.5, and 2.0, and with the data type np.float64.\n",
        "\n",
        "*   The third line prints the contents of the **a;** array to the console.\n",
        "\n",
        "\n",
        "\n",
        "\n",
        "\n",
        "\n",
        "\n",
        "\n",
        "\n",
        "\n",
        "\n",
        "\n"
      ],
      "metadata": {
        "id": "8v_W1-fDMPZ1"
      }
    },
    {
      "cell_type": "markdown",
      "source": [
        "**Example 02**"
      ],
      "metadata": {
        "id": "BS7gE36cNuCN"
      }
    },
    {
      "cell_type": "code",
      "source": [
        "import numpy as np\n",
        "a = np.array([0.0, 1.5, 2.0], dtype=np.int64)\n",
        "print(a)"
      ],
      "metadata": {
        "colab": {
          "base_uri": "https://localhost:8080/"
        },
        "id": "3zLCCjNcNzea",
        "outputId": "042aa053-48ce-4e10-8f45-792a5fa95e78"
      },
      "execution_count": null,
      "outputs": [
        {
          "output_type": "stream",
          "name": "stdout",
          "text": [
            "[0 1 2]\n"
          ]
        }
      ]
    },
    {
      "cell_type": "markdown",
      "source": [
        "The code snippet you provided creates a NumPy array named \"a\" containing the values 0.0, 1.5, and 2.0. The data type of the array is explicitly set to int64 using the dtype parameter in the np.array() function. However, since the values in the array are not integers, the decimal parts will be truncated and the resulting array will contain only the integer parts of those values (0, 1, and 2). The print() function is then used to display the contents of the array on the screen."
      ],
      "metadata": {
        "id": "v63YgcJ_PNbK"
      }
    }
  ]
}