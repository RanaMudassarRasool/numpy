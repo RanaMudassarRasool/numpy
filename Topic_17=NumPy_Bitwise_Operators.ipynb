{
  "nbformat": 4,
  "nbformat_minor": 0,
  "metadata": {
    "colab": {
      "private_outputs": true,
      "provenance": [],
      "include_colab_link": true
    },
    "kernelspec": {
      "name": "python3",
      "display_name": "Python 3"
    },
    "language_info": {
      "name": "python"
    }
  },
  "cells": [
    {
      "cell_type": "markdown",
      "metadata": {
        "id": "view-in-github",
        "colab_type": "text"
      },
      "source": [
        "<a href=\"https://colab.research.google.com/github/ranamaddy/numpy/blob/main/Topic_17%3DNumPy_Bitwise_Operators.ipynb\" target=\"_parent\"><img src=\"https://colab.research.google.com/assets/colab-badge.svg\" alt=\"Open In Colab\"/></a>"
      ]
    },
    {
      "cell_type": "markdown",
      "source": [
        "# **Topic 18=NumPy Bitwise Operators**\n",
        "\n",
        "NumPy, which stands for Numerical Python, is a powerful library in Python that provides support for efficient numerical operations. One of the features of NumPy is its ability to perform bitwise operations on arrays.\n",
        "\n",
        "Bitwise operators are used to manipulate individual bits within binary representations of numbers. NumPy provides several bitwise operators that can be applied element-wise to arrays, allowing you to perform bitwise operations on each element of an array.\n",
        "\n",
        "Here are the bitwise operators provided by NumPy:\n",
        "\n",
        "1. Bitwise AND (&): Performs a bitwise AND operation on each corresponding pair of bits in the input arrays. The result is a new array with the corresponding bits set to 1 if both bits are 1, otherwise 0.\n",
        "\n",
        "2. Bitwise OR (|): Performs a bitwise OR operation on each corresponding pair of bits in the input arrays. The result is a new array with the corresponding bits set to 1 if at least one of the bits is 1, otherwise 0.\n",
        "\n",
        "3. Bitwise XOR (^): Performs a bitwise exclusive OR (XOR) operation on each corresponding pair of bits in the input arrays. The result is a new array with the corresponding bits set to 1 if the bits are different, otherwise 0.\n",
        "\n",
        "4. Bitwise NOT (~): Performs a bitwise NOT operation on each bit in the input array. The result is a new array with all the bits inverted, i.e., 1s become 0s and 0s become 1s.\n",
        "\n",
        "These operators work on the binary representation of the elements in the arrays. If the arrays have different shapes, they are broadcasted to match each other before the bitwise operation is applied."
      ],
      "metadata": {
        "id": "0Fsbs9gMca7A"
      }
    },
    {
      "cell_type": "markdown",
      "source": [
        "**Type 1:Bitwise AND (&)**\n",
        "\n",
        "The bitwise AND operator (&) is a fundamental operator in computer programming that performs a bitwise comparison between two numbers at the binary level. It compares the corresponding bits of two numbers and produces a new number in which each bit is set to 1 only if both corresponding bits in the original numbers are also 1. If any bit is 0 in either of the numbers, the resulting bit in the new number will be set to 0.\n",
        "\n",
        "The bitwise AND operation is commonly used in various applications, including:\n",
        "\n",
        "Bit manipulation: It allows you to extract or manipulate specific bits within a binary number by using bitwise masks.\n",
        "\n",
        "Boolean logic: It provides a way to perform logical operations at the binary level, where each bit represents a boolean value (0 for False and 1 for True).\n",
        "\n",
        "Data encoding: It can be used in bitwise encoding schemes, such as creating compact representations of data or implementing error detection algorithms.\n",
        "Masking and filtering: It enables selective filtering or masking of certain bits or bit patterns within a number.\n",
        "\n",
        "**AND Truth Table**\n",
        "\n",
        "The output of the AND result of the two bits is 1 if and only if both the bits are 1 otherwise it will be 0.\n",
        "\n",
        "A\tB\t  AND(A, B)\n",
        "0\t0\t   0\n",
        "0\t1\t   0\n",
        "1\t0\t   0\n",
        "1\t1\t   1\n",
        "\n"
      ],
      "metadata": {
        "id": "MBhHMINqfR_G"
      }
    },
    {
      "cell_type": "markdown",
      "source": [
        "**Example 01**"
      ],
      "metadata": {
        "id": "1IL5DLn-bhp1"
      }
    },
    {
      "cell_type": "code",
      "source": [
        "import numpy as np\n",
        "x = 10\n",
        "binary_repr = np.binary_repr(5)\n",
        "print(binary_repr)"
      ],
      "metadata": {
        "id": "bzzAFBeBFGoE"
      },
      "execution_count": null,
      "outputs": []
    },
    {
      "cell_type": "markdown",
      "source": [
        "**Example 02**"
      ],
      "metadata": {
        "id": "s8s1uOZcbm2R"
      }
    },
    {
      "cell_type": "code",
      "source": [
        "import numpy as np\n",
        "x = np.array([10, 15, 7])\n",
        "binary_repr = np.vectorize(np.binary_repr)(x)\n",
        "print(binary_repr)\n",
        "y = np.array([8,5,4])\n",
        "binary_repr = np.vectorize(np.binary_repr)(y)\n",
        "print(binary_repr)\n",
        "print()\n",
        "binary_repr = np.vectorize(np.binary_repr)(x&y)\n",
        "print(binary_repr)\n",
        "\n",
        "print(\"Bitwise-and of x and y: \",np.bitwise_and(x,y))"
      ],
      "metadata": {
        "id": "vyfcOtqLCFLm"
      },
      "execution_count": null,
      "outputs": []
    },
    {
      "cell_type": "markdown",
      "source": [
        "**Example 03**"
      ],
      "metadata": {
        "id": "dzC5HBbYbtAj"
      }
    },
    {
      "cell_type": "code",
      "source": [
        "import numpy as np\n",
        "x = np.array([10.5, 1.5, 7.6])\n",
        "integer_x = x.astype(int)\n",
        "print(\"Convert the array elements to integers:\",integer_x)\n",
        "binary_repr = np.vectorize(np.binary_repr)(integer_x)\n",
        "print(\"Binary representation of x:\",binary_repr)\n",
        "print()\n",
        "y = np.array([12.5, 11.5, 71.6])\n",
        "integer_y = y.astype(int)\n",
        "print(\"Convert the array elements to integers:\",integer_y)\n",
        "binary_repr = np.vectorize(np.binary_repr)(integer_y)\n",
        "print(\"Binary representation of y:\",binary_repr)\n",
        "print()\n",
        "binary_repr = np.vectorize(np.binary_repr)(integer_x&integer_y)\n",
        "print(\"Binary representation of integer_x and integer_y:\",binary_repr)\n",
        "print(\"Bitwise-and of integer_x and integer_y: \",np.bitwise_and(integer_x,integer_y))"
      ],
      "metadata": {
        "id": "lShSG24Ab1N9"
      },
      "execution_count": null,
      "outputs": []
    },
    {
      "cell_type": "markdown",
      "source": [
        "**Type 2: Bitwise OR (|)**\n",
        "\n",
        " **OR Truth Table**\n",
        "\n",
        "| Input A | Input B | Output |\n",
        "|---------|---------|--------|\n",
        "|   0     |   0     |   0    |\n",
        "|   0     |   1     |   1    |\n",
        "|   1     |   0     |   1    |\n",
        "|   1     |   1     |   1    |"
      ],
      "metadata": {
        "id": "WqtHi6_POOK1"
      }
    },
    {
      "cell_type": "markdown",
      "source": [
        "**Example 01**"
      ],
      "metadata": {
        "id": "bhfYC6nAOSR9"
      }
    },
    {
      "cell_type": "code",
      "source": [
        "import numpy as np\n",
        "x = np.array([10, 15, 7])\n",
        "binary_repr = np.vectorize(np.binary_repr)(x)\n",
        "print(binary_repr)\n",
        "y = np.array([8,5,4])\n",
        "binary_repr = np.vectorize(np.binary_repr)(y)\n",
        "print(binary_repr)\n",
        "print()\n",
        "binary_repr = np.vectorize(np.binary_repr)(x|y)\n",
        "print(binary_repr)\n",
        "\n",
        "print(\"Bitwise-and of x or y: \",np.bitwise_or(x,y))"
      ],
      "metadata": {
        "id": "lFR8XidwOWlH"
      },
      "execution_count": null,
      "outputs": []
    },
    {
      "cell_type": "markdown",
      "source": [
        "**Example 02**"
      ],
      "metadata": {
        "id": "XvLthYwfRGbt"
      }
    },
    {
      "cell_type": "code",
      "source": [
        "import numpy as np\n",
        "x = np.array([10.5, 1.5, 7.6])\n",
        "integer_x = x.astype(int)\n",
        "print(\"Convert the array elements to integers:\",integer_x)\n",
        "binary_repr = np.vectorize(np.binary_repr)(integer_x)\n",
        "print(\"Binary representation of x:\",binary_repr)\n",
        "print()\n",
        "y = np.array([12.5, 11.5, 71.6])\n",
        "integer_y = y.astype(int)\n",
        "print(\"Convert the array elements to integers:\",integer_y)\n",
        "binary_repr = np.vectorize(np.binary_repr)(integer_y)\n",
        "print(\"Binary representation of y:\",binary_repr)\n",
        "print()\n",
        "binary_repr = np.vectorize(np.binary_repr)(integer_x|integer_y)\n",
        "print(\"Binary representation of integer_x or integer_y:\",binary_repr)\n",
        "print(\"Bitwise-and of integer_x or integer_y: \",np.bitwise_or(integer_x,integer_y))"
      ],
      "metadata": {
        "id": "8dYMuv4fPs5H"
      },
      "execution_count": null,
      "outputs": []
    },
    {
      "cell_type": "markdown",
      "source": [
        "**Type 03:Bitwise XOR (^)**\n",
        "\n",
        "**XOR Truth Table**\n",
        "\n",
        "| Input A | Input B | Output |\n",
        "|---------|---------|--------|\n",
        "|   0     |   0     |   0    |\n",
        "|   0     |   1     |   1    |\n",
        "|   1     |   0     |   1    |\n",
        "|   1     |   1     |   0    |"
      ],
      "metadata": {
        "id": "HBbgD0ZURlIs"
      }
    },
    {
      "cell_type": "markdown",
      "source": [
        "**Example 01**"
      ],
      "metadata": {
        "id": "Pf82x9DORxRA"
      }
    },
    {
      "cell_type": "code",
      "source": [
        "import numpy as np\n",
        "x = np.array([10, 15, 7])\n",
        "binary_repr1 = np.vectorize(np.binary_repr)(x)\n",
        "print(binary_repr1)\n",
        "y = np.array([8,5,4])\n",
        "binary_repr2 = np.vectorize(np.binary_repr)(y)\n",
        "print(binary_repr2)\n",
        "print()\n",
        "binary_repr3 = np.vectorize(np.binary_repr)(x^y)\n",
        "print(\"Binary representation of x xor y:\",binary_repr3)\n",
        "\n",
        "print(\"Bitwise-and of x xor y: \",np.bitwise_xor(x,y))"
      ],
      "metadata": {
        "id": "2T6EcPAnSEx4"
      },
      "execution_count": null,
      "outputs": []
    },
    {
      "cell_type": "markdown",
      "source": [
        "**Example 02**"
      ],
      "metadata": {
        "id": "6sCYlejHSFX4"
      }
    },
    {
      "cell_type": "code",
      "source": [
        "import numpy as np\n",
        "x = np.array([10.5, 1.5, 7.6])\n",
        "integer_x = x.astype(int)\n",
        "print(\"Convert the array elements to integers:\",integer_x)\n",
        "binary_repr = np.vectorize(np.binary_repr)(integer_x)\n",
        "print(\"Binary representation of x:\",binary_repr)\n",
        "print()\n",
        "y = np.array([12.5, 11.5, 71.6])\n",
        "integer_y = y.astype(int)\n",
        "print(\"Convert the array elements to integers:\",integer_y)\n",
        "binary_repr = np.vectorize(np.binary_repr)(integer_y)\n",
        "print(\"Binary representation of y:\",binary_repr)\n",
        "print()\n",
        "binary_repr = np.vectorize(np.binary_repr)(integer_x^integer_y)\n",
        "print(\"Binary representation of integer_x xor integer_y:\",binary_repr)\n",
        "print(\"Bitwise-and of integer_x or integer_y: \",np.bitwise_xor(integer_x,integer_y))"
      ],
      "metadata": {
        "id": "9IsZCh4sSunj"
      },
      "execution_count": null,
      "outputs": []
    },
    {
      "cell_type": "code",
      "source": [
        "import numpy as np\n",
        "\n",
        "a = np.array([2, 5, 9])\n",
        "binary_repr1 = np.vectorize(np.binary_repr)(a)\n",
        "print(\"Binary representation of x:\",binary_repr1)\n",
        "print()\n",
        "b = np.array([3, 6, 10])\n",
        "binary_repr2 = np.vectorize(np.binary_repr)(b)\n",
        "print(\"Binary representation of x:\",binary_repr2)\n",
        "print()\n",
        "\n",
        "binary_repr3 = np.vectorize(np.binary_repr)(a^b)\n",
        "print(\"Binary representation of a xor b:\",binary_repr3)\n",
        "\n",
        "print(\"Bitwise-and of x or y: \",np.bitwise_xor(a,b))"
      ],
      "metadata": {
        "id": "qOgM2cO_BwoA"
      },
      "execution_count": null,
      "outputs": []
    },
    {
      "cell_type": "markdown",
      "source": [
        "**Type 04:Bitwise NOT (~)**\n",
        "\n",
        "**NOT Truth Table**\n",
        "\n",
        "| Input | Output |\n",
        "|-------|--------|\n",
        "|   0   |   1    |\n",
        "|   1   |   0    |"
      ],
      "metadata": {
        "id": "v_WVDCCzTtro"
      }
    },
    {
      "cell_type": "code",
      "source": [],
      "metadata": {
        "id": "SBZDvdqUbtzZ"
      },
      "execution_count": null,
      "outputs": []
    },
    {
      "cell_type": "markdown",
      "source": [
        "**Example**"
      ],
      "metadata": {
        "id": "7qed4_bvTzJF"
      }
    },
    {
      "cell_type": "code",
      "source": [
        "import numpy as np\n",
        "a = np.array([2, 5, 7])\n",
        "binary_repr = np.vectorize(np.binary_repr)(a)\n",
        "print(binary_repr)\n",
        "binary_repr = np.vectorize(np.binary_repr)(~a)\n",
        "print(\"Apply bitwise complement (~) to the array :\",binary_repr)\n",
        "print( np.bitwise_not(a))\n",
        "\n",
        "\n"
      ],
      "metadata": {
        "id": "f5_aeWGxEZN3"
      },
      "execution_count": null,
      "outputs": []
    }
  ]
}