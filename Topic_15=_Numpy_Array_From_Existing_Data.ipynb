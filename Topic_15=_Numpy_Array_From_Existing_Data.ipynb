{
  "nbformat": 4,
  "nbformat_minor": 0,
  "metadata": {
    "colab": {
      "private_outputs": true,
      "provenance": [],
      "include_colab_link": true
    },
    "kernelspec": {
      "name": "python3",
      "display_name": "Python 3"
    },
    "language_info": {
      "name": "python"
    }
  },
  "cells": [
    {
      "cell_type": "markdown",
      "metadata": {
        "id": "view-in-github",
        "colab_type": "text"
      },
      "source": [
        "<a href=\"https://colab.research.google.com/github/ranamaddy/numpy/blob/main/Topic_15%3D_Numpy_Array_From_Existing_Data.ipynb\" target=\"_parent\"><img src=\"https://colab.research.google.com/assets/colab-badge.svg\" alt=\"Open In Colab\"/></a>"
      ]
    },
    {
      "cell_type": "markdown",
      "source": [
        "# **Topic 15 = Numpy Array From Existing Data**\n",
        "\n",
        "\n",
        "\n",
        "NumPy is a powerful Python library used for scientific computing and data analysis. One of the key features of NumPy is its ability to create arrays of data, which can be used for various mathematical operations. NumPy arrays can be created from existing data, such as Python lists or tuples, by using the np.array() function.\n",
        "\n",
        "To create a NumPy array from an existing Python list, you first need to import the NumPy library. This can be done by running the following code:\n",
        "\n",
        "\n",
        "import numpy as np\n",
        "\n",
        "Next, you can create a NumPy array from a list by passing the list as an argument to the np.array() function. For example, the following code creates a NumPy array from a Python list of integers:\n",
        "\n",
        "\n",
        "my_list = [1, 2, 3, 4, 5]\n",
        "my_array = np.array(my_list)\n",
        "\n",
        "You can also create a NumPy array from a Python tuple using the same approach. Once you have created a NumPy array, you can perform various mathematical operations on it, such as addition, subtraction, multiplication, and division. NumPy also provides many built-in functions for performing statistical calculations on arrays.\n",
        "\n",
        "\n",
        "NumPy provides us the way to create an array by using the existing data.\n",
        "1. numpy.asarray.\n",
        "2. numpy.frombuffer.\n",
        "3. numpy.fromiter\n",
        "\n"
      ],
      "metadata": {
        "id": "fAKCuwd1CxqT"
      }
    },
    {
      "cell_type": "markdown",
      "source": [
        "**Type 1. numpy.asarray  function**\n",
        "\n",
        "\n",
        "This function is used to create an array by using the existing data in the form of lists, or tuples. This function is useful in the scenario where we need to convert a python sequence into the numpy array object.\n",
        "\n",
        "The NumPy asarray() function is a method that converts a given input, such as a list or tuple, into a NumPy array. The resulting array will have the same data type and shape as the input data.\n",
        "\n",
        "The asarray() function is useful when you want to ensure that your input data is a NumPy array, regardless of its original format. For example, if you have a list of numbers and you want to perform mathematical operations on it using NumPy functions, you can convert it to a NumPy array using asarray().\n",
        "\n",
        "**Here's the syntax for the asarray() function:**\n",
        "\n",
        "\n",
        "numpy.asarray(a, dtype=None, order=None)\n",
        "\n",
        "a: The input data to be converted to a NumPy array.\n",
        "dtype: The desired data type of the resulting NumPy array. If not specified, the data type of the input data will be used.\n",
        "order: Specifies the memory layout of the resulting array. If not specified, NumPy will use 'C' (row-major) order by default."
      ],
      "metadata": {
        "id": "tYvGvwwZGexS"
      }
    },
    {
      "cell_type": "markdown",
      "source": [
        "**Example 01: Creating an array from a list:**"
      ],
      "metadata": {
        "id": "GmPrzSebJiu0"
      }
    },
    {
      "cell_type": "code",
      "source": [
        "import numpy as np\n",
        "my_list = [1, 2, 3, 4, 5]\n",
        "arr = np.asarray(my_list)\n",
        "print(arr)"
      ],
      "metadata": {
        "id": "ho5BlJG2JxJ5"
      },
      "execution_count": null,
      "outputs": []
    },
    {
      "cell_type": "markdown",
      "source": [
        "**Explanation**\n",
        "\n",
        "This code creates a Python list of integers with the values [1, 2, 3, 4, 5] and assigns it to the variable my_list.\n",
        "\n",
        "Then, the np.asarray() function from the NumPy library is used to convert my_list into a NumPy array. The resulting array is stored in the variable arr.\n",
        "\n",
        "Finally, the print() function is used to display the contents of the arr array in the console.\n",
        "\n",
        "Overall, this code demonstrates how to use NumPy to convert a Python list into a NumPy array and perform computations on it using NumPy's array operations."
      ],
      "metadata": {
        "id": "8FWe92vSvtTl"
      }
    },
    {
      "cell_type": "markdown",
      "source": [
        "**Example 02: Creating an array from a tuple:**"
      ],
      "metadata": {
        "id": "qWq9a1CWJ6F5"
      }
    },
    {
      "cell_type": "code",
      "source": [
        "import numpy as np\n",
        "my_tuple = (6, 7, 8, 9, 10)\n",
        "arr = np.asarray(my_tuple)\n",
        "print(arr)"
      ],
      "metadata": {
        "id": "P5_vD1v5KWSm"
      },
      "execution_count": null,
      "outputs": []
    },
    {
      "cell_type": "markdown",
      "source": [
        "**Example 03: Creating an array from a NumPy array:**"
      ],
      "metadata": {
        "id": "Grl0wuixKg4r"
      }
    },
    {
      "cell_type": "code",
      "source": [
        "import numpy as np\n",
        "original_arr = np.array([11, 12, 13, 14, 15])\n",
        "new_arr = np.asarray(original_arr)\n",
        "print(new_arr)"
      ],
      "metadata": {
        "id": "-6rZPTG2LDmT"
      },
      "execution_count": null,
      "outputs": []
    },
    {
      "cell_type": "markdown",
      "source": [
        "**Explanation**\n",
        "\n",
        "This code uses the NumPy library in Python to create a NumPy array called original_arr with the values [11, 12, 13, 14, 15].\n",
        "\n",
        "Then, the np.asarray() function is used to create a new NumPy array called new_arr, which is a copy of the original_arr array.\n",
        "\n",
        "Finally, the print() function is used to display the contents of the new_arr array in the console.\n",
        "\n",
        "This code demonstrates how to create a new NumPy array from an existing array using the np.asarray() function. This function can be used to create a new array that is a view of the original array, without creating a new copy of the data. This can be useful for improving performance and memory efficiency when working with large arrays."
      ],
      "metadata": {
        "id": "BvKJlpn1wJVu"
      }
    },
    {
      "cell_type": "markdown",
      "source": [
        "**Example 04: Creating a complex array from a list of tuples:**"
      ],
      "metadata": {
        "id": "7kPqKTf4LNAr"
      }
    },
    {
      "cell_type": "code",
      "source": [
        "import numpy as np\n",
        "my_list = [(1, 2), (3, 4), (5, 6)]\n",
        "arr = np.asarray(my_list, dtype=complex)\n",
        "print(arr)"
      ],
      "metadata": {
        "id": "3vVzvAhZLStc"
      },
      "execution_count": null,
      "outputs": []
    },
    {
      "cell_type": "markdown",
      "source": [
        "**Example 05: Creating an array from a string:**"
      ],
      "metadata": {
        "id": "gN52-TKZLmY6"
      }
    },
    {
      "cell_type": "code",
      "source": [
        "import numpy as np\n",
        "my_string = \"1 2 3 4 5\"\n",
        "arr = np.asarray(my_string.split(), dtype=int)\n",
        "print(arr)"
      ],
      "metadata": {
        "id": "eGVI0Y8TLsiS"
      },
      "execution_count": null,
      "outputs": []
    },
    {
      "cell_type": "markdown",
      "source": [
        "**Explanation**\n",
        "\n",
        "This code uses NumPy library in Python to convert a string of space-separated integers \"1 2 3 4 5\" into a NumPy array of integers.\n",
        "\n",
        "First, the string \"1 2 3 4 5\" is assigned to the variable my_string.\n",
        "\n",
        "Then, the split() method is called on my_string, which splits the string into a list of strings using the whitespace character as a separator. The resulting list is [\"1\", \"2\", \"3\", \"4\", \"5\"].\n",
        "\n",
        "Next, the np.asarray() function is called on this list with the argument dtype=int which specifies that the resulting NumPy array should have integer data type. The resulting NumPy array is stored in the variable arr.\n",
        "\n",
        "Finally, the print() function is used to display the contents of the arr array in the console, which outputs the NumPy array [1, 2, 3, 4, 5].\n",
        "\n",
        "This code demonstrates how to use NumPy to convert a string of space-separated integers into a NumPy array of integers. This can be useful when working with data that is represented as a string, but needs to be processed numerically."
      ],
      "metadata": {
        "id": "P5MFYja3woC4"
      }
    },
    {
      "cell_type": "markdown",
      "source": [
        "**Type 2. numpy.frombuffer**\n",
        "\n",
        "numpy.frombuffer is a NumPy function that creates a new one-dimensional array from an object that exposes the buffer interface. \"Exposing the buffer interface means that an object provides a way to access its data in a raw, memory-efficient manner. This allows other objects or functions to access the data directly without the need for any additional copying or conversion, which can be especially useful for large amounts of data\".\n",
        "\n",
        "The numpy.frombuffer function takes two arguments: buffer and dtype. buffer is the object that exposes the buffer interface, while dtype specifies the data type of the returned array.\n",
        "\n",
        "For example, if buffer is a bytes object containing the binary representation of an array of 32-bit integers, and dtype is set to 'int32', then numpy.frombuffer(buffer, dtype='int32') will return a new NumPy array containing the integers.\n",
        "\n",
        "This function can be useful when working with binary data, such as data stored in files or transmitted over networks."
      ],
      "metadata": {
        "id": "if3yetJ_MQVA"
      }
    },
    {
      "cell_type": "markdown",
      "source": [
        "**Example 01: Convert bytes to a 1-dimensional array of integers:**"
      ],
      "metadata": {
        "id": "qSTKTfSbNyX5"
      }
    },
    {
      "cell_type": "code",
      "source": [
        "import numpy as np\n",
        "# create a bytes object\n",
        "b = b'\\x01\\x02\\x03\\x04\\x05'\n",
        "print( \"create a bytes object:\",b)\n",
        "print()\n",
        "# convert bytes to numpy array\n",
        "a = np.frombuffer(b, dtype=np.uint8)\n",
        "print(\"convert bytes to numpy array:\",a)"
      ],
      "metadata": {
        "id": "eLGEhlDPOTLt"
      },
      "execution_count": null,
      "outputs": []
    },
    {
      "cell_type": "markdown",
      "source": [
        "**Explanation**\n",
        "\n",
        "This code demonstrates how to convert a bytes object into a NumPy array in Python.\n",
        "\n",
        "First, a bytes object is created using the b prefix and the hexadecimal notation \\x01 to \\x05. This creates a bytes object with the values [1, 2, 3, 4, 5], which is assigned to the variable b.\n",
        "\n",
        "The print() function is then used to display the contents of b in the console, which outputs the string \"create a bytes object: b'\\\\x01\\\\x02\\\\x03\\\\x04\\\\x05'\".\n",
        "\n",
        "Next, the NumPy function np.frombuffer() is used to convert the bytes object b into a NumPy array called a. The dtype argument specifies that the resulting NumPy array should have an unsigned 8-bit integer data type, which corresponds to the data type of the original bytes object.\n",
        "\n",
        "Finally, the print() function is used again to display the contents of a in the console, which outputs the NumPy array [1, 2, 3, 4, 5].\n",
        "\n",
        "Overall, this code demonstrates how to use NumPy to convert a bytes object into a NumPy array in Python. This can be useful for working with binary data or for reading data from a file or network socket that returns a bytes object."
      ],
      "metadata": {
        "id": "iXOyvZKUxBeP"
      }
    },
    {
      "cell_type": "markdown",
      "source": [
        "**Example 02: Convert bytes to a 2-dimensional array of integers:**"
      ],
      "metadata": {
        "id": "JEgODfgSPuKZ"
      }
    },
    {
      "cell_type": "code",
      "source": [
        "import numpy as np\n",
        "# create a bytes object\n",
        "b = b'\\x01\\x02\\x03\\x04\\x05\\x06\\x07\\x08\\x09'\n",
        "# convert bytes to numpy array\n",
        "a = np.frombuffer(b, dtype=np.uint8).reshape(3, 3)\n",
        "print(a)"
      ],
      "metadata": {
        "id": "l5JR_JCWP3Az"
      },
      "execution_count": null,
      "outputs": []
    },
    {
      "cell_type": "markdown",
      "source": [
        "**Explanation**\n",
        "\n",
        "This code demonstrates how to convert a bytes object into a 3x3 NumPy array in Python using the np.frombuffer() and reshape() functions.\n",
        "\n",
        "First, a bytes object is created using the b prefix and the hexadecimal notation \\x01 to \\x09. This creates a bytes object with the values [1, 2, 3, 4, 5, 6, 7, 8, 9], which is assigned to the variable b.\n",
        "\n",
        "The NumPy function np.frombuffer() is then used to convert the bytes object b into a NumPy array called a. The dtype argument specifies that the resulting NumPy array should have an unsigned 8-bit integer data type, which corresponds to the data type of the original bytes object.\n",
        "\n",
        "The reshape() function is then used to reshape the 1-dimensional NumPy array a into a 3x3 NumPy array. The resulting NumPy array is stored back in the variable a.\n",
        "\n",
        "Finally, the print() function is used to display the contents of a in the console, which outputs the NumPy array:\n",
        "\n",
        "\n",
        "[[1 2 3]\n",
        " [4 5 6]\n",
        " [7 8 9]]\n",
        "\n",
        "Overall, this code demonstrates how to use NumPy to convert a bytes object into a 3x3 NumPy array in Python. This can be useful for working with binary data or for reading data from a file or network socket that returns a bytes object."
      ],
      "metadata": {
        "id": "V4tV1rcpxcmB"
      }
    },
    {
      "cell_type": "markdown",
      "source": [
        "**Example 03: Convert a string to a 1-dimensional array of characters:**"
      ],
      "metadata": {
        "id": "q3iQwUXzQFZN"
      }
    },
    {
      "cell_type": "code",
      "source": [
        "import numpy as np\n",
        "# create a string\n",
        "s = 'hello'\n",
        "# convert string to numpy array\n",
        "arr = np.frombuffer(s.encode(), dtype='S1')\n",
        "print(arr)"
      ],
      "metadata": {
        "id": "hBMbWuHvQKHH"
      },
      "execution_count": null,
      "outputs": []
    },
    {
      "cell_type": "markdown",
      "source": [
        "**Explanation**\n",
        "\n",
        "This code demonstrates how to convert a string into a NumPy array of bytes in Python using the np.frombuffer() function.\n",
        "\n",
        "First, a string s is defined with the value 'hello'.\n",
        "\n",
        "The encode() method is then called on the string s to convert it into a bytes object, which is passed to the np.frombuffer() function. The dtype argument is set to 'S1', which specifies that the resulting NumPy array should have a data type of bytes with a length of 1 byte.\n",
        "\n",
        "The resulting NumPy array, arr, contains the bytes corresponding to the ASCII characters of the string \"hello\", with each byte stored as a separate element of the array.\n",
        "\n",
        "Finally, the print() function is used to display the contents of arr in the console, which outputs the NumPy array:\n",
        "\n",
        "\n",
        "[b'h' b'e' b'l' b'l' b'o']\n",
        "\n",
        "\n",
        "Overall, this code demonstrates how to use NumPy to convert a string into a NumPy array of bytes in Python. This can be useful for working with text data in a format that can be easily processed by other functions that accept NumPy arrays."
      ],
      "metadata": {
        "id": "vC3V7M0NyN4T"
      }
    },
    {
      "cell_type": "markdown",
      "source": [
        "**Example 04: Convert a byte buffer to a 1-dimensional array of floats:**"
      ],
      "metadata": {
        "id": "J4i4ckxsTCpf"
      }
    },
    {
      "cell_type": "code",
      "source": [
        "import numpy as np\n",
        "# create a bytes object\n",
        "b = bytearray(b'\\x00\\x00\\x80\\x3f\\x00\\x00\\x00\\x40\\x00\\x00\\x80\\x40')\n",
        "print( \"create a bytes object:\",b)\n",
        "print()\n",
        "# convert bytes to numpy array\n",
        "a = np.frombuffer(b, dtype=np.float32)\n",
        "print(\"convert bytes to numpy array:\",a)"
      ],
      "metadata": {
        "id": "08HXGrnfTGr2"
      },
      "execution_count": null,
      "outputs": []
    },
    {
      "cell_type": "markdown",
      "source": [
        "**Example 05: Convert a byte buffer to a 1-dimensional array of complex numbers:**"
      ],
      "metadata": {
        "id": "EBin27SHT9DO"
      }
    },
    {
      "cell_type": "code",
      "source": [
        "import numpy as np\n",
        "# create a byte buffer with complex numbers\n",
        "buf = bytearray(b'\\x00\\x00\\x80\\x3f\\x00\\x00\\x00\\x00\\x00\\x00\\x80\\x3f\\x00\\x00\\x00\\x00')\n",
        "# convert byte buffer to numpy array of complex numbers\n",
        "arr = np.frombuffer(buf, dtype=np.complex64)\n",
        "print(arr)"
      ],
      "metadata": {
        "id": "BwXWwrXMUBDN"
      },
      "execution_count": null,
      "outputs": []
    },
    {
      "cell_type": "markdown",
      "source": [
        "**Explantion**\n",
        "\n",
        "The code creates a byte buffer with complex numbers represented as hexadecimal values. It then converts this byte buffer into a numpy array of complex numbers using the np.frombuffer() method with the dtype parameter set to np.complex64. Finally, the code prints the resulting numpy array of complex numbers.\n",
        "\n",
        "In detail, the byte buffer buf is created using the bytearray() method with the hexadecimal values b'\\x00\\x00\\x80\\x3f\\x00\\x00\\x00\\x00\\x00\\x00\\x80\\x3f\\x00\\x00\\x00\\x00'. These hexadecimal values represent two complex numbers: 1+0j and 0+1j. The first four bytes (\\x00\\x00\\x80\\x3f) represent the hexadecimal value for 1 in little-endian format, and the next four bytes (\\x00\\x00\\x00\\x00) represent the hexadecimal value for 0 in little-endian format. The following four bytes (\\x00\\x00\\x80\\x3f) represent the hexadecimal value for 1 in little-endian format, and the last four bytes (\\x00\\x00\\x00\\x00) represent the hexadecimal value for 0 in little-endian format.\n",
        "\n",
        "The np.frombuffer() method is then used to convert the byte buffer buf to a numpy array of complex numbers. The dtype parameter is set to np.complex64 to indicate that the resulting numpy array should have complex numbers with 64-bit precision. The resulting numpy array arr has two elements, which correspond to the two complex numbers in the byte buffer buf. The code then prints the resulting numpy array arr, which contains the complex numbers (1+0j) and (0+1j)."
      ],
      "metadata": {
        "id": "UvttMVzazzIo"
      }
    },
    {
      "cell_type": "markdown",
      "source": [
        "**Type 03: numpy.fromiter**\n",
        "\n",
        "numpy.fromiter is a NumPy function that creates a new NumPy array from an iterable object like a list or a generator. It takes two arguments: the iterable object, and the data type of the resulting NumPy array. This function is useful when we have a large amount of data that we don't want to store in a temporary list or array before creating a NumPy array. Instead, we can generate the data on-the-fly using an iterable object and create the NumPy array directly from it."
      ],
      "metadata": {
        "id": "vrhZZ7uDUzsl"
      }
    },
    {
      "cell_type": "markdown",
      "source": [
        "**Example 01: Create a NumPy array from a list of complex:**"
      ],
      "metadata": {
        "id": "S01NvfEqXQOO"
      }
    },
    {
      "cell_type": "code",
      "source": [
        "import numpy as np\n",
        "my_list = [1, 2, 3, 4, 5]\n",
        "my_array = np.fromiter(my_list, dtype=complex)\n",
        "print(my_array)"
      ],
      "metadata": {
        "id": "8Wddx1GiXUKa"
      },
      "execution_count": null,
      "outputs": []
    },
    {
      "cell_type": "markdown",
      "source": [
        "**Explanation**\n",
        "\n"
      ],
      "metadata": {
        "id": "758u0JgRfP2Z"
      }
    },
    {
      "cell_type": "markdown",
      "source": [
        "**Example 02: Create a NumPy array from a generator expression:**"
      ],
      "metadata": {
        "id": "8MUiR6DKX8VD"
      }
    },
    {
      "cell_type": "code",
      "source": [
        "import numpy as np\n",
        "my_gen = (x**2 for x in range(5))\n",
        "print(my_gen)\n",
        "print()\n",
        "my_array = np.fromiter(my_gen, dtype=int)\n",
        "print(my_array)"
      ],
      "metadata": {
        "id": "2bzmp5yYYAbe"
      },
      "execution_count": null,
      "outputs": []
    },
    {
      "cell_type": "markdown",
      "source": [
        "**Explanation**\n",
        "\n",
        "Solution   my_gen = (x**2 for x in range(5))\n",
        "print(my_gen)\n",
        "print()\n",
        "my_array = np.fromiter(my_gen, dtype=int)\n",
        "print(my_array)\n",
        "\n",
        "This code defines a generator expression called \"my_gen\" that generates the squares of the numbers from 0 to 4.\n",
        "\n",
        "The code then prints the \"my_gen\" object to the console. This will not print the actual values of the generator, but rather its location in memory.\n",
        "\n",
        "Next, the code uses NumPy's \"fromiter\" function to create a one-dimensional array called \"my_array\" from the values generated by \"my_gen\". The \"dtype=int\" argument specifies that the data type of the array should be integer.\n",
        "\n",
        "Finally, the code prints the contents of \"my_array\" to the console using the \"print\" function. The output of this code will be an array of integers with the values [ 0 1 4 9 16]."
      ],
      "metadata": {
        "id": "RbjzVWo5etgY"
      }
    },
    {
      "cell_type": "markdown",
      "source": [
        "***Example 03: Create a NumPy array of complex numbers from a generator expression:***"
      ],
      "metadata": {
        "id": "FkD3pOI6YfYH"
      }
    },
    {
      "cell_type": "code",
      "source": [
        "import numpy as np\n",
        "my_gen = (complex(x, x+1) for x in range(3))\n",
        "print(my_gen)\n",
        "print()\n",
        "my_array = np.fromiter(my_gen, dtype=complex)\n",
        "print(my_array)"
      ],
      "metadata": {
        "id": "YXSbwDTMYkNU"
      },
      "execution_count": null,
      "outputs": []
    },
    {
      "cell_type": "markdown",
      "source": [
        "**Explanation**\n",
        "\n",
        "This code defines a generator expression called \"my_gen\" that generates three complex numbers. Each complex number is created using the \"complex\" function with \"x\" as the real part and \"x+1\" as the imaginary part, where \"x\" ranges from 0 to 2.\n",
        "\n",
        "The code then prints the \"my_gen\" object to the console. This will not print the actual values of the generator, but rather its location in memory.\n",
        "\n",
        "Next, the code uses NumPy's \"fromiter\" function to create a one-dimensional array called \"my_array\" from the values generated by \"my_gen\". The \"dtype=complex\" argument specifies that the data type of the array should be complex numbers.\n",
        "\n",
        "Finally, the code prints the contents of \"my_array\" to the console using the \"print\" function. The output of this code will be an array of complex numbers with the values [(0+1j) (1+2j) (2+3j)]."
      ],
      "metadata": {
        "id": "9yrMfVToeIXO"
      }
    },
    {
      "cell_type": "markdown",
      "source": [
        "**Example 04: Create a NumPy array of unsigned integers from a range object:**"
      ],
      "metadata": {
        "id": "bYT5U4ZQZJ64"
      }
    },
    {
      "cell_type": "code",
      "source": [
        "import numpy as np\n",
        "my_range = range(5)\n",
        "my_array = np.fromiter(my_range, dtype=np.uint8)\n",
        "print(my_array)"
      ],
      "metadata": {
        "id": "uMT7LIMWZNms"
      },
      "execution_count": null,
      "outputs": []
    },
    {
      "cell_type": "markdown",
      "source": [
        "**Explanation**\n",
        "\n",
        "This code creates a range object called \"my_range\" with values from 0 up to, but not including, 5.\n",
        "\n",
        "Next, the code uses NumPy's \"fromiter\" function to create a one-dimensional array called \"my_array\" from the values in \"my_range\". The \"dtype=np.uint8\" argument specifies that the data type of the array should be unsigned 8-bit integers.\n",
        "\n",
        "Finally, the code prints the contents of \"my_array\" to the console using the \"print\" function. The output of this code will be an array of unsigned 8-bit integers with the values [0 1 2 3 4]."
      ],
      "metadata": {
        "id": "Tt3tfgx3dKVu"
      }
    },
    {
      "cell_type": "markdown",
      "source": [
        "**Example 05: Create a NumPy array of signed integers from a tuple:**"
      ],
      "metadata": {
        "id": "P0kkKIzvZaos"
      }
    },
    {
      "cell_type": "code",
      "source": [
        "import numpy as np\n",
        "my_tuple = (10, -20, 30, -40)\n",
        "my_array = np.fromiter(my_tuple, dtype=int)\n",
        "print(my_array)"
      ],
      "metadata": {
        "id": "YLvvyOy2ZidD"
      },
      "execution_count": null,
      "outputs": []
    },
    {
      "cell_type": "markdown",
      "source": [
        "**Explanation**\n",
        "\n",
        "This code initializes a tuple called \"my_tuple\" with four integer values: 10, -20, 30, and -40.\n",
        "\n",
        "Next, the code uses NumPy's \"fromiter\" function to create a one-dimensional array called \"my_array\" from the values in \"my_tuple\". The \"dtype=int\" argument specifies that the data type of the array should be integer.\n",
        "\n",
        "Finally, the code prints the contents of \"my_array\" to the console using the \"print\" function. The output of this code will be an array of integers with the values [ 10 -20 30 -40 ]."
      ],
      "metadata": {
        "id": "OEXvNBUscvv8"
      }
    }
  ]
}