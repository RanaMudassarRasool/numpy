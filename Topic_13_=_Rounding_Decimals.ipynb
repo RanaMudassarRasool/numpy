{
  "nbformat": 4,
  "nbformat_minor": 0,
  "metadata": {
    "colab": {
      "private_outputs": true,
      "provenance": [],
      "include_colab_link": true
    },
    "kernelspec": {
      "name": "python3",
      "display_name": "Python 3"
    },
    "language_info": {
      "name": "python"
    }
  },
  "cells": [
    {
      "cell_type": "markdown",
      "metadata": {
        "id": "view-in-github",
        "colab_type": "text"
      },
      "source": [
        "<a href=\"https://colab.research.google.com/github/ranamaddy/numpy/blob/main/Topic_13_%3D_Rounding_Decimals.ipynb\" target=\"_parent\"><img src=\"https://colab.research.google.com/assets/colab-badge.svg\" alt=\"Open In Colab\"/></a>"
      ]
    },
    {
      "cell_type": "code",
      "source": [],
      "metadata": {
        "id": "g5fFYbPsvuIY"
      },
      "execution_count": null,
      "outputs": []
    },
    {
      "cell_type": "markdown",
      "source": [
        "**Topic 13 = Rounding Decimals**\n",
        "\n",
        "Rounding decimals means approximating a decimal number to the nearest whole number, or a specific number of decimal places, based on a set of rules. These rules can vary depending on the situation and the desired level of accuracy. Generally, rounding involves looking at the digit immediately to the right of the rounding point and determining whether to round up or down based on its value. For example, if rounding to the nearest whole number, any decimal less than 0.5 is rounded down, while any decimal greater than or equal to 0.5 is rounded up. Rounding can be useful in situations where exact values are not necessary or when dealing with large sets of data.\n",
        "\n",
        "There are primarily five ways of rounding off decimals in NumPy:\n",
        "\n",
        "1. truncation\n",
        "2. fix\n",
        "3. rounding\n",
        "4. floor\n",
        "5. ceil\n"
      ],
      "metadata": {
        "id": "VquQIPp2rqK-"
      }
    },
    {
      "cell_type": "markdown",
      "source": [
        "**Type 1.The trunc() method**\n",
        "\n",
        "In NumPy is a mathematical function that returns the truncated value of an input array or scalar. It rounds the input values towards zero to the nearest integer or to a specified decimal place.\n",
        "\n",
        "**The syntax for using the trunc() method is as follows:**\n",
        "\n",
        "\n",
        "\n",
        "**numpy.trunc(arr, out=None)**\n",
        "\n",
        "Here, arr represents the input array or scalar that we want to truncate, and out is an optional parameter that specifies the output array where the result should be stored.\n",
        "\n"
      ],
      "metadata": {
        "id": "8gC3pBFLtoli"
      }
    },
    {
      "cell_type": "markdown",
      "source": [
        "**Example 01**"
      ],
      "metadata": {
        "id": "cf8xiBGQuges"
      }
    },
    {
      "cell_type": "code",
      "execution_count": null,
      "metadata": {
        "id": "47Okwx9orEIC"
      },
      "outputs": [],
      "source": [
        "import numpy as np\n",
        "a = np.array([-2.5, -1.7, 0.3, 1.5, 2.8])\n",
        "print(\"Input array:\",a)\n",
        "print()\n",
        "b = np.trunc(a)\n",
        "print(\"output  array:\",b)"
      ]
    },
    {
      "cell_type": "markdown",
      "source": [
        "**Explanation**\n",
        "\n",
        "The given code creates a NumPy array named 'a' with five floating-point values: -2.5, -1.7, 0.3, 1.5, and 2.8. The 'print()' function is used to display this input array 'a' in the console.\n",
        "\n",
        "Next, the 'np.trunc()' function from the NumPy library is applied to the input array 'a'. This function truncates the decimal part of each element in 'a' and returns an array of integers with the same shape as the input array. The truncated values are then stored in another array named 'b'.\n",
        "\n",
        "Finally, the 'print()' function is used to display the resulting truncated array 'b' in the console.\n",
        "\n",
        "In summary, the code truncates the decimal values of each element in an array of floating-point numbers using the NumPy library function 'np.trunc()'. It then stores the resulting truncated integer values in a new array 'b', and displays both the input array 'a' and the truncated output array 'b' in the console."
      ],
      "metadata": {
        "id": "BsGTKp4yw59q"
      }
    },
    {
      "cell_type": "markdown",
      "source": [
        "**Example 02**"
      ],
      "metadata": {
        "id": "KlE_zr9YvsaC"
      }
    },
    {
      "cell_type": "code",
      "source": [
        "import numpy as np\n",
        "a = [-0.9, -0.12, -12.555, 123.0]\n",
        "print(\"Input array:\",a)\n",
        "print()\n",
        "b = np.trunc(a)\n",
        "print(\"output array:\",b)"
      ],
      "metadata": {
        "id": "A1DgswCVv0sB"
      },
      "execution_count": null,
      "outputs": []
    },
    {
      "cell_type": "markdown",
      "source": [
        "**Explanation**\n",
        "\n",
        "The code imports the NumPy library using the alias name 'np'. It then creates an array 'a' with four float values: -0.9, -0.12, -12.555, and 123.0. The 'print()' function is used to display the input array 'a' in the console.\n",
        "\n",
        "The code then uses the NumPy library function 'np.trunc()' to truncate the decimal values of each element in the input array 'a'. The truncated values are stored in another array named 'b'.\n",
        "\n",
        "Finally, the 'print()' function is used to display the resulting truncated array 'b' in the console.\n",
        "\n",
        "In summary, the code takes an array of floating-point numbers, truncates the decimal values of each element using NumPy, and stores the truncated values in a new array. The input array and the resulting truncated array are both displayed in the console using the 'print()' function."
      ],
      "metadata": {
        "id": "x2332OOAwc_w"
      }
    },
    {
      "cell_type": "markdown",
      "source": [
        " **Type 2. Numpy fix() Method**\n",
        "\n",
        "numpy is a Python library that provides support for working with arrays and matrices of numerical data. The **fix() function;** is a part of this library and it is used to round off the given input values towards zero.\n",
        "\n",
        "\n",
        "\n",
        "**Syntax:**\n",
        "\n",
        "numpy.fix(array,b = None)\n",
        "\n",
        "\n",
        "\n",
        "\n",
        "\n",
        "\n"
      ],
      "metadata": {
        "id": "4k14VEPPKqoE"
      }
    },
    {
      "cell_type": "markdown",
      "source": [
        "**Example 01**"
      ],
      "metadata": {
        "id": "CIZdDMoNLOfj"
      }
    },
    {
      "cell_type": "code",
      "source": [
        "import numpy as np\n",
        "a = np.array([-3.9, -3.5, -1.1, 1.1, 3.5, 3.9])\n",
        "print(\"Input array:\",a)\n",
        "print()\n",
        "b = np.fix(a)\n",
        "print(\"output array:\",b)"
      ],
      "metadata": {
        "id": "3e0xQz-CK9nE"
      },
      "execution_count": null,
      "outputs": []
    },
    {
      "cell_type": "markdown",
      "source": [
        "**Example 02**"
      ],
      "metadata": {
        "id": "woZKdvvhL1LZ"
      }
    },
    {
      "cell_type": "code",
      "source": [
        "import numpy as np\n",
        "a = np.array([[2.3, 4.5], [6.7, 8.9]])\n",
        "print(\"Input array:\",a)\n",
        "print()\n",
        "b = np.fix(a)\n",
        "print(\"output array:\",b)"
      ],
      "metadata": {
        "id": "pwg4Tkg2L4Xo"
      },
      "execution_count": null,
      "outputs": []
    },
    {
      "cell_type": "markdown",
      "source": [
        "**Type 3. Numpy Arounding Method**\n",
        "\n",
        "The around() method in NumPy is a rounding function that is used to round off an array of numbers to a specified number of decimal places. It rounds the array elements to the nearest even number when the number is exactly halfway between two possible rounded values. The method takes two arguments: the input array and the number of decimal places to round to. If the second argument is omitted, the method rounds each element to the nearest integer. The around() method can be used on both one-dimensional and multi-dimensional arrays, and can be used to convert floating-point numbers to integers. It is a useful tool for data manipulation in scientific computing, data analysis, and machine learning applications."
      ],
      "metadata": {
        "id": "OJXm9B6vMMDk"
      }
    },
    {
      "cell_type": "markdown",
      "source": [
        "**Example 01**"
      ],
      "metadata": {
        "id": "9gIyoTphODYL"
      }
    },
    {
      "cell_type": "code",
      "source": [
        "import numpy as np\n",
        "a = np.array([1.5, 2.34, 3.45, 4.56])\n",
        "print(\"Input array:\",a)\n",
        "print()\n",
        "b = np.around(a)\n",
        "print(\"output array:\",b)"
      ],
      "metadata": {
        "id": "ksjPACkqOqfj"
      },
      "execution_count": null,
      "outputs": []
    },
    {
      "cell_type": "markdown",
      "source": [
        "**Explanation**\n",
        "\n",
        "1. Creates a NumPy array named \"a\" with four floating-point values: 1.5, 2.34, 3.45, and 4.56.\n",
        "\n",
        "2. Prints the contents of the array \"a\" to the console with the message \"Input array:\". This line uses the Python \"print()\" function to display the array.\n",
        "\n",
        "3. Prints an empty line to the console. This line uses the Python \"print()\" function with no argument.\n",
        "\n",
        "4. Uses the NumPy function \"np.around()\" to round the values in the \"a\" array to the nearest integer. The resulting array is stored in a new variable named \"b\".\n",
        "\n",
        "5. Prints the contents of the \"b\" array to the console with the message \"output array:\". This line uses the Python \"print()\" function to display the array.\n",
        "\n",
        "Overall, this code demonstrates the use of NumPy arrays and the \"np.around()\" function to perform mathematical operations on arrays."
      ],
      "metadata": {
        "id": "FNQXhmRndLk8"
      }
    },
    {
      "cell_type": "markdown",
      "source": [
        "**Example 02**"
      ],
      "metadata": {
        "id": "ZXRVptmzPNTy"
      }
    },
    {
      "cell_type": "code",
      "source": [
        "import numpy as np\n",
        "a = np.array([1.234, 2.345, 3.456, 4.567])\n",
        "print(\"Input array:\",a)\n",
        "print()\n",
        "b = np.around(a)\n",
        "print(\"output array:\",b)"
      ],
      "metadata": {
        "id": "RjosXFuMPRcV"
      },
      "execution_count": null,
      "outputs": []
    },
    {
      "cell_type": "markdown",
      "source": [
        "**Example 03**"
      ],
      "metadata": {
        "id": "_hfTS5I9Pyct"
      }
    },
    {
      "cell_type": "code",
      "source": [
        "import numpy as np\n",
        "a = np.array([1.234, 2.345, 3.456, 4.567])\n",
        "print(\"Input array:\",a)\n",
        "print()\n",
        "b = np.around(a,decimals=2)\n",
        "print(\"output array:\",b)"
      ],
      "metadata": {
        "id": "fWLhlWDDP3Tx"
      },
      "execution_count": null,
      "outputs": []
    },
    {
      "cell_type": "markdown",
      "source": [
        "**Explanation**\n",
        "\n",
        "1. Creates a NumPy array named \"a\" with four floating-point values: 1.234, 2.345, 3.456, and 4.567.\n",
        "\n",
        "2. Prints the contents of the \"a\" array to the console with the message \"Input array:\". This line uses the Python \"print()\" function to display the array.\n",
        "\n",
        "3. Prints an empty line to the console. This line uses the Python \"print()\" function with no argument.\n",
        "\n",
        "4. Uses the NumPy function \"np.around()\" to round the values in the \"a\" array to two decimal places. The resulting array is stored in a new variable named \"b\". This is achieved by providing the argument \"decimals=2\" to the \"np.around()\" function, which specifies the number of decimal places to round to.\n",
        "\n",
        "5. Prints the contents of the \"b\" array to the console with the message \"output array:\". This line uses the Python \"print()\" function to display the array.\n",
        "\n",
        "Overall, this code demonstrates the use of NumPy arrays and the \"np.around()\" function to perform mathematical operations on arrays, specifically rounding values to a specified number of decimal places."
      ],
      "metadata": {
        "id": "VKpXRXZGdqvr"
      }
    },
    {
      "cell_type": "markdown",
      "source": [
        "**Type 4. Numpy floor() method**\n",
        "\n",
        "The Numpy floor() function is a mathematical function that is used to round down the elements of an input array to the nearest integer or (round off decimals to the lower integer). The function returns a new array with the same shape as the input array.\n",
        "\n",
        "\n",
        "\n",
        "**In summary:**\n",
        "\n",
        "the Numpy floor() function is useful for mathematical operations that require rounding down of array elements to the nearest integer or multiple of a specified value."
      ],
      "metadata": {
        "id": "etmn_0EKQOTp"
      }
    },
    {
      "cell_type": "markdown",
      "source": [
        "**Example 01**"
      ],
      "metadata": {
        "id": "2bI4zHdQQsAa"
      }
    },
    {
      "cell_type": "code",
      "source": [
        "import numpy as np\n",
        "a = [-2.23, 0.12, -1.34, 123.34]\n",
        "print(\"Input array:\",a)\n",
        "print()\n",
        "b = np.floor(a)\n",
        "print(\"Output array:\",b)"
      ],
      "metadata": {
        "id": "zUj-lMsoQv5z"
      },
      "execution_count": null,
      "outputs": []
    },
    {
      "cell_type": "markdown",
      "source": [
        "**Explanation**\n",
        "\n",
        "The provided code first creates a Python list named \"a\" with four floating-point values: -2.23, 0.12, -1.34, and 123.34.\n",
        "\n",
        "Then, the code prints the contents of the \"a\" list to the console with the message \"Input array:\" using the Python \"print()\" function.\n",
        "\n",
        "An empty line is printed to the console using the Python \"print()\" function with no argument.\n",
        "\n",
        "Next, the code uses the NumPy function \"np.floor()\" to round down the values in the \"a\" list to the nearest lower integer. The resulting array is stored in a new variable named \"b\".\n",
        "\n",
        "Finally, the code prints the contents of the \"b\" array to the console with the message \"Output array:\" using the Python \"print()\" function.\n",
        "\n",
        "In summary, this code demonstrates the use of NumPy's mathematical function \"np.floor()\" to perform the floor operation on a list of values. The floor operation rounds a number down to the nearest integer."
      ],
      "metadata": {
        "id": "apDZ2sCUeQiV"
      }
    },
    {
      "cell_type": "markdown",
      "source": [
        "**Example 02**"
      ],
      "metadata": {
        "id": "wU5AHi_kRJZ3"
      }
    },
    {
      "cell_type": "code",
      "source": [
        "import numpy as np\n",
        "\n",
        "a = [0.23, 0.09, 1.2, 1.24, 9.99]\n",
        "\n",
        "print(\"Input array:\",a)\n",
        "print()\n",
        "b = np.floor(a)\n",
        "print(\"Input array:\",b)"
      ],
      "metadata": {
        "id": "CmJgzgT-RNrJ"
      },
      "execution_count": null,
      "outputs": []
    },
    {
      "cell_type": "markdown",
      "source": [
        " **Type 5. Topic=Numpy ceil() methpd**\n",
        "\n",
        "NumPy is a Python library used for numerical computing, and it includes a variety of mathematical functions. **The ceil() function** is one such function, and it is used to round up a given input to the nearest integer(round off decimal to the upper integer).\n",
        "\n",
        "**Syntax**\n",
        "\n",
        "numpy.ceil(array)"
      ],
      "metadata": {
        "id": "Tq9OhEXCRZ5m"
      }
    },
    {
      "cell_type": "markdown",
      "source": [
        "**Example 01**"
      ],
      "metadata": {
        "id": "Ok8naSKbSGxE"
      }
    },
    {
      "cell_type": "code",
      "source": [
        "import numpy as np\n",
        "a = [-2.23, 0.12, -1.34, 123.34]\n",
        "print(\"Input array:\",a)\n",
        "print()\n",
        "b = np.ceil(a)\n",
        "print(\"Output array:\",b)"
      ],
      "metadata": {
        "id": "6hZr5EA7SK3V"
      },
      "execution_count": null,
      "outputs": []
    },
    {
      "cell_type": "markdown",
      "source": [
        "**Explanation**\n",
        "\n",
        "The provided code first creates a Python list named \"a\" with four floating-point values: -2.23, 0.12, -1.34, and 123.34.\n",
        "\n",
        "Then, the code prints the contents of the \"a\" list to the console with the message \"Input array:\" using the Python \"print()\" function.\n",
        "\n",
        "An empty line is printed to the console using the Python \"print()\" function with no argument.\n",
        "\n",
        "Next, the code uses the NumPy function \"np.ceil()\" to round up the values in the \"a\" list to the nearest higher integer. The resulting array is stored in a new variable named \"b\".\n",
        "\n",
        "Finally, the code prints the contents of the \"b\" array to the console with the message \"Output array:\" using the Python \"print()\" function.\n",
        "\n",
        "In summary, this code demonstrates the use of NumPy's mathematical function \"np.ceil()\" to perform the ceiling operation on a list of values. The ceiling operation rounds a number up to the nearest integer."
      ],
      "metadata": {
        "id": "wkcgS2xsfFP_"
      }
    },
    {
      "cell_type": "markdown",
      "source": [
        "**Example 02**"
      ],
      "metadata": {
        "id": "o6VJxmrdefcq"
      }
    },
    {
      "cell_type": "code",
      "source": [
        "import numpy as np\n",
        "a = [0.23, 0.09, 1.2, 1.24, 9.99]\n",
        "print(\"Input array:\",a)\n",
        "print()\n",
        "b = np.floor(a)\n",
        "print(\"Input array:\",b)"
      ],
      "metadata": {
        "id": "l5CwDXX8ehUV"
      },
      "execution_count": null,
      "outputs": []
    }
  ]
}