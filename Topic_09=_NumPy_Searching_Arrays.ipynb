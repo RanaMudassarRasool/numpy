{
  "nbformat": 4,
  "nbformat_minor": 0,
  "metadata": {
    "colab": {
      "private_outputs": true,
      "provenance": [],
      "include_colab_link": true
    },
    "kernelspec": {
      "name": "python3",
      "display_name": "Python 3"
    },
    "language_info": {
      "name": "python"
    }
  },
  "cells": [
    {
      "cell_type": "markdown",
      "metadata": {
        "id": "view-in-github",
        "colab_type": "text"
      },
      "source": [
        "<a href=\"https://colab.research.google.com/github/ranamaddy/numpy/blob/main/Topic_09%3D_NumPy_Searching_Arrays.ipynb\" target=\"_parent\"><img src=\"https://colab.research.google.com/assets/colab-badge.svg\" alt=\"Open In Colab\"/></a>"
      ]
    },
    {
      "cell_type": "markdown",
      "source": [
        "# **Topic 09 = NumPy Searching Arrays**\n",
        "\n",
        "Searching for specific elements or values in an array is a common operation in data analysis and manipulation. NumPy provides several functions for searching arrays that allow users to locate elements based on specific criteria or conditions.\n",
        "\n",
        "The most basic function for searching arrays is **np.where()**, which returns the indices of the elements in the array that satisfy a given condition. This function can be used to filter arrays based on specific criteria or to extract specific elements from an array.\n",
        "\n",
        "Another useful function for searching arrays is **np.searchsorted()**, which performs a binary search on a sorted array to find the indices where specific values should be inserted to maintain the sorted order. This function is particularly useful for finding the insertion point of a new element in a sorted array.\n",
        "\n",
        "In addition, NumPy provides several other searching functions, such as **np.argmin()**, **np.argmax()**, and **np.nonzero()**, which return the indices of the minimum or maximum values in an array, or the indices of the non-zero elements in an array.\n",
        "\n",
        "In this introduction, we will explore these and other searching functions provided by NumPy, and discuss their practical applications in data analysis and manipulation."
      ],
      "metadata": {
        "id": "p9qRAPVvIJ5c"
      }
    },
    {
      "cell_type": "markdown",
      "source": [
        "**Type(01):numpy.where() function**\n",
        "\n",
        "The NumPy where() function is a powerful tool for finding the indices of array elements that satisfy a certain condition. It allows you to perform operations on arrays that depend on the location of elements that meet a specified criteria. The where() function can be used to replace certain elements of an array with new values, extract specific elements from an array, and perform conditional operations on arrays.\n",
        "\n",
        "The where() function takes a condition as its first argument, and then two optional arguments x and y. It returns an array of the same shape as the condition, where each element is either x or y depending on whether the corresponding element in the condition is True or False."
      ],
      "metadata": {
        "id": "_FcWgK1kLhIT"
      }
    },
    {
      "cell_type": "markdown",
      "source": [
        "**Example 01:Find the indexes where the value is 4:**"
      ],
      "metadata": {
        "id": "3kR09AcSOXHs"
      }
    },
    {
      "cell_type": "code",
      "execution_count": null,
      "metadata": {
        "id": "BV3DZBXvH3dw"
      },
      "outputs": [],
      "source": [
        "import numpy as np\n",
        "arr = np.array([1, 2, 3, 4, 5, 4, 4])\n",
        "x = np.where(arr == 4)\n",
        "print(x)"
      ]
    },
    {
      "cell_type": "markdown",
      "source": [
        "**Explanation**\n",
        "\n",
        "This is a Python code that creates a NumPy array with values [1, 2, 3, 4, 5, 4, 4], and then uses the NumPy function 'where' to find the indices where the value 4 occurs in the array. The output of the code is then printed, which will show the indices where the value 4 occurs in the array."
      ],
      "metadata": {
        "id": "ZNaAAwv0bqPP"
      }
    },
    {
      "cell_type": "markdown",
      "source": [
        "**Example 02:Find the indexes where the values are even:**"
      ],
      "metadata": {
        "id": "Fd_7OEjTPxzs"
      }
    },
    {
      "cell_type": "code",
      "source": [
        "import numpy as np\n",
        "arr = np.array([1, 2, 3, 4, 5, 6, 7, 8])\n",
        "x = np.where(arr%2 == 0)\n",
        "print(x)"
      ],
      "metadata": {
        "id": "h8DXrcuxP6QJ"
      },
      "execution_count": null,
      "outputs": []
    },
    {
      "cell_type": "markdown",
      "source": [
        "**Calculation**\n",
        "\n",
        "1. Creates a NumPy array with values [1, 2, 3, 4, 5, 6, 7, 8].\n",
        "2. Uses the NumPy function 'where' to find the indices of the elements in the array that satisfy the condition arr%2 == 0, which checks if each element is even by testing if the remainder of the element divided by 2 is zero. If the condition is satisfied, the corresponding index of the element is included in the output.\n",
        "3. The output of the 'where' function is then stored in the variable x.\n",
        "\n",
        "4. The print function is used to display the value of x, which will show the indices where the even elements occur in the array.\n",
        "\n",
        "\n",
        "In summary, the code finds the indices of even elements in the array [1, 2, 3, 4, 5, 6, 7, 8] and displays the indices using the print function. The output of this code should be the NumPy array [1, 3, 5, 7], which are the indices of the even elements in the original array."
      ],
      "metadata": {
        "id": "vsxM_2tocEXT"
      }
    },
    {
      "cell_type": "markdown",
      "source": [
        "**Example 03: Find the indexes where the values are odd:**"
      ],
      "metadata": {
        "id": "DQ-auOb5QUSJ"
      }
    },
    {
      "cell_type": "code",
      "source": [
        "import numpy as np\n",
        "arr = np.array([1, 2, 3, 4, 5, 6, 7, 8])\n",
        "x = np.where(arr%2 == 1)\n",
        "print(x)"
      ],
      "metadata": {
        "id": "NNThrRwfQfhN"
      },
      "execution_count": null,
      "outputs": []
    },
    {
      "cell_type": "markdown",
      "source": [
        "**Explanation**\n",
        "\n",
        "1. Creates a NumPy array with values [1, 2, 3, 4, 5, 6, 7, 8].\n",
        "\n",
        "2. Uses the NumPy function 'where' to find the indices of the elements in the array that satisfy the condition arr%2 == 1, which checks if each element is odd by testing if the remainder of the element divided by 2 is one. If the condition is satisfied, the corresponding index of the element is included in the output.\n",
        "3. The output of the 'where' function is then stored in the variable x.\n",
        "\n",
        "4. The print function is used to display the value of x, which will show the indices where the odd elements occur in the array.\n",
        "\n",
        "\n",
        "In summary, the code finds the indices of odd elements in the array [1, 2, 3, 4, 5, 6, 7, 8] and displays the indices using the print function. The output of this code should be the NumPy array [0, 2, 4, 6], which are the indices of the odd elements in the original array."
      ],
      "metadata": {
        "id": "0xYKXIoTcuJw"
      }
    },
    {
      "cell_type": "markdown",
      "source": [
        "**Example 04: Find the indices of all elements in a 2-dimensional array where the value is 3:**"
      ],
      "metadata": {
        "id": "by9Dz6jHRhQ2"
      }
    },
    {
      "cell_type": "code",
      "source": [
        "import numpy as np\n",
        "arr = np.array([[1, 2, 3], [3, 5, 6]])\n",
        "print(\"original array:\",arr)\n",
        "print()\n",
        "idx = np.where(arr == 3)\n",
        "print(idx) "
      ],
      "metadata": {
        "id": "47I32vbqRtnt"
      },
      "execution_count": null,
      "outputs": []
    },
    {
      "cell_type": "markdown",
      "source": [
        "**Explanation**\n",
        "\n",
        "1. Creates a NumPy array with shape (2, 3) containing the values [[1, 2, 3], [3, 5, 6]].\n",
        "2. Uses the NumPy function 'where' to find the indices of the elements in the array that are equal to 3.\n",
        "3.  The output of the 'where' function is a tuple of arrays, where each array corresponds to the indices of the matching elements for each dimension of the input array. In this case, the input array has two dimensions, so the output tuple will have two arrays, one for the row indices and one for the column indices.\n",
        "4. The output of the 'where' function is then stored in the variable idx.\n",
        "5. The print function is used to display the value of idx, which will show the row and column indices where the value 3 occurs in the array.\n",
        "\n",
        "\n",
        "In summary, the code finds the indices of the value 3 in the 2D array [[1, 2, 3], [3, 5, 6]] and displays the row and column indices using the print function. The output of this code should be two NumPy arrays, one containing the row indices [0, 1] and one containing the column indices [2, 0]. This indicates that the value 3 occurs at position (0, 2) and (1, 0) in the input array."
      ],
      "metadata": {
        "id": "pqItz_24dTcX"
      }
    },
    {
      "cell_type": "markdown",
      "source": [
        "**Example 05: Find the indices of all elements in a 2-dimensional array where the value are even:**"
      ],
      "metadata": {
        "id": "LVC5YU8kSegk"
      }
    },
    {
      "cell_type": "code",
      "source": [
        "import numpy as np\n",
        "arr = np.array([[1, 2, 3], [3, 5, 6]])\n",
        "idx = np.where(arr%2 == 0)\n",
        "print(idx) "
      ],
      "metadata": {
        "id": "2Ge4rR9XSgpd"
      },
      "execution_count": null,
      "outputs": []
    },
    {
      "cell_type": "markdown",
      "source": [
        "**Explanation**\n",
        "\n",
        "1. Creates a NumPy array with shape (2, 3) containing the values [[1, 2, 3], [3, 5, 6]].\n",
        "2. Uses the NumPy function 'where' to find the indices of the elements in the array that satisfy the condition arr%2 == 0, which checks if each element is even by testing if the remainder of the element divided by 2 is zero. If the condition is satisfied, the corresponding index of the element is included in the output.\n",
        "3. The output of the 'where' function is a tuple of arrays, where each array corresponds to the indices of the matching elements for each dimension of the input array. In this case, the input array has two dimensions, so the output tuple will have two arrays, one for the row indices and one for the column indices.\n",
        "4. The output of the 'where' function is then stored in the variable idx.\n",
        "5. The print function is used to display the value of idx, which will show the row and column indices where the even values occur in the array.\n",
        "\n",
        "In summary, the code finds the indices of the even values in the 2D array [[1, 2, 3], [3, 5, 6]] and displays the row and column indices using the print function. The output of this code should be two NumPy arrays, one containing the row indices [0, 1] and one containing the column indices [1, 2]. This indicates that the even values occur at position (0, 1), and (1, 2) in the input array."
      ],
      "metadata": {
        "id": "fCQ-eNG3eD_M"
      }
    },
    {
      "cell_type": "markdown",
      "source": [
        "**Example 05: Find the indices of all elements in a 2-dimensional array where the value are odd:**"
      ],
      "metadata": {
        "id": "Y7pq9MGuS7qc"
      }
    },
    {
      "cell_type": "code",
      "source": [
        "import numpy as np\n",
        "arr = np.array([[1, 2, 3], [3, 5, 6]])\n",
        "print(\"original array:\",arr)\n",
        "print()\n",
        "idx = np.where(arr%2 == 1)\n",
        "print(idx)"
      ],
      "metadata": {
        "id": "Xd8yuqxUS-4t"
      },
      "execution_count": null,
      "outputs": []
    },
    {
      "cell_type": "markdown",
      "source": [
        "**Explanation**\n",
        "\n",
        "1. Creates a NumPy array with shape (2, 3) containing the values [[1, 2, 3], [3, 5, 6]].\n",
        "2. Uses the print function to display the original array.\n",
        "The code uses the NumPy function 'where' to find the indices of the elements in the array that satisfy the condition arr%2 == 1, which checks if each element is odd by testing if the remainder of the element divided by 2 is 1. If the condition is satisfied, the corresponding index of the element is included in the output.\n",
        "3. The output of the 'where' function is a tuple of arrays, where each array corresponds to the indices of the matching elements for each dimension of the input array. In this case, the input array has two dimensions, so the output tuple will have two arrays, one for the row indices and one for the column indices.\n",
        "4. The output of the 'where' function is then stored in the variable idx.\n",
        "5. The print function is used to display the value of idx, which will show the row and column indices where the odd values occur in the array.\n",
        "\n",
        "\n",
        "In summary, the code finds the indices of the odd values in the 2D array [[1, 2, 3], [3, 5, 6]] and displays the row and column indices using the print function. The output of this code should be two NumPy arrays, one containing the row indices [0, 0, 1] and one containing the column indices [0, 2, 0]. This indicates that the odd values occur at position (0, 0), (0, 2), and (1, 0) in the input array. The original array is also displayed using the print function."
      ],
      "metadata": {
        "id": "4AMenJk6em6t"
      }
    },
    {
      "cell_type": "markdown",
      "source": [
        "**Example 06: Find the indices of all elements in a 2-dimensional array that are greater than a given value:**"
      ],
      "metadata": {
        "id": "Za5uWNp5TSKz"
      }
    },
    {
      "cell_type": "code",
      "source": [
        "import numpy as np\n",
        "arr = np.array([[1, 2, 3], [4, 5, 6]])\n",
        "print(\"original array:\",arr)\n",
        "print()\n",
        "idx = np.where(arr > 3)\n",
        "print(idx)"
      ],
      "metadata": {
        "id": "YZRvawFnUBg5"
      },
      "execution_count": null,
      "outputs": []
    },
    {
      "cell_type": "markdown",
      "source": [
        "**Explanation**\n",
        "\n",
        "This code uses the NumPy library to create a 2-dimensional array named \"arr\" with two rows and three columns. The first row of the array contains the values 1, 2, and 3, while the second row contains the values 4, 5, and 6.\n",
        "\n",
        "The next line of code uses the \"np.where\" function to find the indices of all elements in the \"arr\" array that are greater than 3. Specifically, it looks for elements in the array that satisfy the condition \"arr > 3\".\n",
        "\n",
        "The \"np.where\" function returns a tuple of two arrays - one array contains the row indices of the qualifying elements, and the other array contains the column indices. These arrays are stored in the variable \"idx\".\n",
        "\n",
        "The final line of code prints out the tuple of arrays \"idx\", which contains the row and column indices of the elements in \"arr\" that are greater than 3."
      ],
      "metadata": {
        "id": "LpLsLzMNW89q"
      }
    },
    {
      "cell_type": "markdown",
      "source": [
        "**Example 07: Find the indices of all elements in a 2-dimensional array that are less than a given value:**"
      ],
      "metadata": {
        "id": "LdydpRegUU5a"
      }
    },
    {
      "cell_type": "code",
      "source": [
        "import numpy as np\n",
        "arr = np.array([[1, 2, 3], [4, 5, 6]])\n",
        "print(\"original array:\",arr)\n",
        "print()\n",
        "idx = np.where(arr < 3)\n",
        "print(idx)"
      ],
      "metadata": {
        "id": "HEqN9yrEUbG3"
      },
      "execution_count": null,
      "outputs": []
    },
    {
      "cell_type": "markdown",
      "source": [
        "**Explanation**\n",
        "\n",
        "The code creates a 2-dimensional array named \"arr\" with two rows and three columns using the NumPy library. The values 1, 2, and 3 are stored in the first row of the array, while the values 4, 5, and 6 are stored in the second row.\n",
        "\n",
        "Next, the code uses the NumPy function \"where\" to find the indices of all elements in the \"arr\" array that are less than 3. The function returns a tuple with two arrays - the first array contains the row indices of the qualifying elements, and the second array contains the column indices.\n",
        "\n",
        "Finally, the code prints out the tuple of arrays, \"idx\", which contains the row and column indices of the qualifying elements in the \"arr\" array."
      ],
      "metadata": {
        "id": "-Jxf5SHOVyj6"
      }
    },
    {
      "cell_type": "markdown",
      "source": [
        "**Type(02): numpy.searchsorted()**"
      ],
      "metadata": {
        "id": "bxcxFWhHe9Va"
      }
    },
    {
      "cell_type": "markdown",
      "source": [
        "**Type(03): np.argmin(), np.argmax()and and np.nonzero()**"
      ],
      "metadata": {
        "id": "hpljH2GnfnWz"
      }
    },
    {
      "cell_type": "markdown",
      "source": [
        "**Example**"
      ],
      "metadata": {
        "id": "oBTvcdJef6xf"
      }
    },
    {
      "cell_type": "code",
      "source": [
        "import numpy as np\n",
        "arr = np.array([3, 5, 1, 0, 2])\n",
        "x = np.argmin(arr)\n",
        "print(\"Index of the minimum element:\", x)\n",
        "print()\n",
        "x = np.argmax(arr)\n",
        "print(\"Index of the maximum element:\", x)\n",
        "print()\n",
        "x = np.nonzero(arr)\n",
        "print(\"Indices of non-zero elements:\", x)"
      ],
      "metadata": {
        "id": "1Oe9QnG3gBA6"
      },
      "execution_count": null,
      "outputs": []
    }
  ]
}