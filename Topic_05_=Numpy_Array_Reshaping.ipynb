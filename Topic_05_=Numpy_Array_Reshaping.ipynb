{
  "nbformat": 4,
  "nbformat_minor": 0,
  "metadata": {
    "colab": {
      "private_outputs": true,
      "provenance": [],
      "include_colab_link": true
    },
    "kernelspec": {
      "name": "python3",
      "display_name": "Python 3"
    },
    "language_info": {
      "name": "python"
    }
  },
  "cells": [
    {
      "cell_type": "markdown",
      "metadata": {
        "id": "view-in-github",
        "colab_type": "text"
      },
      "source": [
        "<a href=\"https://colab.research.google.com/github/ranamaddy/numpy/blob/main/Topic_05_%3DNumpy_Array_Reshaping.ipynb\" target=\"_parent\"><img src=\"https://colab.research.google.com/assets/colab-badge.svg\" alt=\"Open In Colab\"/></a>"
      ]
    },
    {
      "cell_type": "markdown",
      "source": [
        "As the supervisor of **Waqas Baho**, my name is **Rana Mudassar Rasool**. I am writing this statement to confirm that the code in question was written by Waqas Baho under my supervision for a project in Google Colab."
      ],
      "metadata": {
        "id": "jSlAwp-Hf6yI"
      }
    },
    {
      "cell_type": "markdown",
      "source": [
        "# **Topic 05 =Numpy Array Reshaping**\n",
        "\n",
        "Numpy is a popular Python library used for numerical computing. It provides powerful tools for array manipulation, which includes reshaping an array. Reshaping is the process of changing the shape or dimensions of an existing array without changing the data within it.\n",
        "\n",
        "# Here is the syntax for reshaping a numpy array:\n",
        "\n",
        "new_arr = arr.reshape(new_shape)\n",
        "\n",
        "\n",
        "For example, let's say we have a numpy array arr with shape (3, 4):\n",
        "\n",
        "arr = np.array([[1, 2, 3, 4],\n",
        "                [5, 6, 7, 8],\n",
        "                [9, 10, 11, 12]])\n",
        "\n",
        "We can reshape this array into a new array with shape (4, 3) by calling the reshape() method:\n",
        "\n",
        "\n",
        "new_arr = arr.reshape((4, 3))\n",
        "\n",
        "This will create a new array new_arr with the same data as arr, but with the shape (4, 3) instead of (3, 4). Note that the total number of elements in the array must remain the same after reshaping.\n",
        "\n",
        "It's important to keep in mind that when reshaping an array, the new shape must be compatible with the original shape. In other words, the total number of elements in the new shape must be equal to the total number of elements in the original shape.\n",
        "\n",
        "Numpy also provides other methods for reshaping arrays, such as flatten(), ravel(), and transpose(), which can be useful for specific use cases."
      ],
      "metadata": {
        "id": "aD-CCY8D1nmd"
      }
    },
    {
      "cell_type": "markdown",
      "source": [
        "**(01) Reshaping One-Dimension Array**"
      ],
      "metadata": {
        "id": "6VmJKcID1ksL"
      }
    },
    {
      "cell_type": "markdown",
      "source": [
        "**Example 01**"
      ],
      "metadata": {
        "id": "jYJVO28p13Zq"
      }
    },
    {
      "cell_type": "code",
      "execution_count": null,
      "metadata": {
        "id": "p3Hb-fc21lNC"
      },
      "outputs": [],
      "source": [
        "import numpy as np\n",
        "arr = np.array([1, 2, 3, 4, 5, 6, 7, 8, 9, 10, 11, 12])\n",
        "newarr = arr.reshape(4, 3)\n",
        "print(\"Output Reshape:\",newarr)"
      ]
    },
    {
      "cell_type": "markdown",
      "source": [
        "**Explanation**\n",
        "\n",
        "\n",
        "This is a Python code snippet that demonstrates how to use the reshape() method in numpy to reshape a 1-dimensional array into a 2-dimensional array with 4 rows and 3 columns.\n",
        "\n",
        "Here's a breakdown of what each line does:\n",
        "\n",
        "\n",
        "This line imports the numpy library and gives it the alias np.\n",
        "\n",
        "\n",
        "This line creates a 1-dimensional numpy array with the values 1 through 12.\n",
        "\n",
        "\n",
        "This line uses the reshape() method to reshape the arr array into a 2-dimensional array with 4 rows and 3 columns. The resulting array is assigned to the variable newarr.\n",
        "\n",
        "\n",
        "print(\"Output Reshape:\",newarr)\n",
        "This line prints the reshaped array newarr to the console.\n",
        "\n",
        "\n",
        "As you can see, the original 1-dimensional array has been reshaped into a 2-dimensional array with 4 rows and 3 columns."
      ],
      "metadata": {
        "id": "JxaBbAbf2nhl"
      }
    },
    {
      "cell_type": "markdown",
      "source": [
        "**Example 02**"
      ],
      "metadata": {
        "id": "vknMWtqq3D6s"
      }
    },
    {
      "cell_type": "code",
      "source": [
        "import  numpy as np\n",
        "a = np.array([1,2,3,4,5,6,7,8,9,10,11,12])\n",
        "b = a.reshape(2,3,2)\n",
        "\n",
        "print(\"Output Reshape:\",b)\n",
        "print()\n",
        "c= np.ndim(b)\n",
        "print(c)"
      ],
      "metadata": {
        "id": "ORLjTfBr3HDQ"
      },
      "execution_count": null,
      "outputs": []
    },
    {
      "cell_type": "markdown",
      "source": [
        "**Explanation**\n",
        "\n",
        "\n",
        "As you can see, the original 1-dimensional array has been reshaped into a 3-dimensional array with **2 \"layers\"**, **3 rows**, and **2 columns**. The elements of the original array have been distributed into the new shape, maintaining the order of the original elements."
      ],
      "metadata": {
        "id": "3bCp20FE4SQC"
      }
    },
    {
      "cell_type": "markdown",
      "source": [
        "**(02) Reshaping 2- Dimensional Arry**"
      ],
      "metadata": {
        "id": "FAWdld3m5v3W"
      }
    },
    {
      "cell_type": "markdown",
      "source": [
        "**Example 01**"
      ],
      "metadata": {
        "id": "IrBjZeKj5_Ne"
      }
    },
    {
      "cell_type": "code",
      "source": [
        "import numpy as np\n",
        "a = np.array([[1, 2, 3, 4],[5, 6, 7, 8],[9, 10, 11, 12]])               \n",
        "b = a.reshape(6, 2)\n",
        "print(\"Output:\",b)"
      ],
      "metadata": {
        "id": "4mU8moPT6Ch4"
      },
      "execution_count": null,
      "outputs": []
    },
    {
      "cell_type": "markdown",
      "source": [
        "**Explanation:**\n",
        "\n",
        "As you can see, the original 2-dimensional array with 3 rows and 4 columns has been reshaped into a 2-dimensional array with **6 rows and 2 columns**, and the elements of the original array have been distributed into the new shape, maintaining their order."
      ],
      "metadata": {
        "id": "z4T7iiFK8JNp"
      }
    },
    {
      "cell_type": "markdown",
      "source": [
        "**Example 02**"
      ],
      "metadata": {
        "id": "LT2K5o5e-KdD"
      }
    },
    {
      "cell_type": "code",
      "source": [
        "a = np.array([[1, 2, 3, 4], [5, 6, 7, 8], [9, 10, 11, 12],[13, 14, 15, 16], [17, 18, 19, 20], [21, 22, 23, 24]])\n",
        "b = a.reshape(2, 3, 4)\n",
        "\n",
        "print(\"Original array:\", a)\n",
        "print()\n",
        "print(\"Reshaped array:\", b)"
      ],
      "metadata": {
        "id": "NnNPfQoE8_mA"
      },
      "execution_count": null,
      "outputs": []
    },
    {
      "cell_type": "markdown",
      "source": [
        "**Explanation**\n",
        "\n",
        "This code creates a 2-dimensional numpy array a with 6 rows and 4 columns, containing the values from 1 to 24. It then uses the reshape() method to reshape the a array into a 3-dimensional array with **2 \"layers\", 3 rows, and 4 columns**. The resulting array is assigned to the variable b."
      ],
      "metadata": {
        "id": "lGeUVz5R-vP2"
      }
    },
    {
      "cell_type": "markdown",
      "source": [
        "**(03) Reshaping 3-Dimension Array**"
      ],
      "metadata": {
        "id": "BMBVx2lzLOEI"
      }
    },
    {
      "cell_type": "markdown",
      "source": [
        "**Example 01**"
      ],
      "metadata": {
        "id": "V8b4am6wLedD"
      }
    },
    {
      "cell_type": "code",
      "source": [
        "import numpy as np\n",
        "a = np.array([[[1, 2, 3, 4],[5, 6, 7, 8],[9, 10, 11, 12]],[[13, 14, 15, 16],[17, 18, 19, 20],[21, 22, 23, 24]]])\n",
        "print(\"Orignal Array:\",a)\n",
        "print()\n",
        "b = a.reshape(6, 4)\n",
        "print(\"Reshaped Array:\",b)"
      ],
      "metadata": {
        "id": "-KIpOunZLZjt"
      },
      "execution_count": null,
      "outputs": []
    },
    {
      "cell_type": "markdown",
      "source": [
        "**Explanation**\n",
        "\n",
        "The code you provided defines a NumPy array a with shape (2, 3, 4), which means it has two 3x4 matrices inside it. The first matrix contains the values 1 through 12, and the second matrix contains the values 13 through 24.\n",
        "\n",
        "The print() function is used to display the original array a on the screen.\n",
        "\n",
        "Then, the reshape() method is called on a to create a new array b with shape **(6, 4)**. This means that the two 3x4 matrices in a have been flattened into a single 6x4 matrix in b.\n",
        "\n",
        "The print() function is used again to display the reshaped array b on the screen."
      ],
      "metadata": {
        "id": "xcRQqGrGOlnk"
      }
    },
    {
      "cell_type": "markdown",
      "source": [
        "**Example 02**"
      ],
      "metadata": {
        "id": "SPS_UgOVO519"
      }
    },
    {
      "cell_type": "code",
      "source": [
        "a = np.array([[[1, 2, 3, 4],[5, 6, 7, 8],[9, 10, 11, 12]],[[13, 14, 15, 16],[17, 18, 19, 20],[21, 22, 23, 24]]])\n",
        "print(\"Orignal Array:\",a)\n",
        "print()\n",
        "b = a.reshape(1, 24)\n",
        "print(\"Reshaped Array:\",b)"
      ],
      "metadata": {
        "id": "g1XPGYXLO9KK"
      },
      "execution_count": null,
      "outputs": []
    },
    {
      "cell_type": "markdown",
      "source": [
        "**Explanation**"
      ],
      "metadata": {
        "id": "e-CRSIEBPd-y"
      }
    },
    {
      "cell_type": "markdown",
      "source": [
        "The code you provided defines a NumPy array a with shape (2, 3, 4), which means it has two 3x4 matrices inside it. The first matrix contains the values 1 through 12, and the second matrix contains the values 13 through 24.\n",
        "\n",
        "The print() function is used to display the original array a on the screen.\n",
        "\n",
        "Then, the reshape() method is called on a to create a new array b with shape (1, 24). This means that all the values in a have been flattened into a single row of 24 elements in b.\n",
        "\n",
        "The print() function is used again to display the reshaped array b on the screen."
      ],
      "metadata": {
        "id": "2rPRX3RZPjVc"
      }
    }
  ]
}