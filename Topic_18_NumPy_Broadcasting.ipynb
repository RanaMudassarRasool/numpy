{
  "nbformat": 4,
  "nbformat_minor": 0,
  "metadata": {
    "colab": {
      "private_outputs": true,
      "provenance": [],
      "include_colab_link": true
    },
    "kernelspec": {
      "name": "python3",
      "display_name": "Python 3"
    },
    "language_info": {
      "name": "python"
    }
  },
  "cells": [
    {
      "cell_type": "markdown",
      "metadata": {
        "id": "view-in-github",
        "colab_type": "text"
      },
      "source": [
        "<a href=\"https://colab.research.google.com/github/ranamaddy/numpy/blob/main/Topic_18_NumPy_Broadcasting.ipynb\" target=\"_parent\"><img src=\"https://colab.research.google.com/assets/colab-badge.svg\" alt=\"Open In Colab\"/></a>"
      ]
    },
    {
      "cell_type": "markdown",
      "source": [
        "# **Topic 18: NumPy Broadcasting**\n",
        "\n",
        "NumPy broadcasting is a powerful feature that allows arrays of different shapes to be used together in element-wise operations without explicitly replicating the data. It provides a convenient way to perform operations on arrays of different sizes, enabling efficient and concise code.\n",
        "\n",
        "Broadcasting Rules in NumPy:\n",
        "\n",
        "**Rule 1:** Arrays with different number of dimensions are padded with ones on their left until they have the same number of dimensions.\n",
        "\n",
        "Example: A 1-dimensional array (shape: (5,)) can be broadcasted to a 2-dimensional array with shape (1, 5).\n",
        "\n",
        "**Rule 2:** If the sizes along a particular dimension are different, but one of the sizes is 1, then the array with size 1 is stretched to match the larger size.\n",
        "\n",
        "Example: A 2-dimensional array with shape (3, 1) can be broadcasted to a 2-dimensional array with shape (3, 4) by stretching the column.\n",
        "\n",
        "**Rule 3:** If the sizes along a particular dimension are different and none of the sizes are 1, then broadcasting is not possible, and a ValueError is raised.\n",
        "\n",
        "Example: Arrays with shapes (2, 3) and (3, 2) cannot be broadcasted together as their sizes along the second dimension are different and not equal to 1.\n",
        "\n",
        "**Rule 4:** After broadcasting, the sizes of all dimensions must match. If they do not match, a ValueError is raised.\n",
        "\n",
        "Example: Arrays with shapes (3, 1) and (4, 1) cannot be broadcasted together as their sizes along the first dimension do not match.\n",
        "\n",
        "**Rule 5:** Broadcasting is performed along the dimensions of size 1.\n",
        "\n",
        "Example: A 3-dimensional array with shape (1, 5, 1) can be broadcasted to a 3-dimensional array with shape (4, 5, 6) by stretching along the first and third dimensions.\n",
        "\n",
        "\n",
        "Understanding and applying these broadcasting rules is crucial for effectively utilizing NumPy's broadcasting feature. It simplifies operations and eliminates the need for explicit loops, leading to more efficient and readable code."
      ],
      "metadata": {
        "id": "NFdIIzGPCg13"
      }
    },
    {
      "cell_type": "markdown",
      "source": [
        " **Example 01: Broadcasting scalar with array:**"
      ],
      "metadata": {
        "id": "MpS8-Lm1CmH_"
      }
    },
    {
      "cell_type": "code",
      "execution_count": null,
      "metadata": {
        "id": "59uddAt2COl5"
      },
      "outputs": [],
      "source": [
        "import numpy as np\n",
        "a = np.array([1, 2, 3])\n",
        "b = 2\n",
        "c = a + b\n",
        "print(c)\n"
      ]
    },
    {
      "cell_type": "markdown",
      "source": [
        "**Example 02: np.add(): Adds two arrays element-wise, broadcasting the smaller array to match the shape of the larger array.**"
      ],
      "metadata": {
        "id": "EndVdac0JS2a"
      }
    },
    {
      "cell_type": "code",
      "source": [
        "import numpy as np\n",
        "a = np.array([1, 2, 3])\n",
        "print(\"Original array of a:\",a)\n",
        "b = np.array([[4], [5], [6]])\n",
        "print(\"Original array of b:\",b)\n",
        "print()\n",
        "result = np.add(a, b)\n",
        "print(result)\n"
      ],
      "metadata": {
        "id": "jpfJ-tKcJZd7"
      },
      "execution_count": null,
      "outputs": []
    },
    {
      "cell_type": "markdown",
      "source": [
        "**Example 03: np.subtract(): Subtracts two arrays element-wise, broadcasting the smaller array to match the shape of the larger array.**"
      ],
      "metadata": {
        "id": "g0KEDLkDL81E"
      }
    },
    {
      "cell_type": "code",
      "source": [
        "import numpy as np\n",
        "a = np.array([10, 20, 30])\n",
        "b = np.array([[1], [2], [3]])\n",
        "result = np.subtract(a, b)\n",
        "print(result)\n"
      ],
      "metadata": {
        "id": "weti7hdFMCHr"
      },
      "execution_count": null,
      "outputs": []
    },
    {
      "cell_type": "markdown",
      "source": [
        "**Example 04: np.multiply(): Multiplies two arrays element-wise, broadcasting the smaller array to match the shape of the larger array.**"
      ],
      "metadata": {
        "id": "Ss7kTPjAK81k"
      }
    },
    {
      "cell_type": "code",
      "source": [
        "import numpy as np\n",
        "a = np.array([[1, 2], [3, 4]])\n",
        "b = np.array([10, 20])\n",
        "result = np.multiply(a, b)\n",
        "print(result)\n"
      ],
      "metadata": {
        "id": "oXbCaJnvLDyc"
      },
      "execution_count": null,
      "outputs": []
    },
    {
      "cell_type": "markdown",
      "source": [
        "**Example 05: np.divide(): Divides two arrays element-wise, broadcasting the smaller array to match the shape of the larger array.**"
      ],
      "metadata": {
        "id": "o1Htxs8OMQ84"
      }
    },
    {
      "cell_type": "code",
      "source": [
        "import numpy as np\n",
        "a = np.array([[10, 20], [30, 40]])\n",
        "b = np.array([2, 4])\n",
        "result = np.divide(a, b)\n",
        "print(result)\n"
      ],
      "metadata": {
        "id": "Fq7NcMnyMV6P"
      },
      "execution_count": null,
      "outputs": []
    },
    {
      "cell_type": "markdown",
      "source": [
        "**Example 06: np.power(): Raises each element of the array to a specified power, broadcasting the array to match the shape of the exponent.**"
      ],
      "metadata": {
        "id": "NF0Ui1I3Mszf"
      }
    },
    {
      "cell_type": "code",
      "source": [
        "import numpy as np\n",
        "a = np.array([2, 3, 4])\n",
        "b = 3\n",
        "result = np.power(a, b)\n",
        "print(result)\n"
      ],
      "metadata": {
        "id": "FZoUwXYLMxRH"
      },
      "execution_count": null,
      "outputs": []
    },
    {
      "cell_type": "markdown",
      "source": [
        "**Example 07: np.maximum(): Computes the element-wise maximum of two arrays, broadcasting the smaller array to match the shape of the larger array.**"
      ],
      "metadata": {
        "id": "fIRfjaEGNEod"
      }
    },
    {
      "cell_type": "code",
      "source": [
        "import numpy as np\n",
        "a = np.array([[1, 2, 3], [4, 5, 6]])\n",
        "b = np.array([3, 2, 1])\n",
        "result = np.maximum(a, b)\n",
        "print(result)\n"
      ],
      "metadata": {
        "id": "lpmWEblNNOcX"
      },
      "execution_count": null,
      "outputs": []
    },
    {
      "cell_type": "markdown",
      "source": [
        "**Example 08: np.minimum(): Computes the element-wise minimum of two arrays, broadcasting the smaller array to match the shape of the larger array.**"
      ],
      "metadata": {
        "id": "ionR8DnaNXqQ"
      }
    },
    {
      "cell_type": "code",
      "source": [
        "import numpy as np\n",
        "a = np.array([[1, 2, 3], [4, 5, 6]])\n",
        "b = np.array([3, 4, 2])\n",
        "result = np.minimum(a, b)\n",
        "print(result)\n"
      ],
      "metadata": {
        "id": "RZB7_ii7NdKE"
      },
      "execution_count": null,
      "outputs": []
    }
  ]
}