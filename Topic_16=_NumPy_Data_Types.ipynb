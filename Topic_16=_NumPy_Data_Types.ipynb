{
  "nbformat": 4,
  "nbformat_minor": 0,
  "metadata": {
    "colab": {
      "private_outputs": true,
      "provenance": [],
      "include_colab_link": true
    },
    "kernelspec": {
      "name": "python3",
      "display_name": "Python 3"
    },
    "language_info": {
      "name": "python"
    }
  },
  "cells": [
    {
      "cell_type": "markdown",
      "metadata": {
        "id": "view-in-github",
        "colab_type": "text"
      },
      "source": [
        "<a href=\"https://colab.research.google.com/github/ranamaddy/numpy/blob/main/Topic_16%3D_NumPy_Data_Types.ipynb\" target=\"_parent\"><img src=\"https://colab.research.google.com/assets/colab-badge.svg\" alt=\"Open In Colab\"/></a>"
      ]
    },
    {
      "cell_type": "markdown",
      "source": [
        "# **Topic 16 = NumPy Data Types**\n",
        "\n",
        "\n",
        "NumPy is a Python library that is used for scientific computing, and it provides a powerful array data type called ndarray. The ndarray can be used to store homogeneous data (i.e., data of the same type) in a multidimensional array.\n",
        "\n",
        "NumPy supports a range of data types that can be used with the ndarray. These data types are specified using a single character code, which is used as a shorthand notation for the data type. Here are some of the most commonly used data types in NumPy:\n",
        "\n",
        "1. int: integer( used to represent integer numbers. e.g. -1, -2, -3)\n",
        "\n",
        "2. float: floating-point number(used to represent real numbers. e.g. 1.2, 42.42)\n",
        "\n",
        "3. complex: complex number( used to represent complex numbers. e.g. 1.0 + 2.0j, 1.5 + 2.5j)\n",
        "\n",
        "4. bool: Boolean (True or False)\n",
        "\n",
        "5. object: Python object\n",
        "\n",
        "6. string_: fixed-length string( used to represent text data, the text is given under quote marks. e.g. \"ABCD\")\n",
        "\n",
        "7. unicode_: fixed-length Unicode string\n",
        "\n",
        "Each data type has a corresponding bit depth, which determines the range of values that can be represented by the data type. For example, an int16 can represent integers between -32,768 and 32,767, while an int64 can represent integers between -9,223,372,036,854,775,808 and 9,223,372,036,854,775,807.\n",
        "\n",
        "NumPy also supports structured data types, which allow you to create arrays with fields that can be different data types. Structured data types are specified using a dictionary with keys that represent field names and values that represent the data type of each field.\n",
        "\n",
        "\n",
        "\n",
        "1. int8: 8-bit signed integer (-128 to 127)\n",
        "2. uint8: 8-bit unsigned integer (0 to 255)\n",
        "3. int16: 16-bit signed integer (-32768 to 32767)\n",
        "4. uint16: 16-bit unsigned integer (0 to 65535)\n",
        "5. int32: 32-bit signed integer (-2147483648 to 2147483647)\n",
        "5. uint32: 32-bit unsigned integer (0 to 4294967295)\n",
        "6. int64: 64-bit signed integer (-9223372036854775808 to 7. 9223372036854775807)\n",
        "8. uint64: 64-bit unsigned integer (0 to 18446744073709551615)\n",
        "9. float16: 16-bit floating-point number\n",
        "10. float32: 32-bit floating-point number\n",
        "11. float64: 64-bit floating-point number\n",
        "12. complex64: 64-bit complex number\n",
        "13. complex128: 128-bit complex number\n",
        "14. bool: Boolean (True or False)\n",
        "15. object: Python object type, can hold any data type\n",
        "\n",
        "These data types can be used to define the type of elements in a NumPy array or matrix, and they have different ranges and precision depending on the data type. It's important to choose the appropriate data type based on the type of data being stored to optimize memory usage and computation speed.\n",
        "\n",
        "\n",
        "NumPy has some extra data types, and refer to data types with one character, like i for integers, u for unsigned integers etc.\n",
        "\n",
        "Below is a list of all data types in NumPy and the characters used to represent them.\n",
        "\n",
        "1. i - integer\n",
        "2. b - boolean\n",
        "3. u - unsigned integer\n",
        "4. f - float\n",
        "5. c - complex float\n",
        "6. m - timedelta\n",
        "7. M - datetime\n",
        "8. O - object\n",
        "9. S - string\n",
        "10. U - unicode string\n",
        "11. V - fixed chunk of memory for other type ( void )"
      ],
      "metadata": {
        "id": "SKkYlRa61Kim"
      }
    },
    {
      "cell_type": "markdown",
      "source": [
        "**Example 01: Get the data type of an array object:**"
      ],
      "metadata": {
        "id": "86Q0lRJnB0R9"
      }
    },
    {
      "cell_type": "code",
      "source": [
        "import numpy as np\n",
        "arr = np.array([1, 2, 3, 4])\n",
        "print(arr.dtype)"
      ],
      "metadata": {
        "id": "9_m1fH08B6i6"
      },
      "execution_count": null,
      "outputs": []
    },
    {
      "cell_type": "markdown",
      "source": [
        "**Explanation**\n",
        "\n",
        "The code creates a NumPy array named \"arr\" with the values [1, 2, 3, 4].\n",
        "\n",
        "The \"dtype\" property of a NumPy array specifies the data type of the array elements.\n",
        "\n",
        "The \"print(arr.dtype)\" statement prints out the data type of the elements in the \"arr\" array, which is likely to be \"int64\" (64-bit integer) in this case, as the default data type for integers in NumPy is \"int64\"."
      ],
      "metadata": {
        "id": "cDHQSEgxIpKJ"
      }
    },
    {
      "cell_type": "markdown",
      "source": [
        "**Example 02: Get the data type of an array containing strings:**"
      ],
      "metadata": {
        "id": "IanGzdH2CQL-"
      }
    },
    {
      "cell_type": "code",
      "source": [
        "import numpy as np\n",
        "arr = np.array(['apple', 'banana', 'cherry'])\n",
        "print(arr.dtype)"
      ],
      "metadata": {
        "id": "BJalXgSUCVgr"
      },
      "execution_count": null,
      "outputs": []
    },
    {
      "cell_type": "markdown",
      "source": [
        "**Explanation**\n",
        "\n",
        "The given code creates a NumPy array called \"arr\" with the values ['apple', 'banana', 'cherry'].\n",
        "\n",
        "The \"dtype\" property of a NumPy array specifies the data type of the array elements.\n",
        "\n",
        "Since the elements in the \"arr\" array are strings, the \"print(arr.dtype)\" statement will output the data type as \"string\" or \"object\", depending on the version of NumPy being used."
      ],
      "metadata": {
        "id": "qsfTMKX8JXHE"
      }
    },
    {
      "cell_type": "markdown",
      "source": [
        "**Example 03: Create an array with data type 4 bytes integer:**"
      ],
      "metadata": {
        "id": "9e8mtSoGCq3E"
      }
    },
    {
      "cell_type": "code",
      "source": [
        "import numpy as np\n",
        "arr = np.array([1, 2, 3, 4], dtype='i4')\n",
        "print(arr)\n",
        "print(arr.dtype)"
      ],
      "metadata": {
        "id": "FcaW-EzhCx6h"
      },
      "execution_count": null,
      "outputs": []
    },
    {
      "cell_type": "markdown",
      "source": [
        "**Explanation**\n",
        "\n",
        "The given code creates a NumPy array called \"arr\" with the values [1, 2, 3, 4], and explicitly specifies the data type of the elements to be \"i4\" using the \"dtype\" parameter.\n",
        "\n",
        "The \"i4\" data type refers to a 32-bit integer, meaning each element in the array is represented using 4 bytes (32 bits) of memory.\n",
        "\n",
        "The \"print(arr)\" statement outputs the values of the \"arr\" array, which will be [1, 2, 3, 4].\n",
        "\n",
        "The \"print(arr.dtype)\" statement outputs the data type of the elements in the \"arr\" array, which will be \"int32\" as \"i4\" is an alias for 32-bit integer data type in NumPy."
      ],
      "metadata": {
        "id": "3puuHJMPKI7m"
      }
    },
    {
      "cell_type": "markdown",
      "source": [
        "**Example 04: Change data type from float to integer by using 'i' as parameter value:**"
      ],
      "metadata": {
        "id": "uPqabs5nC8_D"
      }
    },
    {
      "cell_type": "code",
      "source": [
        "import numpy as np\n",
        "arr = np.array([1.1, 2.1, 3.1])\n",
        "newarr = arr.astype('i')\n",
        "print(newarr)\n",
        "print(newarr.dtype)"
      ],
      "metadata": {
        "id": "Yvmk1as2DATb"
      },
      "execution_count": null,
      "outputs": []
    },
    {
      "cell_type": "markdown",
      "source": [
        "**Explanation**\n",
        "\n",
        "The given code creates a NumPy array called \"arr\" with the values [1, 2, 3, 4], and explicitly specifies the data type of the elements to be \"i4\" using the \"dtype\" parameter.\n",
        "\n",
        "The \"i4\" data type refers to a 32-bit integer, meaning each element in the array is represented using 4 bytes (32 bits) of memory.\n",
        "\n",
        "The \"print(arr)\" statement outputs the values of the \"arr\" array, which will be [1, 2, 3, 4].\n",
        "\n",
        "The \"print(arr.dtype)\" statement outputs the data type of the elements in the \"arr\" array, which will be \"int32\" as \"i4\" is an alias for 32-bit integer data type in NumPy.\n",
        "\n",
        "\n",
        "\n",
        "\n",
        "\n",
        "\n"
      ],
      "metadata": {
        "id": "jOVwKSdOKslw"
      }
    },
    {
      "cell_type": "markdown",
      "source": [
        "**Example 05: Change data type from float to integer by using int as parameter value:**"
      ],
      "metadata": {
        "id": "i-BqUGoADJKo"
      }
    },
    {
      "cell_type": "code",
      "source": [
        "import numpy as np\n",
        "arr = np.array([1.1, 2.1, 3.1])\n",
        "newarr = arr.astype(int)\n",
        "print(newarr)\n",
        "print(newarr.dtype)"
      ],
      "metadata": {
        "id": "__QugsoODT5A"
      },
      "execution_count": null,
      "outputs": []
    },
    {
      "cell_type": "markdown",
      "source": [
        "**Explanation**\n",
        "\n",
        "This code creates a NumPy array called arr with three decimal numbers: 1.1, 2.1, and 3.1.\n",
        "\n",
        "The second line of code, newarr = arr.astype(int), creates a new NumPy array called newarr by converting the data type of the original arr array to integers. This is done using the astype method with the argument int, which specifies that the data type of the new array should be integer.\n",
        "\n",
        "The third line of code, print(newarr), outputs the contents of the newarr array, which will be the integer equivalents of the decimal numbers in arr. In this case, the output will be [1 2 3].\n",
        "\n",
        "The fourth line of code, print(newarr.dtype), outputs the data type of the newarr array, which will be int32 in this case."
      ],
      "metadata": {
        "id": "XxBV3OBPRYuE"
      }
    },
    {
      "cell_type": "markdown",
      "source": [
        "**Example 06: Change data type from integer to boolean:**"
      ],
      "metadata": {
        "id": "oy3ZqXk2Dd_F"
      }
    },
    {
      "cell_type": "code",
      "source": [
        "import numpy as np\n",
        "\n",
        "arr = np.array([1, 0, 3])\n",
        "\n",
        "newarr = arr.astype(bool)\n",
        "\n",
        "print(newarr)\n",
        "print(newarr.dtype)"
      ],
      "metadata": {
        "id": "aN_mQzpeDsIE"
      },
      "execution_count": null,
      "outputs": []
    },
    {
      "cell_type": "markdown",
      "source": [
        "**Explanation**\n",
        "This code creates a NumPy array called arr with three integers: 1, 0, and 3.\n",
        "\n",
        "The second line of code, newarr = arr.astype(bool), creates a new NumPy array called newarr by converting the data type of the original arr array to boolean. This is done using the astype method with the argument bool, which specifies that the data type of the new array should be boolean.\n",
        "\n",
        "The third line of code, print(newarr), outputs the contents of the newarr array, which will be the boolean equivalents of the integers in arr. In this case, the output will be [ True False True]. Note that bool values are displayed as True and False in Python.\n",
        "\n",
        "The fourth line of code, print(newarr.dtype), outputs the data type of the newarr array, which will be bool in this case."
      ],
      "metadata": {
        "id": "GXWcFbTbRyV8"
      }
    },
    {
      "cell_type": "markdown",
      "source": [
        "**Example 01: Create an array with data type string:**"
      ],
      "metadata": {
        "id": "M3nluUVoBL2Y"
      }
    },
    {
      "cell_type": "code",
      "source": [
        "import numpy as np\n",
        "\n",
        "arr = np.array([1, 2, 3, 4], dtype='S')\n",
        "\n",
        "print(arr)\n",
        "print(arr.dtype)"
      ],
      "metadata": {
        "id": "ry5dxrdyBP_L"
      },
      "execution_count": null,
      "outputs": []
    },
    {
      "cell_type": "markdown",
      "source": [
        "**Explanation**\n",
        "The given code creates a NumPy array named \"arr\" which contains four elements [1, 2, 3, 4]. The \"dtype='S'\" parameter is used to specify the data type of the array elements as \"S\", which stands for string.\n",
        "\n",
        "When we print the array using the first print statement, it will display [b'1', b'2', b'3', b'4'] because we specified the data type as \"S\" and it represents each element as a byte.\n",
        "\n",
        "The second print statement outputs the data type of the array elements, which will display \"S1\" because we specified the data type as \"S\" and it takes up one byte of memory. Therefore, each element in the array is represented using one byte."
      ],
      "metadata": {
        "id": "YEGEuYKxTBKZ"
      }
    },
    {
      "cell_type": "code",
      "execution_count": null,
      "metadata": {
        "id": "PW33M15e1BOa"
      },
      "outputs": [],
      "source": [
        "import numpy as np\n",
        "# int8\n",
        "x = np.array([1, 2, 3], dtype=np.int8)\n",
        "print(x)"
      ]
    },
    {
      "cell_type": "markdown",
      "source": [
        "**Explanation:**\n",
        "\n",
        "The given code creates a NumPy array named \"x\" which contains three elements [1, 2, 3]. The \"dtype=np.int8\" parameter is used to specify the data type of the array elements as 8-bit integer.\n",
        "\n",
        "The maximum value that can be stored in an 8-bit integer is 127 and the minimum value is -128. Therefore, any value outside this range will result in an overflow or underflow error.\n",
        "\n",
        "When we print the array using the print statement, it will display [1, 2, 3] because the values fit within the range of an 8-bit integer.\n",
        "\n",
        "By specifying the data type as np.int8, we can reduce the memory usage of the array as compared to using a larger data type like np.int32 or np.float64, which can save memory especially for large arrays."
      ],
      "metadata": {
        "id": "OXDovkcuTcol"
      }
    },
    {
      "cell_type": "code",
      "source": [
        "import numpy as np\n",
        "# uint8\n",
        "x = np.array([255, 128, 0], dtype=np.uint8)\n",
        "print(x)"
      ],
      "metadata": {
        "id": "Kvx7Xnub87gQ"
      },
      "execution_count": null,
      "outputs": []
    },
    {
      "cell_type": "markdown",
      "source": [
        "**Explanation**\n",
        "\n",
        "The given code creates a NumPy array named \"x\" which contains three elements [255, 128, 0]. The \"dtype=np.uint8\" parameter is used to specify the data type of the array elements as 8-bit unsigned integer.\n",
        "\n",
        "Unlike signed integers, unsigned integers only store positive numbers and zero. In this case, each element of the array can store values between 0 and 255.\n",
        "\n",
        "When we print the array using the print statement, it will display [255, 128, 0] because each value fits within the range of an 8-bit unsigned integer.\n",
        "\n",
        "By specifying the data type as np.uint8, we can further reduce the memory usage of the array as compared to using a larger data type like np.int32 or np.float64, which can save memory especially for large arrays."
      ],
      "metadata": {
        "id": "jXD3fTvhUA4e"
      }
    },
    {
      "cell_type": "code",
      "source": [
        "import numpy as np\n",
        "# int16\n",
        "x = np.array([-32768, 0, 32767], dtype=np.int16)\n",
        "print(x)"
      ],
      "metadata": {
        "id": "4pGXBvPM9Azm"
      },
      "execution_count": null,
      "outputs": []
    },
    {
      "cell_type": "markdown",
      "source": [
        "**Explanation**\n",
        "\n",
        "The given code creates a NumPy array named \"x\" which contains three elements [-32768, 0, 32767]. The \"dtype=np.int16\" parameter is used to specify the data type of the array elements as 16-bit integer.\n",
        "\n",
        "The maximum value that can be stored in a 16-bit integer is 32767 and the minimum value is -32768. Therefore, the first and last elements in the array are at the extreme ends of the range and any value outside this range will result in an overflow or underflow error.\n",
        "\n",
        "When we print the array using the print statement, it will display [-32768, 0, 32767] because each value fits within the range of a 16-bit integer.\n",
        "\n",
        "By specifying the data type as np.int16, we can reduce the memory usage of the array as compared to using a larger data type like np.int32 or np.float64, which can save memory especially for large arrays. However, it's important to ensure that the values stored in the array don't exceed the range of the specified data type to avoid overflow or underflow errors."
      ],
      "metadata": {
        "id": "l2CIxwSrUfAv"
      }
    },
    {
      "cell_type": "code",
      "source": [
        "import numpy as np\n",
        "# uint16\n",
        "x = np.array([65535, 32768, 0], dtype=np.uint16)\n",
        "print(x)"
      ],
      "metadata": {
        "id": "-YoggsI39F3Z"
      },
      "execution_count": null,
      "outputs": []
    },
    {
      "cell_type": "markdown",
      "source": [
        "**Explanation**\n",
        "\n",
        "The given code creates a NumPy array named \"x\" which contains three elements [65535, 32768, 0]. The \"dtype=np.uint16\" parameter is used to specify the data type of the array elements as 16-bit unsigned integer.\n",
        "\n",
        "Unlike signed integers, unsigned integers only store positive numbers and zero. In this case, each element of the array can store values between 0 and 65535.\n",
        "\n",
        "When we print the array using the print statement, it will display [65535, 32768, 0] because each value fits within the range of a 16-bit unsigned integer.\n",
        "\n",
        "By specifying the data type as np.uint16, we can further reduce the memory usage of the array as compared to using a larger data type like np.int32 or np.float64, which can save memory especially for large arrays. However, it's important to ensure that the values stored in the array don't exceed the range of the specified data type to avoid overflow errors"
      ],
      "metadata": {
        "id": "TDJoSanpXGRc"
      }
    },
    {
      "cell_type": "code",
      "source": [
        "import numpy as np\n",
        "# int32\n",
        "x = np.array([-2147483648, 0, 2147483647], dtype=np.int32)\n",
        "print(x)"
      ],
      "metadata": {
        "id": "vkYUvYfy9Nbt"
      },
      "execution_count": null,
      "outputs": []
    },
    {
      "cell_type": "markdown",
      "source": [
        "**Explanation**\n",
        "\n",
        "The given code creates a NumPy array named \"x\" which contains three elements [-2147483648, 0, 2147483647]. The \"dtype=np.int32\" parameter is used to specify the data type of the array elements as 32-bit integer.\n",
        "\n",
        "The maximum value that can be stored in a 32-bit integer is 2147483647 and the minimum value is -2147483648. Therefore, the first and last elements in the array are at the extreme ends of the range and any value outside this range will result in an overflow or underflow error.\n",
        "\n",
        "When we print the array using the print statement, it will display [-2147483648, 0, 2147483647] because each value fits within the range of a 32-bit integer.\n",
        "\n",
        "By specifying the data type as np.int32, we can ensure that the array can store larger values and perform arithmetic operations accurately without overflow or underflow errors. However, the memory usage of the array will be larger than using a smaller data type like np.int16 or np.uint16."
      ],
      "metadata": {
        "id": "u7Vc7sNeXcIh"
      }
    },
    {
      "cell_type": "code",
      "source": [
        "import numpy as np\n",
        "# uint32\n",
        "x = np.array([4294967295, 2147483648, 0], dtype=np.uint32)\n",
        "print(x)"
      ],
      "metadata": {
        "id": "kwqkU0239Rmu"
      },
      "execution_count": null,
      "outputs": []
    },
    {
      "cell_type": "markdown",
      "source": [
        "**Explanation**\n",
        "\n",
        "The given code creates a NumPy array named \"x\" which contains three elements [4294967295, 2147483648, 0]. The \"dtype=np.uint32\" parameter is used to specify the data type of the array elements as 32-bit unsigned integer.\n",
        "\n",
        "Unlike signed integers, unsigned integers only store positive numbers and zero. In this case, each element of the array can store values between 0 and 4294967295.\n",
        "\n",
        "When we print the array using the print statement, it will display [4294967295, 2147483648, 0] because each value fits within the range of a 32-bit unsigned integer.\n",
        "\n",
        "By specifying the data type as np.uint32, we can ensure that the array can store larger positive values and perform arithmetic operations accurately without overflow errors. However, it's important to ensure that the values stored in the array don't exceed the range of the specified data type to avoid overflow errors.\n",
        "\n",
        "The memory usage of the array will be larger than using a smaller data type like np.uint16, but it can be more memory-efficient than using a signed integer data type like np.int32 as it can store a larger range of values without requiring the additional bit for the sign."
      ],
      "metadata": {
        "id": "Xp6EsahGX66r"
      }
    },
    {
      "cell_type": "code",
      "source": [
        "import numpy as np\n",
        "# int64\n",
        "x = np.array([-9223372036854775808, 0, 9223372036854775807], dtype=np.int64)\n",
        "print(x)"
      ],
      "metadata": {
        "id": "fJHftwlD9ZHS"
      },
      "execution_count": null,
      "outputs": []
    },
    {
      "cell_type": "code",
      "source": [
        "import numpy as np\n",
        "# uint64\n",
        "x = np.array([18446744073709551615, 9223372036854775808, 0], dtype=np.uint64)\n",
        "print(x)"
      ],
      "metadata": {
        "id": "0gMiqGO09eDW"
      },
      "execution_count": null,
      "outputs": []
    },
    {
      "cell_type": "code",
      "source": [
        "import numpy as np\n",
        "# float16\n",
        "x = np.array([1.0, 2.0, 3.0], dtype=np.float16)\n",
        "print(x)"
      ],
      "metadata": {
        "id": "jPFtrxvc9kdA"
      },
      "execution_count": null,
      "outputs": []
    },
    {
      "cell_type": "code",
      "source": [
        "import numpy as np\n",
        "# float32\n",
        "x = np.array([1.0, 2.0, 3.0], dtype=np.float32)\n",
        "print(x)"
      ],
      "metadata": {
        "id": "euj78TRG9o90"
      },
      "execution_count": null,
      "outputs": []
    },
    {
      "cell_type": "code",
      "source": [
        "import numpy as np\n",
        "# float64\n",
        "x = np.array([1.0, 2.0, 3.0], dtype=np.float64)\n",
        "print(x)"
      ],
      "metadata": {
        "id": "7du0arQ09vIw"
      },
      "execution_count": null,
      "outputs": []
    },
    {
      "cell_type": "code",
      "source": [
        "import numpy as np\n",
        "# complex64\n",
        "x = np.array([1+2j, 3+4j, 5+6j], dtype=np.complex64)\n",
        "print(x)"
      ],
      "metadata": {
        "id": "0bJ3Lcjn91j_"
      },
      "execution_count": null,
      "outputs": []
    },
    {
      "cell_type": "code",
      "source": [
        "import numpy as np\n",
        "# complex128\n",
        "x = np.array([1+2j, 3+4j, 5+6j], dtype=np.complex128)\n",
        "print(x)"
      ],
      "metadata": {
        "id": "TaNxizz89-K6"
      },
      "execution_count": null,
      "outputs": []
    },
    {
      "cell_type": "code",
      "source": [
        "import numpy as np\n",
        "# bool\n",
        "x = np.array([True, False, True], dtype=np.bool)\n",
        "print(x)"
      ],
      "metadata": {
        "id": "jpBwO7pr-EP_"
      },
      "execution_count": null,
      "outputs": []
    },
    {
      "cell_type": "code",
      "source": [
        " import numpy as np\n",
        "# object\n",
        "x = np.array([1, \"two\", [3, 4, 5]], dtype=np.object)\n",
        "print(x)"
      ],
      "metadata": {
        "id": "idBIi2jv-K3g"
      },
      "execution_count": null,
      "outputs": []
    }
  ]
}